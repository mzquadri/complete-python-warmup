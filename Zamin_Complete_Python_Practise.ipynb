{
 "cells": [
  {
   "cell_type": "code",
   "execution_count": 42,
   "id": "169cdadf",
   "metadata": {},
   "outputs": [],
   "source": [
    "import pandas as pd\n",
    "import numpy as np\n",
    "import scipy as sp"
   ]
  },
  {
   "cell_type": "code",
   "execution_count": 43,
   "id": "98084fd8",
   "metadata": {},
   "outputs": [],
   "source": [
    "df_car_data = pd.read_csv('C:\\\\Users\\\\DELL\\\\Python Projects\\\\car_data.csv')"
   ]
  },
  {
   "cell_type": "code",
   "execution_count": 44,
   "id": "b9ac7d3c",
   "metadata": {},
   "outputs": [
    {
     "data": {
      "text/html": [
       "<div>\n",
       "<style scoped>\n",
       "    .dataframe tbody tr th:only-of-type {\n",
       "        vertical-align: middle;\n",
       "    }\n",
       "\n",
       "    .dataframe tbody tr th {\n",
       "        vertical-align: top;\n",
       "    }\n",
       "\n",
       "    .dataframe thead th {\n",
       "        text-align: right;\n",
       "    }\n",
       "</style>\n",
       "<table border=\"1\" class=\"dataframe\">\n",
       "  <thead>\n",
       "    <tr style=\"text-align: right;\">\n",
       "      <th></th>\n",
       "      <th>User ID</th>\n",
       "      <th>Gender</th>\n",
       "      <th>Age</th>\n",
       "      <th>AnnualSalary</th>\n",
       "      <th>Purchased</th>\n",
       "    </tr>\n",
       "  </thead>\n",
       "  <tbody>\n",
       "    <tr>\n",
       "      <th>0</th>\n",
       "      <td>385</td>\n",
       "      <td>Male</td>\n",
       "      <td>35</td>\n",
       "      <td>20000</td>\n",
       "      <td>0</td>\n",
       "    </tr>\n",
       "    <tr>\n",
       "      <th>1</th>\n",
       "      <td>681</td>\n",
       "      <td>Male</td>\n",
       "      <td>40</td>\n",
       "      <td>43500</td>\n",
       "      <td>0</td>\n",
       "    </tr>\n",
       "    <tr>\n",
       "      <th>2</th>\n",
       "      <td>353</td>\n",
       "      <td>Male</td>\n",
       "      <td>49</td>\n",
       "      <td>74000</td>\n",
       "      <td>0</td>\n",
       "    </tr>\n",
       "    <tr>\n",
       "      <th>3</th>\n",
       "      <td>895</td>\n",
       "      <td>Male</td>\n",
       "      <td>40</td>\n",
       "      <td>107500</td>\n",
       "      <td>1</td>\n",
       "    </tr>\n",
       "    <tr>\n",
       "      <th>4</th>\n",
       "      <td>661</td>\n",
       "      <td>Male</td>\n",
       "      <td>25</td>\n",
       "      <td>79000</td>\n",
       "      <td>0</td>\n",
       "    </tr>\n",
       "  </tbody>\n",
       "</table>\n",
       "</div>"
      ],
      "text/plain": [
       "   User ID Gender  Age  AnnualSalary  Purchased\n",
       "0      385   Male   35         20000          0\n",
       "1      681   Male   40         43500          0\n",
       "2      353   Male   49         74000          0\n",
       "3      895   Male   40        107500          1\n",
       "4      661   Male   25         79000          0"
      ]
     },
     "execution_count": 44,
     "metadata": {},
     "output_type": "execute_result"
    }
   ],
   "source": [
    "df_car_data.head()"
   ]
  },
  {
   "cell_type": "code",
   "execution_count": 45,
   "id": "398b180a",
   "metadata": {},
   "outputs": [],
   "source": [
    "df_car_data['MonthlySalary'] = df_car_data['AnnualSalary']/12"
   ]
  },
  {
   "cell_type": "code",
   "execution_count": 46,
   "id": "ccb2f9c6",
   "metadata": {},
   "outputs": [
    {
     "data": {
      "text/html": [
       "<div>\n",
       "<style scoped>\n",
       "    .dataframe tbody tr th:only-of-type {\n",
       "        vertical-align: middle;\n",
       "    }\n",
       "\n",
       "    .dataframe tbody tr th {\n",
       "        vertical-align: top;\n",
       "    }\n",
       "\n",
       "    .dataframe thead th {\n",
       "        text-align: right;\n",
       "    }\n",
       "</style>\n",
       "<table border=\"1\" class=\"dataframe\">\n",
       "  <thead>\n",
       "    <tr style=\"text-align: right;\">\n",
       "      <th></th>\n",
       "      <th>User ID</th>\n",
       "      <th>Gender</th>\n",
       "      <th>Age</th>\n",
       "      <th>AnnualSalary</th>\n",
       "      <th>Purchased</th>\n",
       "      <th>MonthlySalary</th>\n",
       "    </tr>\n",
       "  </thead>\n",
       "  <tbody>\n",
       "    <tr>\n",
       "      <th>0</th>\n",
       "      <td>385</td>\n",
       "      <td>Male</td>\n",
       "      <td>35</td>\n",
       "      <td>20000</td>\n",
       "      <td>0</td>\n",
       "      <td>1666.666667</td>\n",
       "    </tr>\n",
       "    <tr>\n",
       "      <th>1</th>\n",
       "      <td>681</td>\n",
       "      <td>Male</td>\n",
       "      <td>40</td>\n",
       "      <td>43500</td>\n",
       "      <td>0</td>\n",
       "      <td>3625.000000</td>\n",
       "    </tr>\n",
       "    <tr>\n",
       "      <th>2</th>\n",
       "      <td>353</td>\n",
       "      <td>Male</td>\n",
       "      <td>49</td>\n",
       "      <td>74000</td>\n",
       "      <td>0</td>\n",
       "      <td>6166.666667</td>\n",
       "    </tr>\n",
       "    <tr>\n",
       "      <th>3</th>\n",
       "      <td>895</td>\n",
       "      <td>Male</td>\n",
       "      <td>40</td>\n",
       "      <td>107500</td>\n",
       "      <td>1</td>\n",
       "      <td>8958.333333</td>\n",
       "    </tr>\n",
       "    <tr>\n",
       "      <th>4</th>\n",
       "      <td>661</td>\n",
       "      <td>Male</td>\n",
       "      <td>25</td>\n",
       "      <td>79000</td>\n",
       "      <td>0</td>\n",
       "      <td>6583.333333</td>\n",
       "    </tr>\n",
       "    <tr>\n",
       "      <th>...</th>\n",
       "      <td>...</td>\n",
       "      <td>...</td>\n",
       "      <td>...</td>\n",
       "      <td>...</td>\n",
       "      <td>...</td>\n",
       "      <td>...</td>\n",
       "    </tr>\n",
       "    <tr>\n",
       "      <th>995</th>\n",
       "      <td>863</td>\n",
       "      <td>Male</td>\n",
       "      <td>38</td>\n",
       "      <td>59000</td>\n",
       "      <td>0</td>\n",
       "      <td>4916.666667</td>\n",
       "    </tr>\n",
       "    <tr>\n",
       "      <th>996</th>\n",
       "      <td>800</td>\n",
       "      <td>Female</td>\n",
       "      <td>47</td>\n",
       "      <td>23500</td>\n",
       "      <td>0</td>\n",
       "      <td>1958.333333</td>\n",
       "    </tr>\n",
       "    <tr>\n",
       "      <th>997</th>\n",
       "      <td>407</td>\n",
       "      <td>Female</td>\n",
       "      <td>28</td>\n",
       "      <td>138500</td>\n",
       "      <td>1</td>\n",
       "      <td>11541.666667</td>\n",
       "    </tr>\n",
       "    <tr>\n",
       "      <th>998</th>\n",
       "      <td>299</td>\n",
       "      <td>Female</td>\n",
       "      <td>48</td>\n",
       "      <td>134000</td>\n",
       "      <td>1</td>\n",
       "      <td>11166.666667</td>\n",
       "    </tr>\n",
       "    <tr>\n",
       "      <th>999</th>\n",
       "      <td>687</td>\n",
       "      <td>Female</td>\n",
       "      <td>44</td>\n",
       "      <td>73500</td>\n",
       "      <td>0</td>\n",
       "      <td>6125.000000</td>\n",
       "    </tr>\n",
       "  </tbody>\n",
       "</table>\n",
       "<p>1000 rows × 6 columns</p>\n",
       "</div>"
      ],
      "text/plain": [
       "     User ID  Gender  Age  AnnualSalary  Purchased  MonthlySalary\n",
       "0        385    Male   35         20000          0    1666.666667\n",
       "1        681    Male   40         43500          0    3625.000000\n",
       "2        353    Male   49         74000          0    6166.666667\n",
       "3        895    Male   40        107500          1    8958.333333\n",
       "4        661    Male   25         79000          0    6583.333333\n",
       "..       ...     ...  ...           ...        ...            ...\n",
       "995      863    Male   38         59000          0    4916.666667\n",
       "996      800  Female   47         23500          0    1958.333333\n",
       "997      407  Female   28        138500          1   11541.666667\n",
       "998      299  Female   48        134000          1   11166.666667\n",
       "999      687  Female   44         73500          0    6125.000000\n",
       "\n",
       "[1000 rows x 6 columns]"
      ]
     },
     "execution_count": 46,
     "metadata": {},
     "output_type": "execute_result"
    }
   ],
   "source": [
    "df_car_data"
   ]
  },
  {
   "cell_type": "code",
   "execution_count": 47,
   "id": "875d1930",
   "metadata": {},
   "outputs": [],
   "source": [
    "df_car_data.to_csv('C:\\\\Users\\\\DELL\\\\Python Projects\\\\car_data_temp.csv',index=False)"
   ]
  },
  {
   "cell_type": "markdown",
   "id": "3dca514a",
   "metadata": {},
   "source": [
    "this is "
   ]
  },
  {
   "cell_type": "markdown",
   "id": "8e84c921",
   "metadata": {},
   "source": [
    "* first line in list  \n",
    "* second line in list"
   ]
  },
  {
   "cell_type": "markdown",
   "id": "1ed53540",
   "metadata": {},
   "source": [
    "# using print() to disply messges "
   ]
  },
  {
   "cell_type": "code",
   "execution_count": 48,
   "id": "0c9e1318",
   "metadata": {},
   "outputs": [
    {
     "name": "stdout",
     "output_type": "stream",
     "text": [
      "hello this is mohd mahir quadri & ameen quadri welcome to the quadri house of jamalpur, ameen love his car and mahir loves his football profession  \n"
     ]
    }
   ],
   "source": [
    "print (\"hello this is mohd mahir quadri & ameen quadri welcome to the quadri house of jamalpur, ameen love his car and mahir loves his football profession  \")"
   ]
  },
  {
   "cell_type": "code",
   "execution_count": 49,
   "id": "379a6cc1",
   "metadata": {},
   "outputs": [
    {
     "name": "stdout",
     "output_type": "stream",
     "text": [
      " mahir\n"
     ]
    }
   ],
   "source": [
    "x =' mahir' \n",
    "print (x)"
   ]
  },
  {
   "cell_type": "code",
   "execution_count": 50,
   "id": "f6c69681",
   "metadata": {},
   "outputs": [],
   "source": [
    "num = 21\n",
    "name = 'mohd mahir quadri'"
   ]
  },
  {
   "cell_type": "code",
   "execution_count": 51,
   "id": "876f56a6",
   "metadata": {},
   "outputs": [
    {
     "name": "stdout",
     "output_type": "stream",
     "text": [
      "My number is: 21, and my name is: mohd mahir quadri\n"
     ]
    }
   ],
   "source": [
    "print('My number is: {one}, and my name is: {two}'.format(one=num,two=name))"
   ]
  },
  {
   "cell_type": "code",
   "execution_count": 52,
   "id": "8136777b",
   "metadata": {},
   "outputs": [
    {
     "data": {
      "text/plain": [
       "' mahir'"
      ]
     },
     "execution_count": 52,
     "metadata": {},
     "output_type": "execute_result"
    }
   ],
   "source": [
    "x"
   ]
  },
  {
   "cell_type": "code",
   "execution_count": 53,
   "id": "67187141",
   "metadata": {},
   "outputs": [],
   "source": [
    "import numpy as np\n",
    "import matplotlib.pyplot as plt \n",
    "import pandas as pd"
   ]
  },
  {
   "cell_type": "code",
   "execution_count": 54,
   "id": "60f31784",
   "metadata": {},
   "outputs": [
    {
     "data": {
      "text/plain": [
       "array([0, 1, 2, 3, 4, 5, 6, 7])"
      ]
     },
     "execution_count": 54,
     "metadata": {},
     "output_type": "execute_result"
    }
   ],
   "source": [
    "np.arange(8)"
   ]
  },
  {
   "cell_type": "code",
   "execution_count": 55,
   "id": "23ef47c5",
   "metadata": {},
   "outputs": [],
   "source": [
    "message = \"this is a comprehensive course \""
   ]
  },
  {
   "cell_type": "code",
   "execution_count": 56,
   "id": "9c81b96b",
   "metadata": {},
   "outputs": [
    {
     "name": "stdout",
     "output_type": "stream",
     "text": [
      "this is a comprehensive course \n"
     ]
    }
   ],
   "source": [
    "print(message)"
   ]
  },
  {
   "cell_type": "code",
   "execution_count": 57,
   "id": "05be5026",
   "metadata": {},
   "outputs": [
    {
     "data": {
      "text/plain": [
       "'hello'"
      ]
     },
     "execution_count": 57,
     "metadata": {},
     "output_type": "execute_result"
    }
   ],
   "source": [
    "\"hello\""
   ]
  },
  {
   "cell_type": "code",
   "execution_count": 58,
   "id": "e21c2d70",
   "metadata": {},
   "outputs": [
    {
     "data": {
      "text/plain": [
       "'zamin'"
      ]
     },
     "execution_count": 58,
     "metadata": {},
     "output_type": "execute_result"
    }
   ],
   "source": [
    "'zamin'"
   ]
  },
  {
   "cell_type": "code",
   "execution_count": 59,
   "id": "99c1577d",
   "metadata": {},
   "outputs": [],
   "source": [
    "#hello this is a comment :"
   ]
  },
  {
   "cell_type": "markdown",
   "id": "eefe7ae3",
   "metadata": {},
   "source": [
    "# New practise 27 june 24 - First level of header"
   ]
  },
  {
   "cell_type": "markdown",
   "id": "80581a65",
   "metadata": {},
   "source": [
    "## Second level oh header"
   ]
  },
  {
   "cell_type": "markdown",
   "id": "d621d456",
   "metadata": {},
   "source": [
    "this is our first text as you can see "
   ]
  },
  {
   "cell_type": "markdown",
   "id": "eeee4b5f",
   "metadata": {},
   "source": [
    "* First line in list \n",
    "* Second line in list "
   ]
  },
  {
   "cell_type": "markdown",
   "id": "21186ed9",
   "metadata": {},
   "source": [
    "1. this is first line in numbers \n",
    "2. this is second line in numbers "
   ]
  },
  {
   "cell_type": "markdown",
   "id": "94118140",
   "metadata": {},
   "source": [
    "[www.example.com]"
   ]
  },
  {
   "cell_type": "markdown",
   "id": "c6f234c1",
   "metadata": {},
   "source": [
    "# Using print () to display messages "
   ]
  },
  {
   "cell_type": "code",
   "execution_count": 60,
   "id": "6e5580d1",
   "metadata": {},
   "outputs": [
    {
     "name": "stdout",
     "output_type": "stream",
     "text": [
      "hello mohd zamin quadri, how are you doung , please focus ans start leanring more and more \n"
     ]
    }
   ],
   "source": [
    "print (\"hello mohd zamin quadri, how are you doung , please focus ans start leanring more and more \")"
   ]
  },
  {
   "cell_type": "code",
   "execution_count": 61,
   "id": "5283af1e",
   "metadata": {},
   "outputs": [
    {
     "name": "stdout",
     "output_type": "stream",
     "text": [
      "First statement \n",
      "Second statement\n"
     ]
    }
   ],
   "source": [
    "print (\"First statement \")\n",
    "print (\"Second statement\")"
   ]
  },
  {
   "cell_type": "code",
   "execution_count": 62,
   "id": "a9d0c8b8",
   "metadata": {},
   "outputs": [],
   "source": [
    "x = \"Hello\"\n"
   ]
  },
  {
   "cell_type": "code",
   "execution_count": 63,
   "id": "67847dad",
   "metadata": {},
   "outputs": [
    {
     "name": "stdout",
     "output_type": "stream",
     "text": [
      "Hello\n"
     ]
    }
   ],
   "source": [
    "print (x)"
   ]
  },
  {
   "cell_type": "code",
   "execution_count": 64,
   "id": "73acb6c9",
   "metadata": {},
   "outputs": [],
   "source": [
    "import numpy as np\n",
    "import matplotlib.pyplot as plt\n",
    "import pandas as pd\n"
   ]
  },
  {
   "cell_type": "code",
   "execution_count": 65,
   "id": "6257bd48",
   "metadata": {},
   "outputs": [
    {
     "data": {
      "text/plain": [
       "array([0, 1, 2, 3, 4, 5, 6, 7, 8])"
      ]
     },
     "execution_count": 65,
     "metadata": {},
     "output_type": "execute_result"
    }
   ],
   "source": [
    "np.arange (9) #numpy use for arrange array"
   ]
  },
  {
   "cell_type": "markdown",
   "id": "2f246ff2",
   "metadata": {},
   "source": [
    "# Variables and types "
   ]
  },
  {
   "cell_type": "code",
   "execution_count": 66,
   "id": "2d3adc1e",
   "metadata": {},
   "outputs": [],
   "source": [
    "m = \"this is a python course \""
   ]
  },
  {
   "cell_type": "code",
   "execution_count": 67,
   "id": "23531744",
   "metadata": {},
   "outputs": [
    {
     "data": {
      "text/plain": [
       "'this is a python course '"
      ]
     },
     "execution_count": 67,
     "metadata": {},
     "output_type": "execute_result"
    }
   ],
   "source": [
    "m"
   ]
  },
  {
   "cell_type": "code",
   "execution_count": 68,
   "id": "c1d2ba3d",
   "metadata": {},
   "outputs": [
    {
     "name": "stdout",
     "output_type": "stream",
     "text": [
      "this is a python course \n"
     ]
    }
   ],
   "source": [
    "print (m)"
   ]
  },
  {
   "cell_type": "code",
   "execution_count": 69,
   "id": "caf826e8",
   "metadata": {},
   "outputs": [],
   "source": [
    "x = 10\n",
    "y = 20.3\n",
    "z = 20 + 5j"
   ]
  },
  {
   "cell_type": "code",
   "execution_count": 70,
   "id": "7fba718a",
   "metadata": {},
   "outputs": [
    {
     "name": "stdout",
     "output_type": "stream",
     "text": [
      "10\n",
      "20.3\n",
      "(20+5j)\n"
     ]
    }
   ],
   "source": [
    "print (x)\n",
    "print (y)\n",
    "print (z)"
   ]
  },
  {
   "cell_type": "code",
   "execution_count": 71,
   "id": "bcc4c4cd",
   "metadata": {},
   "outputs": [
    {
     "data": {
      "text/plain": [
       "int"
      ]
     },
     "execution_count": 71,
     "metadata": {},
     "output_type": "execute_result"
    }
   ],
   "source": [
    "type (x)\n"
   ]
  },
  {
   "cell_type": "code",
   "execution_count": 72,
   "id": "0a555889",
   "metadata": {},
   "outputs": [
    {
     "data": {
      "text/plain": [
       "float"
      ]
     },
     "execution_count": 72,
     "metadata": {},
     "output_type": "execute_result"
    }
   ],
   "source": [
    "type(y)\n"
   ]
  },
  {
   "cell_type": "code",
   "execution_count": 73,
   "id": "2607d3f0",
   "metadata": {},
   "outputs": [
    {
     "data": {
      "text/plain": [
       "complex"
      ]
     },
     "execution_count": 73,
     "metadata": {},
     "output_type": "execute_result"
    }
   ],
   "source": [
    "type(z)"
   ]
  },
  {
   "cell_type": "code",
   "execution_count": 74,
   "id": "1972456a",
   "metadata": {},
   "outputs": [],
   "source": [
    "test = True \n"
   ]
  },
  {
   "cell_type": "code",
   "execution_count": 75,
   "id": "d52867dc",
   "metadata": {},
   "outputs": [
    {
     "data": {
      "text/plain": [
       "bool"
      ]
     },
     "execution_count": 75,
     "metadata": {},
     "output_type": "execute_result"
    }
   ],
   "source": [
    "type (test)"
   ]
  },
  {
   "cell_type": "code",
   "execution_count": 76,
   "id": "d151c8b3",
   "metadata": {},
   "outputs": [
    {
     "data": {
      "text/plain": [
       "True"
      ]
     },
     "execution_count": 76,
     "metadata": {},
     "output_type": "execute_result"
    }
   ],
   "source": [
    "test "
   ]
  },
  {
   "cell_type": "markdown",
   "id": "2b033acf",
   "metadata": {},
   "source": [
    "# comments in python"
   ]
  },
  {
   "cell_type": "code",
   "execution_count": 77,
   "id": "36c56a78",
   "metadata": {},
   "outputs": [
    {
     "name": "stdout",
     "output_type": "stream",
     "text": [
      "Hi zamin\n"
     ]
    }
   ],
   "source": [
    "# this is a single line comment \n",
    "\n",
    "text = (\"Hi zamin\")\n",
    "print (text)"
   ]
  },
  {
   "cell_type": "code",
   "execution_count": 78,
   "id": "e22c7df9",
   "metadata": {},
   "outputs": [
    {
     "name": "stdout",
     "output_type": "stream",
     "text": [
      "This is not a comment - This is s string data type\n"
     ]
    }
   ],
   "source": [
    "print (\"This is not a comment - This is s string data type\") # but this is not a comment \n"
   ]
  },
  {
   "cell_type": "code",
   "execution_count": 79,
   "id": "43b45f58",
   "metadata": {},
   "outputs": [],
   "source": [
    "# fisrt line of comment \n",
    "# second line of comment "
   ]
  },
  {
   "cell_type": "markdown",
   "id": "ab83bce5",
   "metadata": {},
   "source": [
    "# White Spaces !"
   ]
  },
  {
   "cell_type": "code",
   "execution_count": 80,
   "id": "1ce5ba59",
   "metadata": {},
   "outputs": [
    {
     "ename": "IndentationError",
     "evalue": "unexpected indent (1294502318.py, line 5)",
     "output_type": "error",
     "traceback": [
      "\u001b[1;36m  Cell \u001b[1;32mIn[80], line 5\u001b[1;36m\u001b[0m\n\u001b[1;33m    T = (\"Hi zamin - Indentention error\")\u001b[0m\n\u001b[1;37m    ^\u001b[0m\n\u001b[1;31mIndentationError\u001b[0m\u001b[1;31m:\u001b[0m unexpected indent\n"
     ]
    }
   ],
   "source": [
    "# this is a single line comment\n",
    "\n",
    "# yahan pr T s pehle  white space di gyi hai jis ki wajh s error aaya hn hme hmesha shuru s he code likhna h pehle cell s he es m comments aaya h esliye ye huwa h \n",
    "\n",
    " T = (\"Hi zamin - Indentention error\")\n",
    "print (T)"
   ]
  },
  {
   "cell_type": "code",
   "execution_count": 81,
   "id": "73663aa8",
   "metadata": {},
   "outputs": [
    {
     "name": "stdout",
     "output_type": "stream",
     "text": [
      "Hello zamin\n"
     ]
    }
   ],
   "source": [
    "if True:\n",
    "    print (\"Hello zamin\")"
   ]
  },
  {
   "cell_type": "code",
   "execution_count": 82,
   "id": "e666ce9d",
   "metadata": {},
   "outputs": [
    {
     "ename": "IndentationError",
     "evalue": "expected an indented block after 'if' statement on line 1 (1142363601.py, line 2)",
     "output_type": "error",
     "traceback": [
      "\u001b[1;36m  Cell \u001b[1;32mIn[82], line 2\u001b[1;36m\u001b[0m\n\u001b[1;33m    Print (\"Zamin\")\u001b[0m\n\u001b[1;37m    ^\u001b[0m\n\u001b[1;31mIndentationError\u001b[0m\u001b[1;31m:\u001b[0m expected an indented block after 'if' statement on line 1\n"
     ]
    }
   ],
   "source": [
    "if True:              # yahan pr hm n neche print s pehle space ni di jis ki wajh s error aaya h \n",
    "Print (\"Zamin\")"
   ]
  },
  {
   "cell_type": "markdown",
   "id": "18c741ea",
   "metadata": {},
   "source": [
    "# String Data Types "
   ]
  },
  {
   "cell_type": "markdown",
   "id": "86f7b3ce",
   "metadata": {},
   "source": [
    "* use string to store collection of Character \n",
    "* Use \"\" or '' or ''' ''' or \"\"\" \"\"\" to create a string \n",
    "* A string ia immutable  - does not change character "
   ]
  },
  {
   "cell_type": "code",
   "execution_count": 83,
   "id": "4ee05693",
   "metadata": {},
   "outputs": [
    {
     "data": {
      "text/plain": [
       "str"
      ]
     },
     "execution_count": 83,
     "metadata": {},
     "output_type": "execute_result"
    }
   ],
   "source": [
    "type (\"Welcome to jupyter \")"
   ]
  },
  {
   "cell_type": "code",
   "execution_count": 84,
   "id": "882a1f2d",
   "metadata": {},
   "outputs": [],
   "source": [
    "name = \"Pyhton data analysis\""
   ]
  },
  {
   "cell_type": "code",
   "execution_count": 85,
   "id": "dee807ea",
   "metadata": {},
   "outputs": [
    {
     "data": {
      "text/plain": [
       "str"
      ]
     },
     "execution_count": 85,
     "metadata": {},
     "output_type": "execute_result"
    }
   ],
   "source": [
    "type (name )"
   ]
  },
  {
   "cell_type": "code",
   "execution_count": 86,
   "id": "76e55911",
   "metadata": {},
   "outputs": [],
   "source": [
    "mix = \"hi number 123\""
   ]
  },
  {
   "cell_type": "code",
   "execution_count": 87,
   "id": "5b24dd25",
   "metadata": {},
   "outputs": [
    {
     "data": {
      "text/plain": [
       "str"
      ]
     },
     "execution_count": 87,
     "metadata": {},
     "output_type": "execute_result"
    }
   ],
   "source": [
    "type (mix)"
   ]
  },
  {
   "cell_type": "code",
   "execution_count": 88,
   "id": "58542f01",
   "metadata": {},
   "outputs": [],
   "source": [
    "new_str = \"We said 'python is powerful'\" # mgr yahan double codes k ande single codes kaam kr jayenge "
   ]
  },
  {
   "cell_type": "code",
   "execution_count": 89,
   "id": "7e5184d9",
   "metadata": {},
   "outputs": [
    {
     "data": {
      "text/plain": [
       "\"We said 'python is powerful'\""
      ]
     },
     "execution_count": 89,
     "metadata": {},
     "output_type": "execute_result"
    }
   ],
   "source": [
    "new_str"
   ]
  },
  {
   "cell_type": "code",
   "execution_count": 90,
   "id": "4c55598f",
   "metadata": {},
   "outputs": [],
   "source": [
    "# error aajayega jb m double codes k andr double codes likhenge to "
   ]
  },
  {
   "cell_type": "code",
   "execution_count": 91,
   "id": "8357b838",
   "metadata": {},
   "outputs": [
    {
     "ename": "SyntaxError",
     "evalue": "invalid syntax. Perhaps you forgot a comma? (1564976153.py, line 1)",
     "output_type": "error",
     "traceback": [
      "\u001b[1;36m  Cell \u001b[1;32mIn[91], line 1\u001b[1;36m\u001b[0m\n\u001b[1;33m    new_str1 = (\"we said \"python is powerful\"\")\u001b[0m\n\u001b[1;37m                ^\u001b[0m\n\u001b[1;31mSyntaxError\u001b[0m\u001b[1;31m:\u001b[0m invalid syntax. Perhaps you forgot a comma?\n"
     ]
    }
   ],
   "source": [
    "new_str1 = (\"we said \"python is powerful\"\")"
   ]
  },
  {
   "cell_type": "code",
   "execution_count": 92,
   "id": "e8942b72",
   "metadata": {},
   "outputs": [],
   "source": [
    "# solve krne k liye back slash lga denge doubles codes s pehle "
   ]
  },
  {
   "cell_type": "code",
   "execution_count": 93,
   "id": "5122c8a1",
   "metadata": {},
   "outputs": [],
   "source": [
    "new_str2 = (\"we said \\\"python is powerful\\\"\")"
   ]
  },
  {
   "cell_type": "code",
   "execution_count": 94,
   "id": "d292b1bc",
   "metadata": {},
   "outputs": [
    {
     "data": {
      "text/plain": [
       "'we said \"python is powerful\"'"
      ]
     },
     "execution_count": 94,
     "metadata": {},
     "output_type": "execute_result"
    }
   ],
   "source": [
    "new_str2"
   ]
  },
  {
   "cell_type": "markdown",
   "id": "9ad88e01",
   "metadata": {},
   "source": [
    "* Length Function"
   ]
  },
  {
   "cell_type": "code",
   "execution_count": 95,
   "id": "17839e41",
   "metadata": {},
   "outputs": [
    {
     "data": {
      "text/plain": [
       "28"
      ]
     },
     "execution_count": 95,
     "metadata": {},
     "output_type": "execute_result"
    }
   ],
   "source": [
    "len(new_str)"
   ]
  },
  {
   "cell_type": "code",
   "execution_count": 96,
   "id": "f0a3b5c9",
   "metadata": {},
   "outputs": [
    {
     "data": {
      "text/plain": [
       "28"
      ]
     },
     "execution_count": 96,
     "metadata": {},
     "output_type": "execute_result"
    }
   ],
   "source": [
    "len(new_str2)"
   ]
  },
  {
   "cell_type": "markdown",
   "id": "e3203e2c",
   "metadata": {},
   "source": [
    "## Indexing "
   ]
  },
  {
   "cell_type": "code",
   "execution_count": 97,
   "id": "628e53e7",
   "metadata": {},
   "outputs": [
    {
     "data": {
      "text/plain": [
       "'W'"
      ]
     },
     "execution_count": 97,
     "metadata": {},
     "output_type": "execute_result"
    }
   ],
   "source": [
    "new_str[0]"
   ]
  },
  {
   "cell_type": "code",
   "execution_count": 98,
   "id": "a6169c8f",
   "metadata": {},
   "outputs": [
    {
     "data": {
      "text/plain": [
       "\"We said 'python is p\""
      ]
     },
     "execution_count": 98,
     "metadata": {},
     "output_type": "execute_result"
    }
   ],
   "source": [
    "new_str[0:20]"
   ]
  },
  {
   "cell_type": "code",
   "execution_count": 99,
   "id": "9eadd46f",
   "metadata": {},
   "outputs": [
    {
     "data": {
      "text/plain": [
       "'We '"
      ]
     },
     "execution_count": 99,
     "metadata": {},
     "output_type": "execute_result"
    }
   ],
   "source": [
    "new_str[0:3]"
   ]
  },
  {
   "cell_type": "code",
   "execution_count": 100,
   "id": "d541d7dc",
   "metadata": {},
   "outputs": [
    {
     "data": {
      "text/plain": [
       "'we said \"python is powerf'"
      ]
     },
     "execution_count": 100,
     "metadata": {},
     "output_type": "execute_result"
    }
   ],
   "source": [
    "new_str2[:25]"
   ]
  },
  {
   "cell_type": "code",
   "execution_count": 101,
   "id": "d9553f42",
   "metadata": {},
   "outputs": [
    {
     "data": {
      "text/plain": [
       "'we said \"python is powerful\"'"
      ]
     },
     "execution_count": 101,
     "metadata": {},
     "output_type": "execute_result"
    }
   ],
   "source": [
    "new_str2[:29]"
   ]
  },
  {
   "cell_type": "code",
   "execution_count": 102,
   "id": "fb812b80",
   "metadata": {},
   "outputs": [
    {
     "data": {
      "text/plain": [
       "'we said \"python is powerful\"'"
      ]
     },
     "execution_count": 102,
     "metadata": {},
     "output_type": "execute_result"
    }
   ],
   "source": [
    "new_str2[:]"
   ]
  },
  {
   "cell_type": "code",
   "execution_count": 103,
   "id": "da879098",
   "metadata": {},
   "outputs": [],
   "source": [
    "# for multiple line "
   ]
  },
  {
   "cell_type": "code",
   "execution_count": 104,
   "id": "cf6558e8",
   "metadata": {},
   "outputs": [],
   "source": [
    "new=multiple = \" this is a multiple line string data \\\n",
    "in python programming.\\\n",
    "it's a very easy way as you can see!\""
   ]
  },
  {
   "cell_type": "code",
   "execution_count": 105,
   "id": "8a3eac37",
   "metadata": {},
   "outputs": [
    {
     "data": {
      "text/plain": [
       "\" this is a multiple line string data in python programming.it's a very easy way as you can see!\""
      ]
     },
     "execution_count": 105,
     "metadata": {},
     "output_type": "execute_result"
    }
   ],
   "source": [
    "new"
   ]
  },
  {
   "cell_type": "code",
   "execution_count": 106,
   "id": "57885d96",
   "metadata": {},
   "outputs": [
    {
     "data": {
      "text/plain": [
       "\" this is a multiple line string data in python programming.it's a very easy way as you can see!\""
      ]
     },
     "execution_count": 106,
     "metadata": {},
     "output_type": "execute_result"
    }
   ],
   "source": [
    "multiple"
   ]
  },
  {
   "cell_type": "code",
   "execution_count": 107,
   "id": "cb12ae71",
   "metadata": {},
   "outputs": [],
   "source": [
    "word1 = \"python\"\n",
    "word2 = \"programming\"\n",
    "fulltext = word1 + \" \" + word2  # we use white space or blank space between doublequates fo result spacing - see below "
   ]
  },
  {
   "cell_type": "code",
   "execution_count": 108,
   "id": "c60e05b8",
   "metadata": {},
   "outputs": [
    {
     "data": {
      "text/plain": [
       "'python programming'"
      ]
     },
     "execution_count": 108,
     "metadata": {},
     "output_type": "execute_result"
    }
   ],
   "source": [
    "fulltext"
   ]
  },
  {
   "cell_type": "code",
   "execution_count": 109,
   "id": "e928d162",
   "metadata": {},
   "outputs": [
    {
     "data": {
      "text/plain": [
       "'python programming'"
      ]
     },
     "execution_count": 109,
     "metadata": {},
     "output_type": "execute_result"
    }
   ],
   "source": [
    "fulltext[:]  # this is indexing "
   ]
  },
  {
   "cell_type": "code",
   "execution_count": 110,
   "id": "ceafc88d",
   "metadata": {},
   "outputs": [
    {
     "data": {
      "text/plain": [
       "'python p'"
      ]
     },
     "execution_count": 110,
     "metadata": {},
     "output_type": "execute_result"
    }
   ],
   "source": [
    "fulltext[:8]  # last number of indexing is not included "
   ]
  },
  {
   "cell_type": "code",
   "execution_count": 111,
   "id": "f8254936",
   "metadata": {},
   "outputs": [
    {
     "data": {
      "text/plain": [
       "'python prog'"
      ]
     },
     "execution_count": 111,
     "metadata": {},
     "output_type": "execute_result"
    }
   ],
   "source": [
    "fulltext[:-7]"
   ]
  },
  {
   "cell_type": "code",
   "execution_count": 112,
   "id": "d794b1ee",
   "metadata": {},
   "outputs": [
    {
     "data": {
      "text/plain": [
       "'g'"
      ]
     },
     "execution_count": 112,
     "metadata": {},
     "output_type": "execute_result"
    }
   ],
   "source": [
    "fulltext[-1]\n"
   ]
  },
  {
   "cell_type": "code",
   "execution_count": 113,
   "id": "99be0774",
   "metadata": {},
   "outputs": [
    {
     "data": {
      "text/plain": [
       "'programming'"
      ]
     },
     "execution_count": 113,
     "metadata": {},
     "output_type": "execute_result"
    }
   ],
   "source": [
    "fulltext[7:] # yahan pr saath 7 index counting k bad saare words aagye "
   ]
  },
  {
   "cell_type": "markdown",
   "id": "6eee48ce",
   "metadata": {},
   "source": [
    "# how to change letter in Upper case or Lower case "
   ]
  },
  {
   "cell_type": "code",
   "execution_count": 114,
   "id": "e4f70a77",
   "metadata": {},
   "outputs": [
    {
     "data": {
      "text/plain": [
       "'PYTHON PROGRAMMING'"
      ]
     },
     "execution_count": 114,
     "metadata": {},
     "output_type": "execute_result"
    }
   ],
   "source": [
    "fulltext.upper()"
   ]
  },
  {
   "cell_type": "code",
   "execution_count": 115,
   "id": "cae9dc02",
   "metadata": {},
   "outputs": [
    {
     "data": {
      "text/plain": [
       "'python programming'"
      ]
     },
     "execution_count": 115,
     "metadata": {},
     "output_type": "execute_result"
    }
   ],
   "source": [
    "fulltext.lower()"
   ]
  },
  {
   "cell_type": "code",
   "execution_count": 116,
   "id": "c10ccc0a",
   "metadata": {},
   "outputs": [
    {
     "data": {
      "text/plain": [
       "18"
      ]
     },
     "execution_count": 116,
     "metadata": {},
     "output_type": "execute_result"
    }
   ],
   "source": [
    "len(fulltext)  # length build in function"
   ]
  },
  {
   "cell_type": "code",
   "execution_count": 117,
   "id": "6f19a047",
   "metadata": {},
   "outputs": [
    {
     "data": {
      "text/plain": [
       "'python programming'"
      ]
     },
     "execution_count": 117,
     "metadata": {},
     "output_type": "execute_result"
    }
   ],
   "source": [
    "fulltext.strip()"
   ]
  },
  {
   "cell_type": "markdown",
   "id": "00935934",
   "metadata": {},
   "source": [
    "# Numbers and Maths "
   ]
  },
  {
   "cell_type": "markdown",
   "id": "56ea3167",
   "metadata": {},
   "source": [
    "* Number type : int, float, and complex\n",
    "* conversion: int(), float(), and complex()\n",
    "* maths operations order: (), **, * , /, +, -"
   ]
  },
  {
   "cell_type": "code",
   "execution_count": 118,
   "id": "cce3af19",
   "metadata": {},
   "outputs": [],
   "source": [
    "x = 10"
   ]
  },
  {
   "cell_type": "code",
   "execution_count": 119,
   "id": "9392de06",
   "metadata": {},
   "outputs": [
    {
     "data": {
      "text/plain": [
       "int"
      ]
     },
     "execution_count": 119,
     "metadata": {},
     "output_type": "execute_result"
    }
   ],
   "source": [
    "type(x)"
   ]
  },
  {
   "cell_type": "code",
   "execution_count": 120,
   "id": "e9fdb49c",
   "metadata": {},
   "outputs": [
    {
     "data": {
      "text/plain": [
       "10"
      ]
     },
     "execution_count": 120,
     "metadata": {},
     "output_type": "execute_result"
    }
   ],
   "source": [
    "x"
   ]
  },
  {
   "cell_type": "code",
   "execution_count": 121,
   "id": "b53e629e",
   "metadata": {},
   "outputs": [
    {
     "data": {
      "text/plain": [
       "10"
      ]
     },
     "execution_count": 121,
     "metadata": {},
     "output_type": "execute_result"
    }
   ],
   "source": [
    "int(x)"
   ]
  },
  {
   "cell_type": "code",
   "execution_count": 122,
   "id": "54cc8b83",
   "metadata": {},
   "outputs": [],
   "source": [
    "y = \"11\""
   ]
  },
  {
   "cell_type": "code",
   "execution_count": 123,
   "id": "b36d95ad",
   "metadata": {},
   "outputs": [
    {
     "data": {
      "text/plain": [
       "str"
      ]
     },
     "execution_count": 123,
     "metadata": {},
     "output_type": "execute_result"
    }
   ],
   "source": [
    "type(y)"
   ]
  },
  {
   "cell_type": "code",
   "execution_count": 124,
   "id": "c39fd282",
   "metadata": {},
   "outputs": [
    {
     "data": {
      "text/plain": [
       "11"
      ]
     },
     "execution_count": 124,
     "metadata": {},
     "output_type": "execute_result"
    }
   ],
   "source": [
    "int(y)"
   ]
  },
  {
   "cell_type": "code",
   "execution_count": 125,
   "id": "eea27024",
   "metadata": {},
   "outputs": [
    {
     "data": {
      "text/plain": [
       "'11'"
      ]
     },
     "execution_count": 125,
     "metadata": {},
     "output_type": "execute_result"
    }
   ],
   "source": [
    "y"
   ]
  },
  {
   "cell_type": "code",
   "execution_count": 126,
   "id": "78b7a412",
   "metadata": {},
   "outputs": [
    {
     "data": {
      "text/plain": [
       "str"
      ]
     },
     "execution_count": 126,
     "metadata": {},
     "output_type": "execute_result"
    }
   ],
   "source": [
    "type(y)"
   ]
  },
  {
   "cell_type": "code",
   "execution_count": 127,
   "id": "619cf2f4",
   "metadata": {},
   "outputs": [
    {
     "data": {
      "text/plain": [
       "2"
      ]
     },
     "execution_count": 127,
     "metadata": {},
     "output_type": "execute_result"
    }
   ],
   "source": [
    "int(\"2\")"
   ]
  },
  {
   "cell_type": "code",
   "execution_count": 128,
   "id": "4755163b",
   "metadata": {},
   "outputs": [
    {
     "ename": "ValueError",
     "evalue": "invalid literal for int() with base 10: '3.5'",
     "output_type": "error",
     "traceback": [
      "\u001b[1;31m---------------------------------------------------------------------------\u001b[0m",
      "\u001b[1;31mValueError\u001b[0m                                Traceback (most recent call last)",
      "Cell \u001b[1;32mIn[128], line 1\u001b[0m\n\u001b[1;32m----> 1\u001b[0m \u001b[38;5;28;43mint\u001b[39;49m\u001b[43m(\u001b[49m\u001b[38;5;124;43m\"\u001b[39;49m\u001b[38;5;124;43m3.5\u001b[39;49m\u001b[38;5;124;43m\"\u001b[39;49m\u001b[43m)\u001b[49m\n",
      "\u001b[1;31mValueError\u001b[0m: invalid literal for int() with base 10: '3.5'"
     ]
    }
   ],
   "source": [
    "int(\"3.5\")"
   ]
  },
  {
   "cell_type": "code",
   "execution_count": null,
   "id": "20729859",
   "metadata": {},
   "outputs": [],
   "source": [
    "int(3.5)"
   ]
  },
  {
   "cell_type": "code",
   "execution_count": null,
   "id": "f906e38b",
   "metadata": {},
   "outputs": [],
   "source": [
    "z = 4.9"
   ]
  },
  {
   "cell_type": "code",
   "execution_count": null,
   "id": "7af17152",
   "metadata": {},
   "outputs": [],
   "source": [
    "type(z)"
   ]
  },
  {
   "cell_type": "code",
   "execution_count": null,
   "id": "f8ebb6e5",
   "metadata": {},
   "outputs": [],
   "source": [
    "z"
   ]
  },
  {
   "cell_type": "code",
   "execution_count": null,
   "id": "893ccfcc",
   "metadata": {},
   "outputs": [],
   "source": [
    "float(4.9)"
   ]
  },
  {
   "cell_type": "code",
   "execution_count": null,
   "id": "4e3be352",
   "metadata": {},
   "outputs": [],
   "source": [
    "float(23)"
   ]
  },
  {
   "cell_type": "code",
   "execution_count": null,
   "id": "ba3f0410",
   "metadata": {},
   "outputs": [],
   "source": [
    "float(\"3.1\")"
   ]
  },
  {
   "cell_type": "code",
   "execution_count": null,
   "id": "e8702952",
   "metadata": {},
   "outputs": [],
   "source": [
    "w = 7-9j"
   ]
  },
  {
   "cell_type": "code",
   "execution_count": null,
   "id": "89c3dca5",
   "metadata": {},
   "outputs": [],
   "source": [
    "type(w)"
   ]
  },
  {
   "cell_type": "code",
   "execution_count": null,
   "id": "7db7092e",
   "metadata": {},
   "outputs": [],
   "source": [
    "complex(38)"
   ]
  },
  {
   "cell_type": "code",
   "execution_count": 129,
   "id": "3f61555c",
   "metadata": {},
   "outputs": [
    {
     "data": {
      "text/plain": [
       "65"
      ]
     },
     "execution_count": 129,
     "metadata": {},
     "output_type": "execute_result"
    }
   ],
   "source": [
    "10+55"
   ]
  },
  {
   "cell_type": "code",
   "execution_count": 130,
   "id": "791c8496",
   "metadata": {},
   "outputs": [
    {
     "data": {
      "text/plain": [
       "80"
      ]
     },
     "execution_count": 130,
     "metadata": {},
     "output_type": "execute_result"
    }
   ],
   "source": [
    "10*8"
   ]
  },
  {
   "cell_type": "code",
   "execution_count": 131,
   "id": "3b9ebda5",
   "metadata": {},
   "outputs": [
    {
     "data": {
      "text/plain": [
       "46"
      ]
     },
     "execution_count": 131,
     "metadata": {},
     "output_type": "execute_result"
    }
   ],
   "source": [
    "50-4"
   ]
  },
  {
   "cell_type": "code",
   "execution_count": 132,
   "id": "023f2344",
   "metadata": {},
   "outputs": [
    {
     "data": {
      "text/plain": [
       "8.666666666666666"
      ]
     },
     "execution_count": 132,
     "metadata": {},
     "output_type": "execute_result"
    }
   ],
   "source": [
    "26/3"
   ]
  },
  {
   "cell_type": "code",
   "execution_count": 133,
   "id": "d1a0db9d",
   "metadata": {},
   "outputs": [
    {
     "data": {
      "text/plain": [
       "3.0"
      ]
     },
     "execution_count": 133,
     "metadata": {},
     "output_type": "execute_result"
    }
   ],
   "source": [
    "12 / 4     # the output this floating number "
   ]
  },
  {
   "cell_type": "code",
   "execution_count": 134,
   "id": "c027a1dd",
   "metadata": {},
   "outputs": [
    {
     "data": {
      "text/plain": [
       "3"
      ]
     },
     "execution_count": 134,
     "metadata": {},
     "output_type": "execute_result"
    }
   ],
   "source": [
    " 12//4    # the output is integer not a floating number "
   ]
  },
  {
   "cell_type": "code",
   "execution_count": 135,
   "id": "78f7ddd8",
   "metadata": {},
   "outputs": [
    {
     "data": {
      "text/plain": [
       "1"
      ]
     },
     "execution_count": 135,
     "metadata": {},
     "output_type": "execute_result"
    }
   ],
   "source": [
    "15%7    #modulo operation "
   ]
  },
  {
   "cell_type": "code",
   "execution_count": 136,
   "id": "6523d3e8",
   "metadata": {},
   "outputs": [
    {
     "data": {
      "text/plain": [
       "7"
      ]
     },
     "execution_count": 136,
     "metadata": {},
     "output_type": "execute_result"
    }
   ],
   "source": [
    "16%9"
   ]
  },
  {
   "cell_type": "code",
   "execution_count": 137,
   "id": "9e0f99d9",
   "metadata": {},
   "outputs": [
    {
     "data": {
      "text/plain": [
       "16"
      ]
     },
     "execution_count": 137,
     "metadata": {},
     "output_type": "execute_result"
    }
   ],
   "source": [
    "2**4    # power operation"
   ]
  },
  {
   "cell_type": "code",
   "execution_count": 138,
   "id": "97ffa428",
   "metadata": {},
   "outputs": [
    {
     "data": {
      "text/plain": [
       "8"
      ]
     },
     "execution_count": 138,
     "metadata": {},
     "output_type": "execute_result"
    }
   ],
   "source": [
    "pow(2,3) # same result "
   ]
  },
  {
   "cell_type": "code",
   "execution_count": 139,
   "id": "2d91986a",
   "metadata": {},
   "outputs": [
    {
     "data": {
      "text/plain": [
       "5"
      ]
     },
     "execution_count": 139,
     "metadata": {},
     "output_type": "execute_result"
    }
   ],
   "source": [
    "round(4.8)"
   ]
  },
  {
   "cell_type": "code",
   "execution_count": 140,
   "id": "32c7ba1c",
   "metadata": {},
   "outputs": [],
   "source": [
    "x = 9.21       # important using f string to print function"
   ]
  },
  {
   "cell_type": "code",
   "execution_count": 141,
   "id": "3f78652b",
   "metadata": {},
   "outputs": [
    {
     "name": "stdout",
     "output_type": "stream",
     "text": [
      "we are printing the value of x which is 9.21\n"
     ]
    }
   ],
   "source": [
    "print(f\"we are printing the value of x which is {x}\")"
   ]
  },
  {
   "cell_type": "code",
   "execution_count": 142,
   "id": "65d4acd9",
   "metadata": {},
   "outputs": [
    {
     "name": "stdout",
     "output_type": "stream",
     "text": [
      "we are printing the value of x which is  9.2\n"
     ]
    }
   ],
   "source": [
    "print(f\"we are printing the value of x which is {x: .1f}\")"
   ]
  },
  {
   "cell_type": "code",
   "execution_count": 143,
   "id": "6716f78d",
   "metadata": {},
   "outputs": [
    {
     "name": "stdout",
     "output_type": "stream",
     "text": [
      "we are printing the value of x which is  9.21\n"
     ]
    }
   ],
   "source": [
    "print(f\"we are printing the value of x which is {x: .2f}\")"
   ]
  },
  {
   "cell_type": "markdown",
   "id": "3f5d15b8",
   "metadata": {},
   "source": [
    "## Taking inputs from users"
   ]
  },
  {
   "cell_type": "markdown",
   "id": "c64ba0bb",
   "metadata": {},
   "source": [
    "* use input(prompt) to take input from users\n",
    "* the entered input will be converted to a string \n",
    "* print (args) tp print out data"
   ]
  },
  {
   "cell_type": "code",
   "execution_count": 144,
   "id": "2c142828",
   "metadata": {},
   "outputs": [
    {
     "name": "stdout",
     "output_type": "stream",
     "text": [
      "enter a number here 89\n",
      "89\n"
     ]
    }
   ],
   "source": [
    "num = input(\"enter a number here \")  # this is s string data type \n",
    "print(num)"
   ]
  },
  {
   "cell_type": "code",
   "execution_count": 145,
   "id": "983e5e81",
   "metadata": {},
   "outputs": [
    {
     "name": "stdout",
     "output_type": "stream",
     "text": [
      "Enter a name here: zamin\n",
      "zamin\n"
     ]
    }
   ],
   "source": [
    "name = input(\"Enter a name here: \") # colon k bad mene space diya taake neche name s pehle space aasake \n",
    "print(name)"
   ]
  },
  {
   "cell_type": "code",
   "execution_count": 146,
   "id": "6ba68469",
   "metadata": {},
   "outputs": [
    {
     "data": {
      "text/plain": [
       "str"
      ]
     },
     "execution_count": 146,
     "metadata": {},
     "output_type": "execute_result"
    }
   ],
   "source": [
    "type(num)\n",
    "type(name)"
   ]
  },
  {
   "cell_type": "code",
   "execution_count": 147,
   "id": "68cc4e00",
   "metadata": {},
   "outputs": [
    {
     "name": "stdout",
     "output_type": "stream",
     "text": [
      "enter a number here 45\n",
      "45\n"
     ]
    },
    {
     "data": {
      "text/plain": [
       "int"
      ]
     },
     "execution_count": 147,
     "metadata": {},
     "output_type": "execute_result"
    }
   ],
   "source": [
    "num = int(input(\"enter a number here \"))       # yahan hmne int funtion lga kr data type changr kr diya\n",
    "print(num)\n",
    "type(num)"
   ]
  },
  {
   "cell_type": "code",
   "execution_count": 148,
   "id": "bd91b343",
   "metadata": {},
   "outputs": [
    {
     "name": "stdout",
     "output_type": "stream",
     "text": [
      "the printed name is zamin\n"
     ]
    }
   ],
   "source": [
    "print(\"the printed name is\", name )"
   ]
  },
  {
   "cell_type": "code",
   "execution_count": 152,
   "id": "3bc00dfb",
   "metadata": {},
   "outputs": [
    {
     "name": "stdout",
     "output_type": "stream",
     "text": [
      "3131313131\n"
     ]
    }
   ],
   "source": [
    "print (\"31\"*5) # ye miltiply ni huwa balke 5 times repeat huwa h kyu k 31 double quates mai hn "
   ]
  },
  {
   "cell_type": "code",
   "execution_count": 153,
   "id": "fbf9c57a",
   "metadata": {},
   "outputs": [
    {
     "name": "stdout",
     "output_type": "stream",
     "text": [
      "0\n"
     ]
    }
   ],
   "source": [
    "print(int(15.7)%5) # ye modolu operation hn"
   ]
  },
  {
   "cell_type": "code",
   "execution_count": 154,
   "id": "b522ec74",
   "metadata": {},
   "outputs": [
    {
     "ename": "TypeError",
     "evalue": "can only concatenate str (not \"int\") to str",
     "output_type": "error",
     "traceback": [
      "\u001b[1;31m---------------------------------------------------------------------------\u001b[0m",
      "\u001b[1;31mTypeError\u001b[0m                                 Traceback (most recent call last)",
      "Cell \u001b[1;32mIn[154], line 1\u001b[0m\n\u001b[1;32m----> 1\u001b[0m \u001b[38;5;28mprint\u001b[39m (\u001b[38;5;124;43m\"\u001b[39;49m\u001b[38;5;124;43m3\u001b[39;49m\u001b[38;5;124;43m\"\u001b[39;49m\u001b[43m \u001b[49m\u001b[38;5;241;43m+\u001b[39;49m\u001b[43m \u001b[49m\u001b[38;5;241;43m5\u001b[39;49m)\n",
      "\u001b[1;31mTypeError\u001b[0m: can only concatenate str (not \"int\") to str"
     ]
    }
   ],
   "source": [
    "print (\"3\" + 5) # string k sath kabhi number add ni ho skta"
   ]
  },
  {
   "cell_type": "markdown",
   "id": "d93bd542",
   "metadata": {},
   "source": [
    "## List Data Stuctures"
   ]
  },
  {
   "cell_type": "markdown",
   "id": "9ac6306f",
   "metadata": {},
   "source": [
    "* A list is a mutable and orderes collection of items \n",
    "* List syntax: list((1,2,3,4,)) or [1.2.3.4.5]"
   ]
  },
  {
   "cell_type": "code",
   "execution_count": 155,
   "id": "93e2b8af",
   "metadata": {},
   "outputs": [],
   "source": [
    "# list in python "
   ]
  },
  {
   "cell_type": "code",
   "execution_count": 156,
   "id": "b87524c0",
   "metadata": {},
   "outputs": [
    {
     "name": "stdout",
     "output_type": "stream",
     "text": [
      "[]\n",
      "[]\n"
     ]
    }
   ],
   "source": [
    "new_list = []\n",
    "new_list1 = list()\n",
    "print(new_list)\n",
    "print(new_list1)"
   ]
  },
  {
   "cell_type": "code",
   "execution_count": 157,
   "id": "64562f94",
   "metadata": {},
   "outputs": [
    {
     "data": {
      "text/plain": [
       "list"
      ]
     },
     "execution_count": 157,
     "metadata": {},
     "output_type": "execute_result"
    }
   ],
   "source": [
    "# type of list\n",
    "type(new_list)\n",
    "type(new_list1)"
   ]
  },
  {
   "cell_type": "code",
   "execution_count": 158,
   "id": "1316daf9",
   "metadata": {},
   "outputs": [
    {
     "name": "stdout",
     "output_type": "stream",
     "text": [
      "<class 'list'>\n",
      "<class 'list'>\n"
     ]
    }
   ],
   "source": [
    "# list of numbers \n",
    "nums = [1,2,3,4,5]\n",
    "num1 = list((10,15,20))\n",
    "print(type(nums))\n",
    "print(type(num1))"
   ]
  },
  {
   "cell_type": "code",
   "execution_count": 159,
   "id": "e1a172d1",
   "metadata": {},
   "outputs": [
    {
     "name": "stdout",
     "output_type": "stream",
     "text": [
      "['blue', 'red', 'yellow']\n"
     ]
    }
   ],
   "source": [
    "# list of strings\n",
    "str_list = [\"blue\", \"red\", \"yellow\"]\n",
    "print(str_list)"
   ]
  },
  {
   "cell_type": "code",
   "execution_count": 160,
   "id": "525465d9",
   "metadata": {},
   "outputs": [
    {
     "name": "stdout",
     "output_type": "stream",
     "text": [
      "['blue', True, 1, 3.5]\n"
     ]
    }
   ],
   "source": [
    " # multiple types in a list\n",
    "mixed_list = [\"blue\", True, 1, 3.5]\n",
    "print(mixed_list)"
   ]
  },
  {
   "cell_type": "code",
   "execution_count": 161,
   "id": "d914c8bf",
   "metadata": {},
   "outputs": [
    {
     "name": "stdout",
     "output_type": "stream",
     "text": [
      "[1, 2, [3, 3.1, 3.5], 4, 5]\n"
     ]
    }
   ],
   "source": [
    "# list in a list\n",
    "nums = [1,2,[3,3.1,3.5,], 4, 5]\n",
    "print(nums)"
   ]
  },
  {
   "cell_type": "code",
   "execution_count": 162,
   "id": "657bcb58",
   "metadata": {},
   "outputs": [
    {
     "data": {
      "text/plain": [
       "[3, 3.1, 3.5]"
      ]
     },
     "execution_count": 162,
     "metadata": {},
     "output_type": "execute_result"
    }
   ],
   "source": [
    "nums[2]"
   ]
  },
  {
   "cell_type": "code",
   "execution_count": 163,
   "id": "a4b725b1",
   "metadata": {},
   "outputs": [
    {
     "name": "stdout",
     "output_type": "stream",
     "text": [
      "1\n",
      "2\n",
      "[3, 3.1, 3.5]\n",
      "5\n"
     ]
    }
   ],
   "source": [
    "# Accessing list items with the index number \n",
    "print(nums[0])\n",
    "print(nums[1])\n",
    "print(nums[2])\n",
    "print(nums[-1])"
   ]
  },
  {
   "cell_type": "code",
   "execution_count": 164,
   "id": "4bc07a82",
   "metadata": {},
   "outputs": [
    {
     "data": {
      "text/plain": [
       "5"
      ]
     },
     "execution_count": 164,
     "metadata": {},
     "output_type": "execute_result"
    }
   ],
   "source": [
    "# knowing the number of items in list\n",
    "len(nums)"
   ]
  },
  {
   "cell_type": "code",
   "execution_count": 165,
   "id": "d157d665",
   "metadata": {},
   "outputs": [
    {
     "data": {
      "text/plain": [
       "[1, 2, [3, 3.1, 3.5], 4]"
      ]
     },
     "execution_count": 165,
     "metadata": {},
     "output_type": "execute_result"
    }
   ],
   "source": [
    "nums[0:4] # last index number not included "
   ]
  },
  {
   "cell_type": "code",
   "execution_count": 166,
   "id": "5e1889cd",
   "metadata": {},
   "outputs": [
    {
     "data": {
      "text/plain": [
       "[1, 2, [3, 3.1, 3.5]]"
      ]
     },
     "execution_count": 166,
     "metadata": {},
     "output_type": "execute_result"
    }
   ],
   "source": [
    "nums[:3]"
   ]
  },
  {
   "cell_type": "code",
   "execution_count": 167,
   "id": "e60040d6",
   "metadata": {},
   "outputs": [
    {
     "data": {
      "text/plain": [
       "[2, [3, 3.1, 3.5], 4, 5]"
      ]
     },
     "execution_count": 167,
     "metadata": {},
     "output_type": "execute_result"
    }
   ],
   "source": [
    "nums[1:]"
   ]
  },
  {
   "cell_type": "code",
   "execution_count": 168,
   "id": "211e0c9f",
   "metadata": {},
   "outputs": [],
   "source": [
    "colors = [\"white\", \"red\", \"green\"]"
   ]
  },
  {
   "cell_type": "code",
   "execution_count": 169,
   "id": "b7caf88f",
   "metadata": {},
   "outputs": [
    {
     "data": {
      "text/plain": [
       "True"
      ]
     },
     "execution_count": 169,
     "metadata": {},
     "output_type": "execute_result"
    }
   ],
   "source": [
    "\"white\" in colors   # boolean result"
   ]
  },
  {
   "cell_type": "code",
   "execution_count": 170,
   "id": "14cfbfcf",
   "metadata": {},
   "outputs": [
    {
     "data": {
      "text/plain": [
       "True"
      ]
     },
     "execution_count": 170,
     "metadata": {},
     "output_type": "execute_result"
    }
   ],
   "source": [
    "\"blue\" not in colors"
   ]
  },
  {
   "cell_type": "code",
   "execution_count": 171,
   "id": "8e57baf4",
   "metadata": {},
   "outputs": [],
   "source": [
    "colors.append(\"yellow\")  # add krna h kuch h to append kr k kr ste hn\n"
   ]
  },
  {
   "cell_type": "code",
   "execution_count": 172,
   "id": "b9456e59",
   "metadata": {},
   "outputs": [
    {
     "data": {
      "text/plain": [
       "['white', 'red', 'green', 'yellow']"
      ]
     },
     "execution_count": 172,
     "metadata": {},
     "output_type": "execute_result"
    }
   ],
   "source": [
    "colors"
   ]
  },
  {
   "cell_type": "code",
   "execution_count": 173,
   "id": "b3cdd7dd",
   "metadata": {},
   "outputs": [
    {
     "name": "stdout",
     "output_type": "stream",
     "text": [
      "['white', 'red', 'green', 'yellow']\n"
     ]
    }
   ],
   "source": [
    "print(colors)"
   ]
  },
  {
   "cell_type": "code",
   "execution_count": 174,
   "id": "39a2718c",
   "metadata": {},
   "outputs": [],
   "source": [
    "colors.insert(2,\"voilet\")  # insert built in function\n"
   ]
  },
  {
   "cell_type": "code",
   "execution_count": 175,
   "id": "ee26164a",
   "metadata": {},
   "outputs": [
    {
     "data": {
      "text/plain": [
       "['white', 'red', 'voilet', 'green', 'yellow']"
      ]
     },
     "execution_count": 175,
     "metadata": {},
     "output_type": "execute_result"
    }
   ],
   "source": [
    "colors"
   ]
  },
  {
   "cell_type": "code",
   "execution_count": 176,
   "id": "ce73a245",
   "metadata": {},
   "outputs": [
    {
     "name": "stdout",
     "output_type": "stream",
     "text": [
      "['white', 'red', 'voilet', 'green', 'yellow']\n"
     ]
    }
   ],
   "source": [
    "print(colors)"
   ]
  },
  {
   "cell_type": "code",
   "execution_count": 177,
   "id": "2a4ae3e7",
   "metadata": {},
   "outputs": [
    {
     "data": {
      "text/plain": [
       "'red'"
      ]
     },
     "execution_count": 177,
     "metadata": {},
     "output_type": "execute_result"
    }
   ],
   "source": [
    "# how to remove in a list - 1 index wala remove ho gya \n",
    "colors.pop(1)\n"
   ]
  },
  {
   "cell_type": "code",
   "execution_count": 178,
   "id": "129dd0dd",
   "metadata": {},
   "outputs": [
    {
     "data": {
      "text/plain": [
       "['white', 'voilet', 'green', 'yellow']"
      ]
     },
     "execution_count": 178,
     "metadata": {},
     "output_type": "execute_result"
    }
   ],
   "source": [
    "colors"
   ]
  },
  {
   "cell_type": "code",
   "execution_count": 179,
   "id": "dadba390",
   "metadata": {},
   "outputs": [],
   "source": [
    "# more than one item use Extend function\n",
    "colors.extend([\"indigo\", \"orange\"])"
   ]
  },
  {
   "cell_type": "code",
   "execution_count": 180,
   "id": "ae14effb",
   "metadata": {},
   "outputs": [
    {
     "data": {
      "text/plain": [
       "['white', 'voilet', 'green', 'yellow', 'indigo', 'orange']"
      ]
     },
     "execution_count": 180,
     "metadata": {},
     "output_type": "execute_result"
    }
   ],
   "source": [
    "colors"
   ]
  },
  {
   "cell_type": "code",
   "execution_count": 181,
   "id": "0e99c0c6",
   "metadata": {},
   "outputs": [],
   "source": [
    "# How to delete - del finction\n",
    "del colors[1]"
   ]
  },
  {
   "cell_type": "code",
   "execution_count": 182,
   "id": "3855828e",
   "metadata": {},
   "outputs": [
    {
     "data": {
      "text/plain": [
       "['white', 'green', 'yellow', 'indigo', 'orange']"
      ]
     },
     "execution_count": 182,
     "metadata": {},
     "output_type": "execute_result"
    }
   ],
   "source": [
    "colors"
   ]
  },
  {
   "cell_type": "code",
   "execution_count": 183,
   "id": "e3f86ef3",
   "metadata": {},
   "outputs": [],
   "source": [
    "# how to or replace index value from a list \n",
    "colors[2] = \"blue\""
   ]
  },
  {
   "cell_type": "code",
   "execution_count": 184,
   "id": "705ca02b",
   "metadata": {},
   "outputs": [
    {
     "data": {
      "text/plain": [
       "['white', 'green', 'blue', 'indigo', 'orange']"
      ]
     },
     "execution_count": 184,
     "metadata": {},
     "output_type": "execute_result"
    }
   ],
   "source": [
    "colors"
   ]
  },
  {
   "cell_type": "code",
   "execution_count": 185,
   "id": "bcb0a5d0",
   "metadata": {},
   "outputs": [],
   "source": [
    "new_fruits = tuple((\"orange\", \"cherry\", \"lemon\"))"
   ]
  },
  {
   "cell_type": "code",
   "execution_count": 186,
   "id": "a08b606a",
   "metadata": {},
   "outputs": [
    {
     "data": {
      "text/plain": [
       "True"
      ]
     },
     "execution_count": 186,
     "metadata": {},
     "output_type": "execute_result"
    }
   ],
   "source": [
    "\"orange\" in new_fruits"
   ]
  },
  {
   "cell_type": "code",
   "execution_count": 187,
   "id": "907e838a",
   "metadata": {},
   "outputs": [
    {
     "data": {
      "text/plain": [
       "False"
      ]
     },
     "execution_count": 187,
     "metadata": {},
     "output_type": "execute_result"
    }
   ],
   "source": [
    "\"cherry\" not in new_fruits"
   ]
  },
  {
   "cell_type": "markdown",
   "id": "c15b9d3f",
   "metadata": {},
   "source": [
    "## Tuples Data Structure"
   ]
  },
  {
   "cell_type": "markdown",
   "id": "58ca532f",
   "metadata": {},
   "source": [
    "* tuple is immutable and orderes sequence\n",
    "* syntax: tuple((1,2,3,)) or (1,2,3)"
   ]
  },
  {
   "cell_type": "code",
   "execution_count": 188,
   "id": "05ca099e",
   "metadata": {},
   "outputs": [],
   "source": [
    "nums = tuple((1,2,3,4,5))\n",
    "nums1 = (1, 2, 3, 4, 5, 6, 7, 8)"
   ]
  },
  {
   "cell_type": "code",
   "execution_count": 189,
   "id": "967bf340",
   "metadata": {},
   "outputs": [
    {
     "name": "stdout",
     "output_type": "stream",
     "text": [
      "<class 'tuple'>\n",
      "<class 'tuple'>\n"
     ]
    }
   ],
   "source": [
    "print(type(nums))\n",
    "print(type(nums1))"
   ]
  },
  {
   "cell_type": "code",
   "execution_count": 190,
   "id": "2a75c6fb",
   "metadata": {},
   "outputs": [
    {
     "data": {
      "text/plain": [
       "tuple"
      ]
     },
     "execution_count": 190,
     "metadata": {},
     "output_type": "execute_result"
    }
   ],
   "source": [
    "type(nums)"
   ]
  },
  {
   "cell_type": "code",
   "execution_count": 191,
   "id": "0268b611",
   "metadata": {},
   "outputs": [
    {
     "data": {
      "text/plain": [
       "8"
      ]
     },
     "execution_count": 191,
     "metadata": {},
     "output_type": "execute_result"
    }
   ],
   "source": [
    "len(nums1)"
   ]
  },
  {
   "cell_type": "code",
   "execution_count": 192,
   "id": "b6eb540e",
   "metadata": {},
   "outputs": [
    {
     "data": {
      "text/plain": [
       "5"
      ]
     },
     "execution_count": 192,
     "metadata": {},
     "output_type": "execute_result"
    }
   ],
   "source": [
    "len(nums)"
   ]
  },
  {
   "cell_type": "code",
   "execution_count": 193,
   "id": "5b178771",
   "metadata": {},
   "outputs": [
    {
     "data": {
      "text/plain": [
       "3"
      ]
     },
     "execution_count": 193,
     "metadata": {},
     "output_type": "execute_result"
    }
   ],
   "source": [
    "nums[2]"
   ]
  },
  {
   "cell_type": "code",
   "execution_count": 194,
   "id": "eda7ae01",
   "metadata": {},
   "outputs": [
    {
     "data": {
      "text/plain": [
       "8"
      ]
     },
     "execution_count": 194,
     "metadata": {},
     "output_type": "execute_result"
    }
   ],
   "source": [
    "nums1[7]"
   ]
  },
  {
   "cell_type": "code",
   "execution_count": 195,
   "id": "08b36a15",
   "metadata": {},
   "outputs": [
    {
     "data": {
      "text/plain": [
       "(1, 2, 3, 4, 5)"
      ]
     },
     "execution_count": 195,
     "metadata": {},
     "output_type": "execute_result"
    }
   ],
   "source": [
    "nums[0:6]"
   ]
  },
  {
   "cell_type": "code",
   "execution_count": 196,
   "id": "36db4339",
   "metadata": {},
   "outputs": [
    {
     "data": {
      "text/plain": [
       "(1, 2, 3, 4, 5, 6)"
      ]
     },
     "execution_count": 196,
     "metadata": {},
     "output_type": "execute_result"
    }
   ],
   "source": [
    "nums1[:6] # last item not includes "
   ]
  },
  {
   "cell_type": "code",
   "execution_count": 197,
   "id": "12c9aa21",
   "metadata": {},
   "outputs": [
    {
     "data": {
      "text/plain": [
       "(2, 3, 4, 5, 6, 7, 8)"
      ]
     },
     "execution_count": 197,
     "metadata": {},
     "output_type": "execute_result"
    }
   ],
   "source": [
    "nums1[1:] # index number 1 include s lekr last tk print hoga result "
   ]
  },
  {
   "cell_type": "code",
   "execution_count": 198,
   "id": "59f121e7",
   "metadata": {},
   "outputs": [
    {
     "data": {
      "text/plain": [
       "(1, 2, 3, 4, 5, 6, 7, 8)"
      ]
     },
     "execution_count": 198,
     "metadata": {},
     "output_type": "execute_result"
    }
   ],
   "source": [
    "nums1[:]"
   ]
  },
  {
   "cell_type": "code",
   "execution_count": 199,
   "id": "19fc1c01",
   "metadata": {},
   "outputs": [
    {
     "data": {
      "text/plain": [
       "(1, 2, 3, 4, 5)"
      ]
     },
     "execution_count": 199,
     "metadata": {},
     "output_type": "execute_result"
    }
   ],
   "source": [
    "nums[:]"
   ]
  },
  {
   "cell_type": "code",
   "execution_count": 200,
   "id": "a1da1d5e",
   "metadata": {},
   "outputs": [
    {
     "ename": "TypeError",
     "evalue": "'tuple' object does not support item assignment",
     "output_type": "error",
     "traceback": [
      "\u001b[1;31m---------------------------------------------------------------------------\u001b[0m",
      "\u001b[1;31mTypeError\u001b[0m                                 Traceback (most recent call last)",
      "Cell \u001b[1;32mIn[200], line 1\u001b[0m\n\u001b[1;32m----> 1\u001b[0m nums[\u001b[38;5;241m1\u001b[39m] \u001b[38;5;241m=\u001b[39m \u001b[38;5;241m10\u001b[39m\n",
      "\u001b[1;31mTypeError\u001b[0m: 'tuple' object does not support item assignment"
     ]
    }
   ],
   "source": [
    "nums[1] = 10"
   ]
  },
  {
   "cell_type": "code",
   "execution_count": 201,
   "id": "721e277c",
   "metadata": {},
   "outputs": [],
   "source": [
    "new_fruits = tuple((\"orange\", \"cherry\", \"lemon\"))"
   ]
  },
  {
   "cell_type": "code",
   "execution_count": 202,
   "id": "e546f3fb",
   "metadata": {},
   "outputs": [
    {
     "data": {
      "text/plain": [
       "True"
      ]
     },
     "execution_count": 202,
     "metadata": {},
     "output_type": "execute_result"
    }
   ],
   "source": [
    "\"orange\" in new_fruits"
   ]
  },
  {
   "cell_type": "code",
   "execution_count": 203,
   "id": "78928fcc",
   "metadata": {},
   "outputs": [
    {
     "data": {
      "text/plain": [
       "False"
      ]
     },
     "execution_count": 203,
     "metadata": {},
     "output_type": "execute_result"
    }
   ],
   "source": [
    "\"mango\" in new_fruits"
   ]
  },
  {
   "cell_type": "code",
   "execution_count": 204,
   "id": "4ada310d",
   "metadata": {},
   "outputs": [],
   "source": [
    "new_fruits = list(new_fruits)"
   ]
  },
  {
   "cell_type": "code",
   "execution_count": 205,
   "id": "df0cc1dc",
   "metadata": {},
   "outputs": [],
   "source": [
    "new_fruits.append(\"apple\")"
   ]
  },
  {
   "cell_type": "code",
   "execution_count": 206,
   "id": "5f00823a",
   "metadata": {},
   "outputs": [
    {
     "data": {
      "text/plain": [
       "['orange', 'cherry', 'lemon', 'apple']"
      ]
     },
     "execution_count": 206,
     "metadata": {},
     "output_type": "execute_result"
    }
   ],
   "source": [
    "new_fruits"
   ]
  },
  {
   "cell_type": "code",
   "execution_count": 207,
   "id": "bd299850",
   "metadata": {},
   "outputs": [],
   "source": [
    "# how to delete a tuple by del function\n",
    "#del new_fruits"
   ]
  },
  {
   "cell_type": "markdown",
   "id": "9770e625",
   "metadata": {},
   "source": [
    "## Dictionary sequence"
   ]
  },
  {
   "cell_type": "markdown",
   "id": "fc6bea7d",
   "metadata": {},
   "source": [
    "* dictionary is mutable key value pairs to store collections \n",
    "* syntax: {key:value} or dict({key:value})"
   ]
  },
  {
   "cell_type": "markdown",
   "id": "eca29ca0",
   "metadata": {},
   "source": [
    "## Dictionaries Data Structure"
   ]
  },
  {
   "cell_type": "code",
   "execution_count": 208,
   "id": "5a870883",
   "metadata": {},
   "outputs": [],
   "source": [
    "new_D = {'Ronaldo': 36, \"Messi\": 34, \"Salah\": 27}\n",
    "new_D1 = dict({'Dany': 33, \"Sane\": 24, \"Sam\": 30})"
   ]
  },
  {
   "cell_type": "code",
   "execution_count": 209,
   "id": "7bf985a1",
   "metadata": {},
   "outputs": [
    {
     "name": "stdout",
     "output_type": "stream",
     "text": [
      "<class 'dict'>\n"
     ]
    }
   ],
   "source": [
    "print(type(new_D))"
   ]
  },
  {
   "cell_type": "code",
   "execution_count": 210,
   "id": "c30efd06",
   "metadata": {},
   "outputs": [],
   "source": [
    "# Sequence of tuples\n",
    "children = dict({\n",
    "    (\"child1\", \"5\"),\n",
    "    (\"child2\", \"6\"),\n",
    "    (\"child3\", \"7\"),\n",
    "})"
   ]
  },
  {
   "cell_type": "code",
   "execution_count": 211,
   "id": "335d8b9e",
   "metadata": {},
   "outputs": [
    {
     "data": {
      "text/plain": [
       "dict"
      ]
     },
     "execution_count": 211,
     "metadata": {},
     "output_type": "execute_result"
    }
   ],
   "source": [
    "type(children)"
   ]
  },
  {
   "cell_type": "code",
   "execution_count": 212,
   "id": "1c315b04",
   "metadata": {},
   "outputs": [
    {
     "data": {
      "text/plain": [
       "34"
      ]
     },
     "execution_count": 212,
     "metadata": {},
     "output_type": "execute_result"
    }
   ],
   "source": [
    "new_D[\"Messi\"]"
   ]
  },
  {
   "cell_type": "code",
   "execution_count": 213,
   "id": "948e3ab5",
   "metadata": {},
   "outputs": [
    {
     "data": {
      "text/plain": [
       "30"
      ]
     },
     "execution_count": 213,
     "metadata": {},
     "output_type": "execute_result"
    }
   ],
   "source": [
    "new_D1[\"Sam\"]"
   ]
  },
  {
   "cell_type": "code",
   "execution_count": 214,
   "id": "581baab7",
   "metadata": {},
   "outputs": [
    {
     "data": {
      "text/plain": [
       "'5'"
      ]
     },
     "execution_count": 214,
     "metadata": {},
     "output_type": "execute_result"
    }
   ],
   "source": [
    "children[\"child1\"]"
   ]
  },
  {
   "cell_type": "code",
   "execution_count": 215,
   "id": "fccc4d73",
   "metadata": {},
   "outputs": [
    {
     "data": {
      "text/plain": [
       "'7'"
      ]
     },
     "execution_count": 215,
     "metadata": {},
     "output_type": "execute_result"
    }
   ],
   "source": [
    "children[\"child3\"]"
   ]
  },
  {
   "cell_type": "code",
   "execution_count": 216,
   "id": "e4054c5c",
   "metadata": {},
   "outputs": [
    {
     "data": {
      "text/plain": [
       "{'Ronaldo': 36, 'Messi': 34, 'Salah': 27}"
      ]
     },
     "execution_count": 216,
     "metadata": {},
     "output_type": "execute_result"
    }
   ],
   "source": [
    "new_D"
   ]
  },
  {
   "cell_type": "code",
   "execution_count": 217,
   "id": "bf4c8f72",
   "metadata": {},
   "outputs": [],
   "source": [
    "new_D[\"Messi\"] = \"35\""
   ]
  },
  {
   "cell_type": "code",
   "execution_count": 218,
   "id": "9eeb52ea",
   "metadata": {},
   "outputs": [
    {
     "data": {
      "text/plain": [
       "{'Ronaldo': 36, 'Messi': '35', 'Salah': 27}"
      ]
     },
     "execution_count": 218,
     "metadata": {},
     "output_type": "execute_result"
    }
   ],
   "source": [
    "new_D"
   ]
  },
  {
   "cell_type": "code",
   "execution_count": 219,
   "id": "706f7766",
   "metadata": {},
   "outputs": [],
   "source": [
    "del new_D[\"Messi\"]"
   ]
  },
  {
   "cell_type": "code",
   "execution_count": 220,
   "id": "6eafd9f1",
   "metadata": {},
   "outputs": [
    {
     "data": {
      "text/plain": [
       "{'Ronaldo': 36, 'Salah': 27}"
      ]
     },
     "execution_count": 220,
     "metadata": {},
     "output_type": "execute_result"
    }
   ],
   "source": [
    "new_D"
   ]
  },
  {
   "cell_type": "code",
   "execution_count": 221,
   "id": "469b820f",
   "metadata": {},
   "outputs": [
    {
     "data": {
      "text/plain": [
       "False"
      ]
     },
     "execution_count": 221,
     "metadata": {},
     "output_type": "execute_result"
    }
   ],
   "source": [
    "\"Messi\" in new_D"
   ]
  },
  {
   "cell_type": "code",
   "execution_count": 222,
   "id": "ad4b434f",
   "metadata": {},
   "outputs": [
    {
     "data": {
      "text/plain": [
       "True"
      ]
     },
     "execution_count": 222,
     "metadata": {},
     "output_type": "execute_result"
    }
   ],
   "source": [
    "\"Salah\" in  new_D"
   ]
  },
  {
   "cell_type": "markdown",
   "id": "a17fc41c",
   "metadata": {},
   "source": [
    "## sets in PYTHON"
   ]
  },
  {
   "cell_type": "markdown",
   "id": "88c59325",
   "metadata": {},
   "source": [
    "* sets in unordered and immutable collection \n",
    "* No duplicates\n",
    "* Syntax: {1,2,3} or set([1,2,3])"
   ]
  },
  {
   "cell_type": "markdown",
   "id": "b46bcd5c",
   "metadata": {},
   "source": [
    "# SET DATA STRUCTURE"
   ]
  },
  {
   "cell_type": "code",
   "execution_count": 223,
   "id": "a51a8f4a",
   "metadata": {},
   "outputs": [],
   "source": [
    "set_nums = set((2,4,6,8,10))\n",
    "set_nums1 = {1,2,3,4,5,6}\n"
   ]
  },
  {
   "cell_type": "code",
   "execution_count": 224,
   "id": "90fac6a8",
   "metadata": {},
   "outputs": [
    {
     "name": "stdout",
     "output_type": "stream",
     "text": [
      "<class 'set'>\n",
      "<class 'set'>\n"
     ]
    }
   ],
   "source": [
    "print(type(set_nums))\n",
    "print(type(set_nums1))"
   ]
  },
  {
   "cell_type": "code",
   "execution_count": 225,
   "id": "5f7304c5",
   "metadata": {},
   "outputs": [
    {
     "data": {
      "text/plain": [
       "{'H', 'N', 'O', 'P', 'T', 'Y'}"
      ]
     },
     "execution_count": 225,
     "metadata": {},
     "output_type": "execute_result"
    }
   ],
   "source": [
    "set (\"PYTHON\")"
   ]
  },
  {
   "cell_type": "code",
   "execution_count": 226,
   "id": "726d70fe",
   "metadata": {},
   "outputs": [
    {
     "data": {
      "text/plain": [
       "{',', '1', '2', '3', '4', '5', '6'}"
      ]
     },
     "execution_count": 226,
     "metadata": {},
     "output_type": "execute_result"
    }
   ],
   "source": [
    "set ('1,2,3,4,5,6')"
   ]
  },
  {
   "cell_type": "code",
   "execution_count": 227,
   "id": "b85a70df",
   "metadata": {},
   "outputs": [],
   "source": [
    "x = set({1: \"name\", 2: \"age\"})\n"
   ]
  },
  {
   "cell_type": "code",
   "execution_count": 228,
   "id": "8f467149",
   "metadata": {},
   "outputs": [
    {
     "data": {
      "text/plain": [
       "('p', 'y', 't', 'h', 'o', 'n')"
      ]
     },
     "execution_count": 228,
     "metadata": {},
     "output_type": "execute_result"
    }
   ],
   "source": [
    "tuple('python')"
   ]
  },
  {
   "cell_type": "code",
   "execution_count": 229,
   "id": "08b773cf",
   "metadata": {},
   "outputs": [
    {
     "data": {
      "text/plain": [
       "set"
      ]
     },
     "execution_count": 229,
     "metadata": {},
     "output_type": "execute_result"
    }
   ],
   "source": [
    "type(x)"
   ]
  },
  {
   "cell_type": "code",
   "execution_count": 230,
   "id": "fefb35e2",
   "metadata": {},
   "outputs": [],
   "source": [
    "del x   # yahanpr hmne x ko delete kr diya "
   ]
  },
  {
   "cell_type": "code",
   "execution_count": 231,
   "id": "032028a7",
   "metadata": {},
   "outputs": [
    {
     "ename": "NameError",
     "evalue": "name 'x' is not defined",
     "output_type": "error",
     "traceback": [
      "\u001b[1;31m---------------------------------------------------------------------------\u001b[0m",
      "\u001b[1;31mNameError\u001b[0m                                 Traceback (most recent call last)",
      "Cell \u001b[1;32mIn[231], line 1\u001b[0m\n\u001b[1;32m----> 1\u001b[0m \u001b[43mx\u001b[49m\n",
      "\u001b[1;31mNameError\u001b[0m: name 'x' is not defined"
     ]
    }
   ],
   "source": [
    "x"
   ]
  },
  {
   "cell_type": "markdown",
   "id": "baf27723",
   "metadata": {},
   "source": [
    "# Comaring Values "
   ]
  },
  {
   "cell_type": "markdown",
   "id": "96d93a48",
   "metadata": {},
   "source": [
    "## Using <,>,=, <=, !=, ==, >= operators to compare between values\n",
    "## Output: bool value (True or False)"
   ]
  },
  {
   "cell_type": "code",
   "execution_count": 232,
   "id": "51e89b1f",
   "metadata": {},
   "outputs": [],
   "source": [
    "x = 10\n",
    "y = 20"
   ]
  },
  {
   "cell_type": "code",
   "execution_count": 233,
   "id": "4214af5c",
   "metadata": {},
   "outputs": [
    {
     "data": {
      "text/plain": [
       "False"
      ]
     },
     "execution_count": 233,
     "metadata": {},
     "output_type": "execute_result"
    }
   ],
   "source": [
    "x > y"
   ]
  },
  {
   "cell_type": "code",
   "execution_count": 234,
   "id": "2fde752c",
   "metadata": {},
   "outputs": [
    {
     "data": {
      "text/plain": [
       "True"
      ]
     },
     "execution_count": 234,
     "metadata": {},
     "output_type": "execute_result"
    }
   ],
   "source": [
    "y > x"
   ]
  },
  {
   "cell_type": "code",
   "execution_count": 235,
   "id": "2c9f2adb",
   "metadata": {},
   "outputs": [
    {
     "data": {
      "text/plain": [
       "True"
      ]
     },
     "execution_count": 235,
     "metadata": {},
     "output_type": "execute_result"
    }
   ],
   "source": [
    "x != y"
   ]
  },
  {
   "cell_type": "code",
   "execution_count": 236,
   "id": "965f7bd2",
   "metadata": {},
   "outputs": [
    {
     "data": {
      "text/plain": [
       "True"
      ]
     },
     "execution_count": 236,
     "metadata": {},
     "output_type": "execute_result"
    }
   ],
   "source": [
    "x <= y"
   ]
  },
  {
   "cell_type": "code",
   "execution_count": 237,
   "id": "ec296ef8",
   "metadata": {},
   "outputs": [
    {
     "data": {
      "text/plain": [
       "False"
      ]
     },
     "execution_count": 237,
     "metadata": {},
     "output_type": "execute_result"
    }
   ],
   "source": [
    "x == y"
   ]
  },
  {
   "cell_type": "code",
   "execution_count": 238,
   "id": "4006da91",
   "metadata": {},
   "outputs": [
    {
     "data": {
      "text/plain": [
       "bool"
      ]
     },
     "execution_count": 238,
     "metadata": {},
     "output_type": "execute_result"
    }
   ],
   "source": [
    "type( x == y)"
   ]
  },
  {
   "cell_type": "code",
   "execution_count": 239,
   "id": "e43b1cfc",
   "metadata": {},
   "outputs": [
    {
     "name": "stdout",
     "output_type": "stream",
     "text": [
      "<class 'bool'>\n"
     ]
    }
   ],
   "source": [
    "print(type(x<y))"
   ]
  },
  {
   "cell_type": "code",
   "execution_count": 240,
   "id": "e1c54af7",
   "metadata": {},
   "outputs": [
    {
     "data": {
      "text/plain": [
       "True"
      ]
     },
     "execution_count": 240,
     "metadata": {},
     "output_type": "execute_result"
    }
   ],
   "source": [
    "\"c\" == \"c\""
   ]
  },
  {
   "cell_type": "code",
   "execution_count": 241,
   "id": "4a62217f",
   "metadata": {},
   "outputs": [
    {
     "data": {
      "text/plain": [
       "bool"
      ]
     },
     "execution_count": 241,
     "metadata": {},
     "output_type": "execute_result"
    }
   ],
   "source": [
    "type(\"c\" < \"f\")"
   ]
  },
  {
   "cell_type": "markdown",
   "id": "2d224992",
   "metadata": {},
   "source": [
    "## Logics"
   ]
  },
  {
   "cell_type": "markdown",
   "id": "9c3b1b2f",
   "metadata": {},
   "source": [
    "* and operator: True both sides are True\n",
    "* or operator: True if any side is True or both are True\n",
    "* not operator: To reverse the value      "
   ]
  },
  {
   "cell_type": "markdown",
   "id": "1d8305a0",
   "metadata": {},
   "source": [
    "## Logical operator"
   ]
  },
  {
   "cell_type": "code",
   "execution_count": 242,
   "id": "40de034a",
   "metadata": {},
   "outputs": [
    {
     "data": {
      "text/plain": [
       "True"
      ]
     },
     "execution_count": 242,
     "metadata": {},
     "output_type": "execute_result"
    }
   ],
   "source": [
    "3 > 2 and 10 <= 12"
   ]
  },
  {
   "cell_type": "code",
   "execution_count": 243,
   "id": "a85f4ec7",
   "metadata": {},
   "outputs": [
    {
     "data": {
      "text/plain": [
       "False"
      ]
     },
     "execution_count": 243,
     "metadata": {},
     "output_type": "execute_result"
    }
   ],
   "source": [
    "3 < 2 and 10 <= 2"
   ]
  },
  {
   "cell_type": "code",
   "execution_count": 244,
   "id": "5762af18",
   "metadata": {},
   "outputs": [
    {
     "data": {
      "text/plain": [
       "True"
      ]
     },
     "execution_count": 244,
     "metadata": {},
     "output_type": "execute_result"
    }
   ],
   "source": [
    "True and True"
   ]
  },
  {
   "cell_type": "code",
   "execution_count": 245,
   "id": "f11c2825",
   "metadata": {},
   "outputs": [
    {
     "data": {
      "text/plain": [
       "False"
      ]
     },
     "execution_count": 245,
     "metadata": {},
     "output_type": "execute_result"
    }
   ],
   "source": [
    "True and False "
   ]
  },
  {
   "cell_type": "code",
   "execution_count": 246,
   "id": "5cd0c922",
   "metadata": {},
   "outputs": [
    {
     "data": {
      "text/plain": [
       "False"
      ]
     },
     "execution_count": 246,
     "metadata": {},
     "output_type": "execute_result"
    }
   ],
   "source": [
    "False and False"
   ]
  },
  {
   "cell_type": "code",
   "execution_count": 247,
   "id": "e7058c42",
   "metadata": {},
   "outputs": [
    {
     "data": {
      "text/plain": [
       "True"
      ]
     },
     "execution_count": 247,
     "metadata": {},
     "output_type": "execute_result"
    }
   ],
   "source": [
    "3 < 2 or 10 <= 12"
   ]
  },
  {
   "cell_type": "code",
   "execution_count": 248,
   "id": "9a081048",
   "metadata": {},
   "outputs": [
    {
     "data": {
      "text/plain": [
       "True"
      ]
     },
     "execution_count": 248,
     "metadata": {},
     "output_type": "execute_result"
    }
   ],
   "source": [
    "3 > 2 or 10 <= 12"
   ]
  },
  {
   "cell_type": "code",
   "execution_count": 249,
   "id": "46610cd3",
   "metadata": {},
   "outputs": [
    {
     "data": {
      "text/plain": [
       "False"
      ]
     },
     "execution_count": 249,
     "metadata": {},
     "output_type": "execute_result"
    }
   ],
   "source": [
    "3 < 2 or 10 >= 12"
   ]
  },
  {
   "cell_type": "code",
   "execution_count": 250,
   "id": "1d9e8164",
   "metadata": {},
   "outputs": [
    {
     "data": {
      "text/plain": [
       "False"
      ]
     },
     "execution_count": 250,
     "metadata": {},
     "output_type": "execute_result"
    }
   ],
   "source": [
    "not True"
   ]
  },
  {
   "cell_type": "code",
   "execution_count": 251,
   "id": "5d41e5ec",
   "metadata": {},
   "outputs": [
    {
     "data": {
      "text/plain": [
       "True"
      ]
     },
     "execution_count": 251,
     "metadata": {},
     "output_type": "execute_result"
    }
   ],
   "source": [
    "not False "
   ]
  },
  {
   "cell_type": "code",
   "execution_count": 252,
   "id": "8f775d51",
   "metadata": {},
   "outputs": [
    {
     "data": {
      "text/plain": [
       "True"
      ]
     },
     "execution_count": 252,
     "metadata": {},
     "output_type": "execute_result"
    }
   ],
   "source": [
    "not True != True"
   ]
  },
  {
   "cell_type": "code",
   "execution_count": 253,
   "id": "7ffba8f0",
   "metadata": {},
   "outputs": [
    {
     "data": {
      "text/plain": [
       "True"
      ]
     },
     "execution_count": 253,
     "metadata": {},
     "output_type": "execute_result"
    }
   ],
   "source": [
    "not True == False"
   ]
  },
  {
   "cell_type": "markdown",
   "id": "1de77655",
   "metadata": {},
   "source": [
    "# conditional Statement "
   ]
  },
  {
   "cell_type": "markdown",
   "id": "39ef2082",
   "metadata": {},
   "source": [
    "* Using conditional statement for decision making and execute blocks based on condition \n",
    "* Use conditional if, elif and else keywords"
   ]
  },
  {
   "cell_type": "code",
   "execution_count": 254,
   "id": "4828e731",
   "metadata": {},
   "outputs": [
    {
     "name": "stdout",
     "output_type": "stream",
     "text": [
      "This is True!\n"
     ]
    }
   ],
   "source": [
    "if True:\n",
    "    print(\"This is True!\")"
   ]
  },
  {
   "cell_type": "code",
   "execution_count": 255,
   "id": "69d95c4a",
   "metadata": {},
   "outputs": [
    {
     "name": "stdout",
     "output_type": "stream",
     "text": [
      "10 is equal to 5 multilied by 2!\n"
     ]
    }
   ],
   "source": [
    "if 10 == 5*2:\n",
    "    print(\"10 is equal to 5 multilied by 2!\")"
   ]
  },
  {
   "cell_type": "code",
   "execution_count": 256,
   "id": "62316f56",
   "metadata": {},
   "outputs": [],
   "source": [
    "if 10 == 3*2:\n",
    "    print(\"this is not executed!\")"
   ]
  },
  {
   "cell_type": "code",
   "execution_count": 257,
   "id": "ad429be6",
   "metadata": {},
   "outputs": [
    {
     "name": "stdout",
     "output_type": "stream",
     "text": [
      "this string will be executed\n",
      "thanks for finishing the process\n"
     ]
    }
   ],
   "source": [
    "x = 15\n",
    "\n",
    "if x >= 10:\n",
    "    print(\"this string will be executed\")\n",
    "    print(\"thanks for finishing the process\")"
   ]
  },
  {
   "cell_type": "code",
   "execution_count": 258,
   "id": "b3903a2d",
   "metadata": {},
   "outputs": [
    {
     "name": "stdout",
     "output_type": "stream",
     "text": [
      "sorry, you failed\n",
      "Thanks for joining us!\n"
     ]
    }
   ],
   "source": [
    "x = 20\n",
    "if x >= 30:\n",
    "    print(\"you are succeeded!\")\n",
    "if x <= 30:\n",
    "    print (\"sorry, you failed\")\n",
    "    \n",
    "print(\"Thanks for joining us!\")    "
   ]
  },
  {
   "cell_type": "code",
   "execution_count": 259,
   "id": "a5b8d05e",
   "metadata": {},
   "outputs": [
    {
     "name": "stdout",
     "output_type": "stream",
     "text": [
      "sorry, you failed\n",
      "Thanks for joining us!\n"
     ]
    }
   ],
   "source": [
    "x = 25\n",
    "if x >= 30:\n",
    "    print(\"you are succeeded!\")\n",
    "else:\n",
    "    print (\"sorry, you failed\")\n",
    "    \n",
    "print(\"Thanks for joining us!\") "
   ]
  },
  {
   "cell_type": "code",
   "execution_count": 260,
   "id": "8105c980",
   "metadata": {},
   "outputs": [
    {
     "name": "stdout",
     "output_type": "stream",
     "text": [
      "you are in the middle\n",
      "Thanks for joining us!\n"
     ]
    }
   ],
   "source": [
    "x = 30\n",
    "if x > 30:\n",
    "    print(\"you are succeeded!\")\n",
    "    \n",
    "elif x == 30:\n",
    "    print(\"you are in the middle\")\n",
    "    \n",
    "else:\n",
    "    print (\"sorry, you failed\")\n",
    "    \n",
    "print(\"Thanks for joining us!\") "
   ]
  },
  {
   "cell_type": "markdown",
   "id": "4d4546b2",
   "metadata": {},
   "source": [
    "# The While Loop "
   ]
  },
  {
   "cell_type": "markdown",
   "id": "d01c376d",
   "metadata": {},
   "source": [
    "* Loops types; While and for loops\n",
    "* repeate a block of code based on condition\n",
    "* start the while loop with the while keyword"
   ]
  },
  {
   "cell_type": "code",
   "execution_count": 261,
   "id": "d4be7c55",
   "metadata": {},
   "outputs": [
    {
     "name": "stdout",
     "output_type": "stream",
     "text": [
      "1\n",
      "2\n",
      "3\n",
      "4\n",
      "5\n",
      "6\n"
     ]
    }
   ],
   "source": [
    "x = 1\n",
    "\n",
    "while x < 7:\n",
    "    print(x)\n",
    "    x = x + 1"
   ]
  },
  {
   "cell_type": "markdown",
   "id": "c7af51dc",
   "metadata": {},
   "source": [
    "# The for Loop"
   ]
  },
  {
   "cell_type": "markdown",
   "id": "7a16409d",
   "metadata": {},
   "source": [
    "* Execute a portion of code once for each element in sequence of elements or iterate over collections\n",
    "* use the for keyword to start the for loop"
   ]
  },
  {
   "cell_type": "code",
   "execution_count": 262,
   "id": "5990b355",
   "metadata": {},
   "outputs": [
    {
     "name": "stdout",
     "output_type": "stream",
     "text": [
      "p\n",
      "r\n",
      "o\n",
      "g\n",
      "r\n",
      "a\n",
      "m\n",
      "m\n",
      "i\n",
      "n\n",
      "g\n"
     ]
    }
   ],
   "source": [
    "for chars in \"programming\":\n",
    "    print(chars)"
   ]
  },
  {
   "cell_type": "code",
   "execution_count": 263,
   "id": "eeb59624",
   "metadata": {},
   "outputs": [
    {
     "name": "stdout",
     "output_type": "stream",
     "text": [
      "programming\n",
      "programming\n",
      "programming\n",
      "programming\n",
      "programming\n"
     ]
    }
   ],
   "source": [
    "for i in range(5):\n",
    "    print(\"programming\")"
   ]
  },
  {
   "cell_type": "code",
   "execution_count": 264,
   "id": "52247cc7",
   "metadata": {},
   "outputs": [
    {
     "name": "stdout",
     "output_type": "stream",
     "text": [
      "10\n",
      "12\n",
      "14\n",
      "16\n",
      "18\n",
      "20\n",
      "22\n",
      "24\n",
      "26\n",
      "28\n"
     ]
    }
   ],
   "source": [
    "for i in range (5,15):\n",
    "    print(i + i)"
   ]
  },
  {
   "cell_type": "code",
   "execution_count": 265,
   "id": "18bc42f1",
   "metadata": {},
   "outputs": [
    {
     "name": "stdout",
     "output_type": "stream",
     "text": [
      "1\n",
      "2\n",
      "10\n"
     ]
    }
   ],
   "source": [
    "for i in [1,2,10]:\n",
    "    print(i)"
   ]
  },
  {
   "cell_type": "markdown",
   "id": "74c6c8c8",
   "metadata": {},
   "source": [
    "# Built in Functions"
   ]
  },
  {
   "cell_type": "markdown",
   "id": "6487df10",
   "metadata": {},
   "source": [
    "* Function :block of related statements to peform actions\n",
    "* Function types: Built-in and User-defined functions \n",
    "* Call it to work and you can call it many time "
   ]
  },
  {
   "cell_type": "code",
   "execution_count": 266,
   "id": "9a38303e",
   "metadata": {},
   "outputs": [
    {
     "data": {
      "text/plain": [
       "11"
      ]
     },
     "execution_count": 266,
     "metadata": {},
     "output_type": "execute_result"
    }
   ],
   "source": [
    "abs(11)  # Absolute value "
   ]
  },
  {
   "cell_type": "code",
   "execution_count": 267,
   "id": "945a7b13",
   "metadata": {},
   "outputs": [
    {
     "data": {
      "text/plain": [
       "12.43"
      ]
     },
     "execution_count": 267,
     "metadata": {},
     "output_type": "execute_result"
    }
   ],
   "source": [
    "abs(-12.43)"
   ]
  },
  {
   "cell_type": "code",
   "execution_count": 268,
   "id": "3f4f22e8",
   "metadata": {},
   "outputs": [
    {
     "data": {
      "text/plain": [
       "True"
      ]
     },
     "execution_count": 268,
     "metadata": {},
     "output_type": "execute_result"
    }
   ],
   "source": [
    "bool(1)"
   ]
  },
  {
   "cell_type": "code",
   "execution_count": 269,
   "id": "39783a2c",
   "metadata": {},
   "outputs": [
    {
     "data": {
      "text/plain": [
       "False"
      ]
     },
     "execution_count": 269,
     "metadata": {},
     "output_type": "execute_result"
    }
   ],
   "source": [
    "bool(0)"
   ]
  },
  {
   "cell_type": "code",
   "execution_count": 270,
   "id": "50af8145",
   "metadata": {},
   "outputs": [
    {
     "data": {
      "text/plain": [
       "(3+5j)"
      ]
     },
     "execution_count": 270,
     "metadata": {},
     "output_type": "execute_result"
    }
   ],
   "source": [
    "complex(3,5)"
   ]
  },
  {
   "cell_type": "code",
   "execution_count": 271,
   "id": "a269a281",
   "metadata": {},
   "outputs": [],
   "source": [
    "x = dict(name = 'Ahmed', age = 28)"
   ]
  },
  {
   "cell_type": "code",
   "execution_count": 272,
   "id": "f5c7f554",
   "metadata": {},
   "outputs": [
    {
     "data": {
      "text/plain": [
       "{'name': 'Ahmed', 'age': 28}"
      ]
     },
     "execution_count": 272,
     "metadata": {},
     "output_type": "execute_result"
    }
   ],
   "source": [
    "x"
   ]
  },
  {
   "cell_type": "code",
   "execution_count": 273,
   "id": "26df1372",
   "metadata": {},
   "outputs": [
    {
     "data": {
      "text/plain": [
       "['__class__',\n",
       " '__class_getitem__',\n",
       " '__contains__',\n",
       " '__delattr__',\n",
       " '__delitem__',\n",
       " '__dir__',\n",
       " '__doc__',\n",
       " '__eq__',\n",
       " '__format__',\n",
       " '__ge__',\n",
       " '__getattribute__',\n",
       " '__getitem__',\n",
       " '__gt__',\n",
       " '__hash__',\n",
       " '__init__',\n",
       " '__init_subclass__',\n",
       " '__ior__',\n",
       " '__iter__',\n",
       " '__le__',\n",
       " '__len__',\n",
       " '__lt__',\n",
       " '__ne__',\n",
       " '__new__',\n",
       " '__or__',\n",
       " '__reduce__',\n",
       " '__reduce_ex__',\n",
       " '__repr__',\n",
       " '__reversed__',\n",
       " '__ror__',\n",
       " '__setattr__',\n",
       " '__setitem__',\n",
       " '__sizeof__',\n",
       " '__str__',\n",
       " '__subclasshook__',\n",
       " 'clear',\n",
       " 'copy',\n",
       " 'fromkeys',\n",
       " 'get',\n",
       " 'items',\n",
       " 'keys',\n",
       " 'pop',\n",
       " 'popitem',\n",
       " 'setdefault',\n",
       " 'update',\n",
       " 'values']"
      ]
     },
     "execution_count": 273,
     "metadata": {},
     "output_type": "execute_result"
    }
   ],
   "source": [
    "dir(x)"
   ]
  },
  {
   "cell_type": "code",
   "execution_count": 274,
   "id": "9ea87a0f",
   "metadata": {},
   "outputs": [
    {
     "name": "stdout",
     "output_type": "stream",
     "text": [
      "Entered name: zmain\n"
     ]
    }
   ],
   "source": [
    "x = input(\"Entered name: \")"
   ]
  },
  {
   "cell_type": "code",
   "execution_count": 275,
   "id": "e80720c9",
   "metadata": {},
   "outputs": [
    {
     "name": "stdout",
     "output_type": "stream",
     "text": [
      "Hi, Functions!\n"
     ]
    }
   ],
   "source": [
    "print(\"Hi, Functions!\")"
   ]
  },
  {
   "cell_type": "code",
   "execution_count": 276,
   "id": "b9965de3",
   "metadata": {},
   "outputs": [
    {
     "data": {
      "text/plain": [
       "8"
      ]
     },
     "execution_count": 276,
     "metadata": {},
     "output_type": "execute_result"
    }
   ],
   "source": [
    "sum([1,2,5])"
   ]
  },
  {
   "cell_type": "code",
   "execution_count": 277,
   "id": "60f9547c",
   "metadata": {},
   "outputs": [
    {
     "data": {
      "text/plain": [
       "11"
      ]
     },
     "execution_count": 277,
     "metadata": {},
     "output_type": "execute_result"
    }
   ],
   "source": [
    "sum([1,10])"
   ]
  },
  {
   "cell_type": "code",
   "execution_count": 278,
   "id": "3c6ce03d",
   "metadata": {},
   "outputs": [
    {
     "name": "stdout",
     "output_type": "stream",
     "text": [
      "[(1, 4), (2, 5), (3, 6)]\n"
     ]
    }
   ],
   "source": [
    "x = [1,2,3]\n",
    "y = [4,5,6]\n",
    "\n",
    "z = zip(x,y)\n",
    "print(list(z))"
   ]
  },
  {
   "cell_type": "markdown",
   "id": "d9be6edd",
   "metadata": {},
   "source": [
    "# User - Defined Functions"
   ]
  },
  {
   "cell_type": "markdown",
   "id": "5184b515",
   "metadata": {},
   "source": [
    "* Series of related statement\n",
    "* Start with the def keyword\n",
    "* call it to work as many as you wish "
   ]
  },
  {
   "cell_type": "code",
   "execution_count": 279,
   "id": "d68d3355",
   "metadata": {},
   "outputs": [],
   "source": [
    "def addition (x,y):\n",
    "    \"return the sum of x and y back to the caller\"\n",
    "    add = x + y\n",
    "    return add"
   ]
  },
  {
   "cell_type": "code",
   "execution_count": 280,
   "id": "bcbf122c",
   "metadata": {},
   "outputs": [
    {
     "data": {
      "text/plain": [
       "148"
      ]
     },
     "execution_count": 280,
     "metadata": {},
     "output_type": "execute_result"
    }
   ],
   "source": [
    "addition (100,48)"
   ]
  },
  {
   "cell_type": "code",
   "execution_count": 281,
   "id": "bf46c478",
   "metadata": {},
   "outputs": [
    {
     "data": {
      "text/plain": [
       "14"
      ]
     },
     "execution_count": 281,
     "metadata": {},
     "output_type": "execute_result"
    }
   ],
   "source": [
    "addition (10,4)"
   ]
  },
  {
   "cell_type": "code",
   "execution_count": 282,
   "id": "f9934a59",
   "metadata": {},
   "outputs": [
    {
     "name": "stdout",
     "output_type": "stream",
     "text": [
      "50\n"
     ]
    }
   ],
   "source": [
    "print(addition(20,30))"
   ]
  },
  {
   "cell_type": "code",
   "execution_count": 283,
   "id": "29eceeb6",
   "metadata": {},
   "outputs": [
    {
     "name": "stdout",
     "output_type": "stream",
     "text": [
      "Help on function addition in module __main__:\n",
      "\n",
      "addition(x, y)\n",
      "    return the sum of x and y back to the caller\n",
      "\n"
     ]
    }
   ],
   "source": [
    "help(addition)"
   ]
  },
  {
   "cell_type": "code",
   "execution_count": 284,
   "id": "42721d03",
   "metadata": {},
   "outputs": [],
   "source": [
    "x = 20\n",
    "\n",
    "def new():\n",
    "    x = 5\n",
    "    print(x)"
   ]
  },
  {
   "cell_type": "code",
   "execution_count": 285,
   "id": "607f636c",
   "metadata": {},
   "outputs": [
    {
     "name": "stdout",
     "output_type": "stream",
     "text": [
      "5\n"
     ]
    }
   ],
   "source": [
    "new()"
   ]
  },
  {
   "cell_type": "code",
   "execution_count": 286,
   "id": "426293df",
   "metadata": {},
   "outputs": [
    {
     "data": {
      "text/plain": [
       "20"
      ]
     },
     "execution_count": 286,
     "metadata": {},
     "output_type": "execute_result"
    }
   ],
   "source": [
    "x"
   ]
  },
  {
   "cell_type": "code",
   "execution_count": 287,
   "id": "51bd9586",
   "metadata": {},
   "outputs": [
    {
     "name": "stdout",
     "output_type": "stream",
     "text": [
      "20\n"
     ]
    }
   ],
   "source": [
    "print(x)"
   ]
  },
  {
   "cell_type": "code",
   "execution_count": 288,
   "id": "e1d05675",
   "metadata": {},
   "outputs": [
    {
     "name": "stdout",
     "output_type": "stream",
     "text": [
      "5\n",
      "None\n"
     ]
    }
   ],
   "source": [
    "print(new())"
   ]
  },
  {
   "cell_type": "markdown",
   "id": "e57c6ff5",
   "metadata": {},
   "source": [
    "# Anonymous Lambda"
   ]
  },
  {
   "cell_type": "code",
   "execution_count": 289,
   "id": "ed902eaf",
   "metadata": {},
   "outputs": [],
   "source": [
    "multiply = lambda x: x * 20"
   ]
  },
  {
   "cell_type": "code",
   "execution_count": 290,
   "id": "02f4063b",
   "metadata": {},
   "outputs": [
    {
     "name": "stdout",
     "output_type": "stream",
     "text": [
      "40\n"
     ]
    }
   ],
   "source": [
    "print (multiply(2))"
   ]
  },
  {
   "cell_type": "code",
   "execution_count": 291,
   "id": "5d34685d",
   "metadata": {},
   "outputs": [
    {
     "name": "stdout",
     "output_type": "stream",
     "text": [
      "80\n"
     ]
    }
   ],
   "source": [
    "print (multiply(4))"
   ]
  },
  {
   "cell_type": "code",
   "execution_count": 292,
   "id": "63b37e46",
   "metadata": {},
   "outputs": [],
   "source": [
    "remaind = lambda n: n % 2"
   ]
  },
  {
   "cell_type": "code",
   "execution_count": 293,
   "id": "196732f5",
   "metadata": {},
   "outputs": [
    {
     "name": "stdout",
     "output_type": "stream",
     "text": [
      "0\n"
     ]
    }
   ],
   "source": [
    "print(remaind(12))"
   ]
  },
  {
   "cell_type": "code",
   "execution_count": 294,
   "id": "72f9d35a",
   "metadata": {},
   "outputs": [
    {
     "name": "stdout",
     "output_type": "stream",
     "text": [
      "1\n"
     ]
    }
   ],
   "source": [
    "print(remaind(11))"
   ]
  },
  {
   "cell_type": "code",
   "execution_count": 295,
   "id": "17c6dfd1",
   "metadata": {},
   "outputs": [
    {
     "name": "stdout",
     "output_type": "stream",
     "text": [
      "1\n"
     ]
    }
   ],
   "source": [
    "print(remaind(133))"
   ]
  },
  {
   "cell_type": "code",
   "execution_count": 296,
   "id": "69429559",
   "metadata": {},
   "outputs": [],
   "source": [
    "def testing(n):\n",
    "    return lambda i: i * n"
   ]
  },
  {
   "cell_type": "code",
   "execution_count": 297,
   "id": "0838166a",
   "metadata": {},
   "outputs": [],
   "source": [
    "r1 = testing(12)"
   ]
  },
  {
   "cell_type": "code",
   "execution_count": 298,
   "id": "1266e748",
   "metadata": {},
   "outputs": [
    {
     "name": "stdout",
     "output_type": "stream",
     "text": [
      "60\n"
     ]
    }
   ],
   "source": [
    "print(r1(5))"
   ]
  },
  {
   "cell_type": "code",
   "execution_count": 299,
   "id": "de709bd5",
   "metadata": {},
   "outputs": [
    {
     "name": "stdout",
     "output_type": "stream",
     "text": [
      "150\n"
     ]
    }
   ],
   "source": [
    "r2 = testing(10)\n",
    "print(r2(15))"
   ]
  },
  {
   "cell_type": "markdown",
   "id": "521629cb",
   "metadata": {},
   "source": [
    "# Breaking a Loop "
   ]
  },
  {
   "cell_type": "markdown",
   "id": "5da9214b",
   "metadata": {},
   "source": [
    "* Using break statement to break out a loop in a condition \n",
    "* you can break while loop and for loop to stop the loop"
   ]
  },
  {
   "cell_type": "code",
   "execution_count": 300,
   "id": "e065f476",
   "metadata": {},
   "outputs": [
    {
     "name": "stdout",
     "output_type": "stream",
     "text": [
      "0\n",
      "1\n",
      "2\n",
      "3\n",
      "The last number in the loop is 4\n"
     ]
    }
   ],
   "source": [
    "for x in range(0,6):\n",
    "    if x == 4:\n",
    "        break\n",
    "    print(x)\n",
    "\n",
    "print(f\"The last number in the loop is {x}\")        \n",
    "        "
   ]
  },
  {
   "cell_type": "code",
   "execution_count": 301,
   "id": "5b87d713",
   "metadata": {},
   "outputs": [
    {
     "name": "stdout",
     "output_type": "stream",
     "text": [
      "0\n",
      "1\n",
      "2\n",
      "The last number in the loop is 3\n"
     ]
    }
   ],
   "source": [
    "for x in range(0,5):\n",
    "    if x == 3:\n",
    "        break\n",
    "    print(x)\n",
    "\n",
    "print(f\"The last number in the loop is {x}\")        \n",
    "        "
   ]
  },
  {
   "cell_type": "markdown",
   "id": "69394cb6",
   "metadata": {},
   "source": [
    "# Using continue statement "
   ]
  },
  {
   "cell_type": "code",
   "execution_count": 302,
   "id": "36cb8adc",
   "metadata": {},
   "outputs": [
    {
     "name": "stdout",
     "output_type": "stream",
     "text": [
      "0\n",
      "1\n",
      "2\n",
      "4\n",
      "5\n",
      "6\n",
      "The last number in the loop is x = 6\n"
     ]
    }
   ],
   "source": [
    "for x in range (0,7):\n",
    "    if x == 3:\n",
    "        continue\n",
    "    print(x)  \n",
    "print(f\"The last number in the loop is x = {x}\")    "
   ]
  },
  {
   "cell_type": "markdown",
   "id": "2ae372e8",
   "metadata": {},
   "source": [
    "# The else Statement"
   ]
  },
  {
   "cell_type": "code",
   "execution_count": 303,
   "id": "a253f9b8",
   "metadata": {},
   "outputs": [
    {
     "name": "stdout",
     "output_type": "stream",
     "text": [
      "There is no v!\n"
     ]
    }
   ],
   "source": [
    "message = \"Python is so simple!\"\n",
    "\n",
    "for item in message:\n",
    "    if item == \"v\":\n",
    "        break\n",
    "else:\n",
    "    print(\"There is no v!\")"
   ]
  },
  {
   "cell_type": "code",
   "execution_count": 304,
   "id": "221a0180",
   "metadata": {},
   "outputs": [],
   "source": [
    "message = \"Python is so simple!\"\n",
    "\n",
    "for item in message:\n",
    "    if item == \"p\":\n",
    "        break\n",
    "else:\n",
    "    print(\"There is no v!\")"
   ]
  },
  {
   "cell_type": "code",
   "execution_count": 305,
   "id": "4286dcaa",
   "metadata": {},
   "outputs": [
    {
     "name": "stdout",
     "output_type": "stream",
     "text": [
      "Enter pass:123#@2\n"
     ]
    }
   ],
   "source": [
    "for x in range(4):\n",
    "    password = input(\"Enter pass:\")\n",
    "    if password == \"123#@2\":\n",
    "        break\n",
    "    print(\"Error, this is not correct.... Try again!\")\n",
    "    \n",
    "else:\n",
    "    print(\"The process is completed. Thanks!\")\n",
    "    "
   ]
  },
  {
   "cell_type": "markdown",
   "id": "6805d5b5",
   "metadata": {},
   "source": [
    "# Class in Python"
   ]
  },
  {
   "cell_type": "code",
   "execution_count": 313,
   "id": "5576f746",
   "metadata": {},
   "outputs": [],
   "source": [
    "class Car:\n",
    "    pass"
   ]
  },
  {
   "cell_type": "code",
   "execution_count": 314,
   "id": "97abeb1c",
   "metadata": {},
   "outputs": [],
   "source": [
    "model1 = Car()"
   ]
  },
  {
   "cell_type": "code",
   "execution_count": 315,
   "id": "49be7b2e",
   "metadata": {},
   "outputs": [],
   "source": [
    "class Car:\n",
    "    color = \"black\""
   ]
  },
  {
   "cell_type": "code",
   "execution_count": 316,
   "id": "31eb9859",
   "metadata": {},
   "outputs": [],
   "source": [
    "model1 = Car()"
   ]
  },
  {
   "cell_type": "code",
   "execution_count": 317,
   "id": "6ea35786",
   "metadata": {},
   "outputs": [
    {
     "name": "stdout",
     "output_type": "stream",
     "text": [
      "black\n"
     ]
    }
   ],
   "source": [
    "print(model1.color)"
   ]
  },
  {
   "cell_type": "code",
   "execution_count": 318,
   "id": "5c44622b",
   "metadata": {},
   "outputs": [],
   "source": [
    "class Car:\n",
    "    def __init__ (self, name, color):\n",
    "        self.name = name\n",
    "        self.color = color"
   ]
  },
  {
   "cell_type": "code",
   "execution_count": 319,
   "id": "5159b160",
   "metadata": {},
   "outputs": [
    {
     "name": "stdout",
     "output_type": "stream",
     "text": [
      "A1\n",
      "Blue\n"
     ]
    }
   ],
   "source": [
    "model1 = Car(\"A1\", \"Blue\" )\n",
    "print(model1.name)\n",
    "print(model1.color)"
   ]
  },
  {
   "cell_type": "code",
   "execution_count": 320,
   "id": "0086ab5d",
   "metadata": {},
   "outputs": [],
   "source": [
    "class Car:\n",
    "    def __init__ (self, name, color):\n",
    "        self.name = name\n",
    "        self.color = color\n",
    "    def message(self):\n",
    "        print(\"The car name is \" + self.name)"
   ]
  },
  {
   "cell_type": "code",
   "execution_count": 321,
   "id": "f123ed32",
   "metadata": {},
   "outputs": [],
   "source": [
    "model1 = Car(\"A6\", \"White\")"
   ]
  },
  {
   "cell_type": "code",
   "execution_count": 322,
   "id": "40c10d2e",
   "metadata": {},
   "outputs": [
    {
     "name": "stdout",
     "output_type": "stream",
     "text": [
      "The car name is A6\n"
     ]
    }
   ],
   "source": [
    "model1.message()"
   ]
  },
  {
   "cell_type": "code",
   "execution_count": 323,
   "id": "bb5f7e92",
   "metadata": {},
   "outputs": [],
   "source": [
    "model1.color = \"Red\""
   ]
  },
  {
   "cell_type": "code",
   "execution_count": 324,
   "id": "cab35975",
   "metadata": {},
   "outputs": [
    {
     "name": "stdout",
     "output_type": "stream",
     "text": [
      "Red\n"
     ]
    }
   ],
   "source": [
    "print(model1.color)"
   ]
  },
  {
   "cell_type": "markdown",
   "id": "1f4214d5",
   "metadata": {},
   "source": [
    "# Inheritance"
   ]
  },
  {
   "cell_type": "markdown",
   "id": "b30a063b",
   "metadata": {},
   "source": [
    "* Creating a class based on another class to inherit all methods and properties"
   ]
  },
  {
   "cell_type": "code",
   "execution_count": 325,
   "id": "4520054c",
   "metadata": {},
   "outputs": [],
   "source": [
    "class Car:\n",
    "    def __init__ (self, name, color):\n",
    "        self.name = name\n",
    "        self.color = color\n",
    "    def message(self):\n",
    "        print(self.name, self.color)"
   ]
  },
  {
   "cell_type": "code",
   "execution_count": 326,
   "id": "a466d3b7",
   "metadata": {},
   "outputs": [],
   "source": [
    "model1 = Car(\"BMW X1\", \"Blue\")"
   ]
  },
  {
   "cell_type": "code",
   "execution_count": 327,
   "id": "af9bb322",
   "metadata": {},
   "outputs": [
    {
     "name": "stdout",
     "output_type": "stream",
     "text": [
      "BMW X1 Blue\n"
     ]
    }
   ],
   "source": [
    "model1.message()"
   ]
  },
  {
   "cell_type": "code",
   "execution_count": 328,
   "id": "f99ce4c2",
   "metadata": {},
   "outputs": [],
   "source": [
    "class Car1(Car):\n",
    "    pass"
   ]
  },
  {
   "cell_type": "code",
   "execution_count": 329,
   "id": "69001ae7",
   "metadata": {},
   "outputs": [],
   "source": [
    "model1 = Car1(\"B1\", \"White\")"
   ]
  },
  {
   "cell_type": "code",
   "execution_count": 330,
   "id": "e7f76d65",
   "metadata": {},
   "outputs": [
    {
     "name": "stdout",
     "output_type": "stream",
     "text": [
      "B1 White\n"
     ]
    }
   ],
   "source": [
    "model1.message()"
   ]
  },
  {
   "cell_type": "code",
   "execution_count": 331,
   "id": "f3bba733",
   "metadata": {},
   "outputs": [],
   "source": [
    "class Car1(Car):\n",
    "    def __init__(self, name, color):\n",
    "        Car.__init__(self, name, color)\n",
    "        \n",
    "        "
   ]
  },
  {
   "cell_type": "code",
   "execution_count": 332,
   "id": "8aecdbdd",
   "metadata": {},
   "outputs": [],
   "source": [
    "model2 = Car1(\"X2\", \"Yellow\")"
   ]
  },
  {
   "cell_type": "code",
   "execution_count": 333,
   "id": "b06fca29",
   "metadata": {},
   "outputs": [
    {
     "name": "stdout",
     "output_type": "stream",
     "text": [
      "X2 Yellow\n"
     ]
    }
   ],
   "source": [
    "model2.message()"
   ]
  },
  {
   "cell_type": "markdown",
   "id": "6d17ebf6",
   "metadata": {},
   "source": [
    "# Comprehensions"
   ]
  },
  {
   "cell_type": "markdown",
   "id": "f474b4be",
   "metadata": {},
   "source": [
    "* List Comprehensions: short easy way to create a list from another sequence\n",
    "* Syntax: [ expression for elementin sequence if condition]"
   ]
  },
  {
   "cell_type": "code",
   "execution_count": 334,
   "id": "581a66f1",
   "metadata": {},
   "outputs": [],
   "source": [
    "x = range(14)\n"
   ]
  },
  {
   "cell_type": "code",
   "execution_count": 335,
   "id": "ca0aa55c",
   "metadata": {},
   "outputs": [],
   "source": [
    "evens = [ n for n in x if n % 2 == 0]"
   ]
  },
  {
   "cell_type": "code",
   "execution_count": 336,
   "id": "c23ce9fa",
   "metadata": {},
   "outputs": [
    {
     "data": {
      "text/plain": [
       "[0, 2, 4, 6, 8, 10, 12]"
      ]
     },
     "execution_count": 336,
     "metadata": {},
     "output_type": "execute_result"
    }
   ],
   "source": [
    "evens"
   ]
  },
  {
   "cell_type": "code",
   "execution_count": 337,
   "id": "677be360",
   "metadata": {},
   "outputs": [],
   "source": [
    "square_nums = [ n * n for n in x]"
   ]
  },
  {
   "cell_type": "code",
   "execution_count": 338,
   "id": "29ca94fb",
   "metadata": {},
   "outputs": [
    {
     "data": {
      "text/plain": [
       "[0, 1, 4, 9, 16, 25, 36, 49, 64, 81, 100, 121, 144, 169]"
      ]
     },
     "execution_count": 338,
     "metadata": {},
     "output_type": "execute_result"
    }
   ],
   "source": [
    "square_nums"
   ]
  },
  {
   "cell_type": "code",
   "execution_count": 339,
   "id": "f312e940",
   "metadata": {},
   "outputs": [],
   "source": [
    "set_of_squares = { n *n for n in x}"
   ]
  },
  {
   "cell_type": "code",
   "execution_count": 340,
   "id": "7ed3a686",
   "metadata": {},
   "outputs": [
    {
     "data": {
      "text/plain": [
       "{0, 1, 4, 9, 16, 25, 36, 49, 64, 81, 100, 121, 144, 169}"
      ]
     },
     "execution_count": 340,
     "metadata": {},
     "output_type": "execute_result"
    }
   ],
   "source": [
    "set_of_squares"
   ]
  },
  {
   "cell_type": "markdown",
   "id": "0ad6431b",
   "metadata": {},
   "source": [
    "# Built-in Modules "
   ]
  },
  {
   "cell_type": "markdown",
   "id": "ed43889d",
   "metadata": {},
   "source": [
    "* Several built-in modules in Python\n",
    "* Module: Python file with.py\n",
    "* import random"
   ]
  },
  {
   "cell_type": "code",
   "execution_count": 341,
   "id": "7019944c",
   "metadata": {},
   "outputs": [],
   "source": [
    "import random"
   ]
  },
  {
   "cell_type": "code",
   "execution_count": 342,
   "id": "0ec76720",
   "metadata": {},
   "outputs": [],
   "source": [
    "new_randint = random.randint"
   ]
  },
  {
   "cell_type": "code",
   "execution_count": 343,
   "id": "f6824d25",
   "metadata": {},
   "outputs": [
    {
     "name": "stdout",
     "output_type": "stream",
     "text": [
      "20\n"
     ]
    }
   ],
   "source": [
    "print(new_randint(10,79))"
   ]
  },
  {
   "cell_type": "code",
   "execution_count": 344,
   "id": "e5e9d506",
   "metadata": {},
   "outputs": [],
   "source": [
    "from random import randint"
   ]
  },
  {
   "cell_type": "code",
   "execution_count": 345,
   "id": "ae9f1f52",
   "metadata": {},
   "outputs": [
    {
     "name": "stdout",
     "output_type": "stream",
     "text": [
      "26\n"
     ]
    }
   ],
   "source": [
    "print(randint(10,79))"
   ]
  },
  {
   "cell_type": "code",
   "execution_count": 346,
   "id": "7b3f926f",
   "metadata": {},
   "outputs": [],
   "source": [
    "from random import randint, choice"
   ]
  },
  {
   "cell_type": "code",
   "execution_count": 347,
   "id": "cc66453a",
   "metadata": {},
   "outputs": [
    {
     "name": "stdout",
     "output_type": "stream",
     "text": [
      "13\n"
     ]
    }
   ],
   "source": [
    "print(randint(2, 40))"
   ]
  },
  {
   "cell_type": "code",
   "execution_count": 348,
   "id": "ba1d8a40",
   "metadata": {},
   "outputs": [
    {
     "name": "stdout",
     "output_type": "stream",
     "text": [
      "55\n"
     ]
    }
   ],
   "source": [
    "print(choice([11,31,45,70,55]))"
   ]
  },
  {
   "cell_type": "markdown",
   "id": "ed321225",
   "metadata": {},
   "source": [
    "# Data Visualization"
   ]
  },
  {
   "cell_type": "markdown",
   "id": "78234a23",
   "metadata": {},
   "source": [
    "* import the math module to use mathematical functions\n",
    "* import math\n",
    "* from math import sin, cos, tan, log"
   ]
  },
  {
   "cell_type": "code",
   "execution_count": 349,
   "id": "d087a9b9",
   "metadata": {},
   "outputs": [],
   "source": [
    "import math"
   ]
  },
  {
   "cell_type": "code",
   "execution_count": 350,
   "id": "fb07222f",
   "metadata": {},
   "outputs": [
    {
     "data": {
      "text/plain": [
       "6.0"
      ]
     },
     "execution_count": 350,
     "metadata": {},
     "output_type": "execute_result"
    }
   ],
   "source": [
    "math.sqrt(36)"
   ]
  },
  {
   "cell_type": "code",
   "execution_count": 351,
   "id": "7106e92c",
   "metadata": {},
   "outputs": [
    {
     "data": {
      "text/plain": [
       "2.23606797749979"
      ]
     },
     "execution_count": 351,
     "metadata": {},
     "output_type": "execute_result"
    }
   ],
   "source": [
    "math.sqrt(5)"
   ]
  },
  {
   "cell_type": "code",
   "execution_count": 352,
   "id": "8a4d288f",
   "metadata": {},
   "outputs": [
    {
     "data": {
      "text/plain": [
       "2.718281828459045"
      ]
     },
     "execution_count": 352,
     "metadata": {},
     "output_type": "execute_result"
    }
   ],
   "source": [
    "math.e"
   ]
  },
  {
   "cell_type": "code",
   "execution_count": 353,
   "id": "6851b103",
   "metadata": {},
   "outputs": [
    {
     "data": {
      "text/plain": [
       "3.141592653589793"
      ]
     },
     "execution_count": 353,
     "metadata": {},
     "output_type": "execute_result"
    }
   ],
   "source": [
    "math.pi"
   ]
  },
  {
   "cell_type": "code",
   "execution_count": 354,
   "id": "cbf198b0",
   "metadata": {},
   "outputs": [
    {
     "data": {
      "text/plain": [
       "1.5707963267948966"
      ]
     },
     "execution_count": 354,
     "metadata": {},
     "output_type": "execute_result"
    }
   ],
   "source": [
    "math.radians(90)"
   ]
  },
  {
   "cell_type": "code",
   "execution_count": 355,
   "id": "ef88f020",
   "metadata": {},
   "outputs": [
    {
     "data": {
      "text/plain": [
       "29.999999999999996"
      ]
     },
     "execution_count": 355,
     "metadata": {},
     "output_type": "execute_result"
    }
   ],
   "source": [
    "math.degrees(math.pi/6)"
   ]
  },
  {
   "cell_type": "code",
   "execution_count": 356,
   "id": "c059e89f",
   "metadata": {},
   "outputs": [],
   "source": [
    "from math import sin, cos, tan, log"
   ]
  },
  {
   "cell_type": "code",
   "execution_count": 357,
   "id": "d24a748e",
   "metadata": {},
   "outputs": [
    {
     "data": {
      "text/plain": [
       "0.8509035245341184"
      ]
     },
     "execution_count": 357,
     "metadata": {},
     "output_type": "execute_result"
    }
   ],
   "source": [
    "math.sin(45)"
   ]
  },
  {
   "cell_type": "code",
   "execution_count": 358,
   "id": "83125741",
   "metadata": {},
   "outputs": [
    {
     "data": {
      "text/plain": [
       "0.8775825618903728"
      ]
     },
     "execution_count": 358,
     "metadata": {},
     "output_type": "execute_result"
    }
   ],
   "source": [
    "math.cos(0.50)"
   ]
  },
  {
   "cell_type": "code",
   "execution_count": 359,
   "id": "8da1f054",
   "metadata": {},
   "outputs": [
    {
     "data": {
      "text/plain": [
       "0.320040389379563"
      ]
     },
     "execution_count": 359,
     "metadata": {},
     "output_type": "execute_result"
    }
   ],
   "source": [
    "math.tan(60)"
   ]
  },
  {
   "cell_type": "code",
   "execution_count": 360,
   "id": "f49c7a01",
   "metadata": {},
   "outputs": [
    {
     "data": {
      "text/plain": [
       "2.302585092994046"
      ]
     },
     "execution_count": 360,
     "metadata": {},
     "output_type": "execute_result"
    }
   ],
   "source": [
    "math.log(10)"
   ]
  },
  {
   "cell_type": "code",
   "execution_count": 361,
   "id": "33c12618",
   "metadata": {},
   "outputs": [
    {
     "data": {
      "text/plain": [
       "0.0"
      ]
     },
     "execution_count": 361,
     "metadata": {},
     "output_type": "execute_result"
    }
   ],
   "source": [
    "math.log(1)"
   ]
  },
  {
   "cell_type": "code",
   "execution_count": 362,
   "id": "06c1e66c",
   "metadata": {},
   "outputs": [
    {
     "data": {
      "text/plain": [
       "2.995732273553991"
      ]
     },
     "execution_count": 362,
     "metadata": {},
     "output_type": "execute_result"
    }
   ],
   "source": [
    "math.log(20)"
   ]
  },
  {
   "cell_type": "markdown",
   "id": "7065b3e0",
   "metadata": {},
   "source": [
    "# Statistics Built-in Module"
   ]
  },
  {
   "cell_type": "markdown",
   "id": "d432f510",
   "metadata": {},
   "source": [
    "* The statistics module provides functions for math and statistical operations \n",
    "* import statistics"
   ]
  },
  {
   "cell_type": "code",
   "execution_count": 363,
   "id": "32c7f436",
   "metadata": {},
   "outputs": [],
   "source": [
    "import statistics"
   ]
  },
  {
   "cell_type": "code",
   "execution_count": 364,
   "id": "3d9632ca",
   "metadata": {},
   "outputs": [
    {
     "data": {
      "text/plain": [
       "50"
      ]
     },
     "execution_count": 364,
     "metadata": {},
     "output_type": "execute_result"
    }
   ],
   "source": [
    "statistics.mean([10, 30, 50, 90, 70])"
   ]
  },
  {
   "cell_type": "code",
   "execution_count": 365,
   "id": "8c83aea5",
   "metadata": {},
   "outputs": [
    {
     "data": {
      "text/plain": [
       "22"
      ]
     },
     "execution_count": 365,
     "metadata": {},
     "output_type": "execute_result"
    }
   ],
   "source": [
    "statistics.median([11,21,31,41,22])"
   ]
  },
  {
   "cell_type": "code",
   "execution_count": 366,
   "id": "eac47f55",
   "metadata": {},
   "outputs": [
    {
     "data": {
      "text/plain": [
       "3"
      ]
     },
     "execution_count": 366,
     "metadata": {},
     "output_type": "execute_result"
    }
   ],
   "source": [
    "statistics.mode([23,3,45,7,11,12,44,3])"
   ]
  },
  {
   "cell_type": "code",
   "execution_count": 394,
   "id": "49bcc97b",
   "metadata": {},
   "outputs": [
    {
     "data": {
      "text/plain": [
       "1.0801234497346435"
      ]
     },
     "execution_count": 394,
     "metadata": {},
     "output_type": "execute_result"
    }
   ],
   "source": [
    "statistics.stdev([2,2.5,3,3.5,4,4.5,5])"
   ]
  },
  {
   "cell_type": "code",
   "execution_count": 395,
   "id": "f0fe80a6",
   "metadata": {},
   "outputs": [
    {
     "name": "stdout",
     "output_type": "stream",
     "text": [
      "11\n"
     ]
    }
   ],
   "source": [
    "print(statistics.mean([5,7,13,19]))"
   ]
  },
  {
   "cell_type": "markdown",
   "id": "9163e18e",
   "metadata": {},
   "source": [
    "# Errors"
   ]
  },
  {
   "cell_type": "markdown",
   "id": "0349c6f3",
   "metadata": {},
   "source": [
    "* Python will raise a type of error when plaicng a wrong statement or something wrong in the code"
   ]
  },
  {
   "cell_type": "code",
   "execution_count": 372,
   "id": "0bce5ecd",
   "metadata": {},
   "outputs": [
    {
     "ename": "SyntaxError",
     "evalue": "Missing parentheses in call to 'print'. Did you mean print(...)? (2022508957.py, line 1)",
     "output_type": "error",
     "traceback": [
      "\u001b[1;36m  Cell \u001b[1;32mIn[372], line 1\u001b[1;36m\u001b[0m\n\u001b[1;33m    print\"py\"\u001b[0m\n\u001b[1;37m    ^\u001b[0m\n\u001b[1;31mSyntaxError\u001b[0m\u001b[1;31m:\u001b[0m Missing parentheses in call to 'print'. Did you mean print(...)?\n"
     ]
    }
   ],
   "source": [
    "print\"py\""
   ]
  },
  {
   "cell_type": "code",
   "execution_count": 373,
   "id": "c4fb6387",
   "metadata": {},
   "outputs": [],
   "source": [
    "x = [0,1,5]"
   ]
  },
  {
   "cell_type": "code",
   "execution_count": 375,
   "id": "520bb7d1",
   "metadata": {},
   "outputs": [
    {
     "data": {
      "text/plain": [
       "5"
      ]
     },
     "execution_count": 375,
     "metadata": {},
     "output_type": "execute_result"
    }
   ],
   "source": [
    "x[2]"
   ]
  },
  {
   "cell_type": "code",
   "execution_count": 376,
   "id": "337aa26a",
   "metadata": {},
   "outputs": [
    {
     "ename": "IndexError",
     "evalue": "list index out of range",
     "output_type": "error",
     "traceback": [
      "\u001b[1;31m---------------------------------------------------------------------------\u001b[0m",
      "\u001b[1;31mIndexError\u001b[0m                                Traceback (most recent call last)",
      "Cell \u001b[1;32mIn[376], line 1\u001b[0m\n\u001b[1;32m----> 1\u001b[0m \u001b[43mx\u001b[49m\u001b[43m[\u001b[49m\u001b[38;5;241;43m4\u001b[39;49m\u001b[43m]\u001b[49m\n",
      "\u001b[1;31mIndexError\u001b[0m: list index out of range"
     ]
    }
   ],
   "source": [
    "x[4]"
   ]
  },
  {
   "cell_type": "code",
   "execution_count": 377,
   "id": "d1feae02",
   "metadata": {},
   "outputs": [
    {
     "ename": "ModuleNotFoundError",
     "evalue": "No module named 'discovery'",
     "output_type": "error",
     "traceback": [
      "\u001b[1;31m---------------------------------------------------------------------------\u001b[0m",
      "\u001b[1;31mModuleNotFoundError\u001b[0m                       Traceback (most recent call last)",
      "Cell \u001b[1;32mIn[377], line 1\u001b[0m\n\u001b[1;32m----> 1\u001b[0m \u001b[38;5;28;01mimport\u001b[39;00m \u001b[38;5;21;01mdiscovery\u001b[39;00m\n",
      "\u001b[1;31mModuleNotFoundError\u001b[0m: No module named 'discovery'"
     ]
    }
   ],
   "source": [
    "import discovery"
   ]
  },
  {
   "cell_type": "code",
   "execution_count": 378,
   "id": "8e04f6e1",
   "metadata": {},
   "outputs": [
    {
     "ename": "TypeError",
     "evalue": "can only concatenate str (not \"int\") to str",
     "output_type": "error",
     "traceback": [
      "\u001b[1;31m---------------------------------------------------------------------------\u001b[0m",
      "\u001b[1;31mTypeError\u001b[0m                                 Traceback (most recent call last)",
      "Cell \u001b[1;32mIn[378], line 1\u001b[0m\n\u001b[1;32m----> 1\u001b[0m \u001b[38;5;124;43m'\u001b[39;49m\u001b[38;5;124;43m3\u001b[39;49m\u001b[38;5;124;43m'\u001b[39;49m\u001b[43m \u001b[49m\u001b[38;5;241;43m+\u001b[39;49m\u001b[43m \u001b[49m\u001b[38;5;241;43m4\u001b[39;49m\n",
      "\u001b[1;31mTypeError\u001b[0m: can only concatenate str (not \"int\") to str"
     ]
    }
   ],
   "source": [
    "'3' + 4 "
   ]
  },
  {
   "cell_type": "code",
   "execution_count": 379,
   "id": "30749f1e",
   "metadata": {},
   "outputs": [
    {
     "ename": "TypeError",
     "evalue": "can only concatenate str (not \"int\") to str",
     "output_type": "error",
     "traceback": [
      "\u001b[1;31m---------------------------------------------------------------------------\u001b[0m",
      "\u001b[1;31mTypeError\u001b[0m                                 Traceback (most recent call last)",
      "Cell \u001b[1;32mIn[379], line 1\u001b[0m\n\u001b[1;32m----> 1\u001b[0m \u001b[38;5;124;43m\"\u001b[39;49m\u001b[38;5;124;43m3\u001b[39;49m\u001b[38;5;124;43m\"\u001b[39;49m\u001b[43m \u001b[49m\u001b[38;5;241;43m+\u001b[39;49m\u001b[43m \u001b[49m\u001b[38;5;241;43m1\u001b[39;49m\n",
      "\u001b[1;31mTypeError\u001b[0m: can only concatenate str (not \"int\") to str"
     ]
    }
   ],
   "source": [
    "\"3\" + 1"
   ]
  },
  {
   "cell_type": "code",
   "execution_count": 380,
   "id": "ec04453c",
   "metadata": {},
   "outputs": [
    {
     "ename": "NameError",
     "evalue": "name 'hi' is not defined",
     "output_type": "error",
     "traceback": [
      "\u001b[1;31m---------------------------------------------------------------------------\u001b[0m",
      "\u001b[1;31mNameError\u001b[0m                                 Traceback (most recent call last)",
      "Cell \u001b[1;32mIn[380], line 1\u001b[0m\n\u001b[1;32m----> 1\u001b[0m \u001b[43mhi\u001b[49m\n",
      "\u001b[1;31mNameError\u001b[0m: name 'hi' is not defined"
     ]
    }
   ],
   "source": [
    "hi"
   ]
  },
  {
   "cell_type": "code",
   "execution_count": 381,
   "id": "5cc68ef4",
   "metadata": {},
   "outputs": [
    {
     "ename": "ZeroDivisionError",
     "evalue": "division by zero",
     "output_type": "error",
     "traceback": [
      "\u001b[1;31m---------------------------------------------------------------------------\u001b[0m",
      "\u001b[1;31mZeroDivisionError\u001b[0m                         Traceback (most recent call last)",
      "Cell \u001b[1;32mIn[381], line 1\u001b[0m\n\u001b[1;32m----> 1\u001b[0m \u001b[38;5;241;43m50\u001b[39;49m\u001b[43m \u001b[49m\u001b[38;5;241;43m/\u001b[39;49m\u001b[43m \u001b[49m\u001b[38;5;241;43m0\u001b[39;49m\n",
      "\u001b[1;31mZeroDivisionError\u001b[0m: division by zero"
     ]
    }
   ],
   "source": [
    "50 / 0"
   ]
  },
  {
   "cell_type": "markdown",
   "id": "e2addf4c",
   "metadata": {},
   "source": [
    "# Exceptions Handling"
   ]
  },
  {
   "cell_type": "markdown",
   "id": "3c2062b4",
   "metadata": {},
   "source": [
    "* Using try and except for exceptions handling when typing something wrong in the code\n",
    "* If the try block raises error... Python will execute the proper except block\n",
    "\n",
    "Try: #code\n",
    "    \n",
    "except: #code"
   ]
  },
  {
   "cell_type": "code",
   "execution_count": null,
   "id": "d01a200c",
   "metadata": {},
   "outputs": [],
   "source": [
    "try:\n",
    "    x = 4\n",
    "    y = 0\n",
    "    print(x/y)\n",
    "    \n",
    "except:\n",
    "    print(\"There is an error here!\")\n",
    "print(\"The operation is completed!\")    "
   ]
  },
  {
   "cell_type": "code",
   "execution_count": null,
   "id": "953ec629",
   "metadata": {},
   "outputs": [],
   "source": [
    "try:\n",
    "    x = 4\n",
    "    y = 1\n",
    "    print(x/y)\n",
    "    \n",
    "except:\n",
    "    print(\"There is an error here!\")\n",
    "print(\"The operation is completed!\")  "
   ]
  },
  {
   "cell_type": "code",
   "execution_count": null,
   "id": "40a976cc",
   "metadata": {},
   "outputs": [],
   "source": [
    "try:\n",
    "    x = 4\n",
    "    y = 0\n",
    "    print(x/y)\n",
    "    \n",
    "except TypeError:\n",
    "    print(\"There is an error here!\")\n",
    "    \n",
    "except ZeroDivisionError:\n",
    "    print(\"You can't divide the number with zero!\")\n",
    "    \n",
    "print(\"The operation is completed!\")  "
   ]
  },
  {
   "cell_type": "code",
   "execution_count": null,
   "id": "a5bccb71",
   "metadata": {},
   "outputs": [],
   "source": [
    "What is the output of the following code?\n",
    "\n",
    "import statistics\n",
    "print(statistics.mean([5,7,13,19]))"
   ]
  },
  {
   "cell_type": "markdown",
   "id": "51a55a09",
   "metadata": {},
   "source": [
    "# The io Module"
   ]
  },
  {
   "cell_type": "markdown",
   "id": "bbafca52",
   "metadata": {},
   "source": [
    "* Using the io module implement file-like object in memory store data in memory and handling it."
   ]
  },
  {
   "cell_type": "code",
   "execution_count": 12,
   "id": "c028518e",
   "metadata": {},
   "outputs": [],
   "source": [
    "import io"
   ]
  },
  {
   "cell_type": "code",
   "execution_count": 13,
   "id": "9ea644b6",
   "metadata": {},
   "outputs": [],
   "source": [
    "new_text = \"learning python and data analysis\""
   ]
  },
  {
   "cell_type": "code",
   "execution_count": 14,
   "id": "4eab275b",
   "metadata": {},
   "outputs": [],
   "source": [
    "file = io.StringIO(new_text)"
   ]
  },
  {
   "cell_type": "code",
   "execution_count": 15,
   "id": "e423cab6",
   "metadata": {},
   "outputs": [
    {
     "data": {
      "text/plain": [
       "'learning python and data analysis'"
      ]
     },
     "execution_count": 15,
     "metadata": {},
     "output_type": "execute_result"
    }
   ],
   "source": [
    "file.read()"
   ]
  },
  {
   "cell_type": "code",
   "execution_count": 16,
   "id": "d3ea8705",
   "metadata": {},
   "outputs": [
    {
     "data": {
      "text/plain": [
       "35"
      ]
     },
     "execution_count": 16,
     "metadata": {},
     "output_type": "execute_result"
    }
   ],
   "source": [
    "file.write(\" Master the Data handling concepts \")"
   ]
  },
  {
   "cell_type": "code",
   "execution_count": 17,
   "id": "c0fb4f9b",
   "metadata": {},
   "outputs": [
    {
     "data": {
      "text/plain": [
       "0"
      ]
     },
     "execution_count": 17,
     "metadata": {},
     "output_type": "execute_result"
    }
   ],
   "source": [
    "file.seek(0)"
   ]
  },
  {
   "cell_type": "code",
   "execution_count": 18,
   "id": "5e062dc4",
   "metadata": {},
   "outputs": [
    {
     "data": {
      "text/plain": [
       "'learning python and data analysis Master the Data handling concepts '"
      ]
     },
     "execution_count": 18,
     "metadata": {},
     "output_type": "execute_result"
    }
   ],
   "source": [
    "file.read()"
   ]
  },
  {
   "cell_type": "markdown",
   "id": "7a7e83b7",
   "metadata": {},
   "source": [
    "# The os Module"
   ]
  },
  {
   "cell_type": "markdown",
   "id": "40011592",
   "metadata": {},
   "source": [
    "* Using the os module to interact with operating system\n",
    "* Reading, Writing and deleting files\n",
    "* Working with directories and locations"
   ]
  },
  {
   "cell_type": "code",
   "execution_count": 19,
   "id": "d8d3955d",
   "metadata": {},
   "outputs": [],
   "source": [
    "import os"
   ]
  },
  {
   "cell_type": "code",
   "execution_count": 20,
   "id": "0ed7d5bb",
   "metadata": {},
   "outputs": [
    {
     "data": {
      "text/plain": [
       "'C:\\\\Users\\\\DELL\\\\Python Projects'"
      ]
     },
     "execution_count": 20,
     "metadata": {},
     "output_type": "execute_result"
    }
   ],
   "source": [
    "os.getcwd()"
   ]
  },
  {
   "cell_type": "code",
   "execution_count": 21,
   "id": "e89a6173",
   "metadata": {},
   "outputs": [
    {
     "data": {
      "text/plain": [
       "['.ipynb_checkpoints',\n",
       " '01-Python Crash Course.ipynb',\n",
       " 'car_data.csv',\n",
       " 'car_data_temp.csv',\n",
       " 'datasets',\n",
       " 'exercise_01',\n",
       " 'exercise_03',\n",
       " 'Output',\n",
       " 'Potato-disease',\n",
       " 'Trash.ipynb',\n",
       " 'Working_Files',\n",
       " 'zamin practise.ipynb']"
      ]
     },
     "execution_count": 21,
     "metadata": {},
     "output_type": "execute_result"
    }
   ],
   "source": [
    "os.listdir()"
   ]
  },
  {
   "cell_type": "markdown",
   "id": "a8c6ba63",
   "metadata": {},
   "source": [
    "# The shutil module"
   ]
  },
  {
   "cell_type": "markdown",
   "id": "782dd8e0",
   "metadata": {},
   "source": [
    "* Using the shutil module to move data file to different directories and folders"
   ]
  },
  {
   "cell_type": "code",
   "execution_count": 84,
   "id": "6307a4a1",
   "metadata": {},
   "outputs": [],
   "source": [
    "import shutil"
   ]
  },
  {
   "cell_type": "code",
   "execution_count": 85,
   "id": "f26160dc",
   "metadata": {},
   "outputs": [
    {
     "data": {
      "text/plain": [
       "'.\\\\Demo\\\\main.txt'"
      ]
     },
     "execution_count": 85,
     "metadata": {},
     "output_type": "execute_result"
    }
   ],
   "source": [
    "shutil.move('main.txt', '.\\Demo')   # pehle index btati h current location kha ki hai pr h dosri btati kha h kahan pr move krna h h "
   ]
  },
  {
   "cell_type": "code",
   "execution_count": 86,
   "id": "d2ed54c9",
   "metadata": {},
   "outputs": [
    {
     "data": {
      "text/plain": [
       "['.ipynb_checkpoints', 'demo1.txt', 'main.txt']"
      ]
     },
     "execution_count": 86,
     "metadata": {},
     "output_type": "execute_result"
    }
   ],
   "source": [
    "os.listdir('.\\demo')"
   ]
  },
  {
   "cell_type": "code",
   "execution_count": 29,
   "id": "0a310448",
   "metadata": {},
   "outputs": [
    {
     "data": {
      "text/plain": [
       "['.ipynb_checkpoints',\n",
       " '01-Python Crash Course.ipynb',\n",
       " 'car_data.csv',\n",
       " 'car_data_temp.csv',\n",
       " 'datasets',\n",
       " 'Demo',\n",
       " 'exercise_01',\n",
       " 'exercise_03',\n",
       " 'Output',\n",
       " 'Potato-disease',\n",
       " 'python projects',\n",
       " 'Trash.ipynb',\n",
       " 'Working_Files',\n",
       " 'zamin practise.ipynb']"
      ]
     },
     "execution_count": 29,
     "metadata": {},
     "output_type": "execute_result"
    }
   ],
   "source": [
    "os.listdir()"
   ]
  },
  {
   "cell_type": "code",
   "execution_count": 87,
   "id": "c2a74760",
   "metadata": {},
   "outputs": [
    {
     "data": {
      "text/plain": [
       "'C:\\\\Users\\\\DELL\\\\Python Projects\\\\main.txt'"
      ]
     },
     "execution_count": 87,
     "metadata": {},
     "output_type": "execute_result"
    }
   ],
   "source": [
    "shutil.move('.\\Demo\\main.txt', os.getcwd())"
   ]
  },
  {
   "cell_type": "code",
   "execution_count": 88,
   "id": "99fdab97",
   "metadata": {},
   "outputs": [
    {
     "data": {
      "text/plain": [
       "['.ipynb_checkpoints',\n",
       " '01-Python Crash Course.ipynb',\n",
       " 'car_data.csv',\n",
       " 'car_data_temp.csv',\n",
       " 'datasets',\n",
       " 'Demo',\n",
       " 'exercise_01',\n",
       " 'exercise_03',\n",
       " 'main.txt',\n",
       " 'new_comp.zip',\n",
       " 'Output',\n",
       " 'Potato-disease',\n",
       " 'python projects',\n",
       " 'Trash.ipynb',\n",
       " 'Working_Files',\n",
       " 'zamin practise.ipynb']"
      ]
     },
     "execution_count": 88,
     "metadata": {},
     "output_type": "execute_result"
    }
   ],
   "source": [
    "os.listdir()"
   ]
  },
  {
   "cell_type": "markdown",
   "id": "4856dee6",
   "metadata": {},
   "source": [
    "# The send to trash Module"
   ]
  },
  {
   "cell_type": "markdown",
   "id": "7221e7d3",
   "metadata": {},
   "source": [
    "* Using the sendtrash module to send deleted files to the trash bin instead of removing file permanently\n",
    "* Installation: pip install send2trash"
   ]
  },
  {
   "cell_type": "code",
   "execution_count": 89,
   "id": "b3627f1f",
   "metadata": {},
   "outputs": [],
   "source": [
    "import send2trash"
   ]
  },
  {
   "cell_type": "code",
   "execution_count": 90,
   "id": "e1806e43",
   "metadata": {},
   "outputs": [
    {
     "ename": "AttributeError",
     "evalue": "module 'send2trash' has no attribute 'send3trash'",
     "output_type": "error",
     "traceback": [
      "\u001b[1;31m---------------------------------------------------------------------------\u001b[0m",
      "\u001b[1;31mAttributeError\u001b[0m                            Traceback (most recent call last)",
      "Cell \u001b[1;32mIn[90], line 1\u001b[0m\n\u001b[1;32m----> 1\u001b[0m \u001b[43msend2trash\u001b[49m\u001b[38;5;241;43m.\u001b[39;49m\u001b[43msend3trash\u001b[49m(\u001b[38;5;124m\"\u001b[39m\u001b[38;5;124m \u001b[39m\u001b[38;5;124m\"\u001b[39m)\n",
      "\u001b[1;31mAttributeError\u001b[0m: module 'send2trash' has no attribute 'send3trash'"
     ]
    }
   ],
   "source": [
    "send2trash.send3trash(\" \")  # file name daldo"
   ]
  },
  {
   "cell_type": "markdown",
   "id": "96c1c472",
   "metadata": {},
   "source": [
    "# The zipfile module "
   ]
  },
  {
   "cell_type": "markdown",
   "id": "2aa50cf2",
   "metadata": {},
   "source": [
    "* Using the zipfile module to compress and extract files and folders \n",
    "* import zipfiles"
   ]
  },
  {
   "cell_type": "code",
   "execution_count": 91,
   "id": "3dc3c651",
   "metadata": {},
   "outputs": [],
   "source": [
    "new_file = open(\"demo1.txt\", \"w+\")"
   ]
  },
  {
   "cell_type": "code",
   "execution_count": 92,
   "id": "1b0edd18",
   "metadata": {},
   "outputs": [
    {
     "data": {
      "text/plain": [
       "34"
      ]
     },
     "execution_count": 92,
     "metadata": {},
     "output_type": "execute_result"
    }
   ],
   "source": [
    "new_file.write(\"this is demo 1 , understand zamin \")"
   ]
  },
  {
   "cell_type": "code",
   "execution_count": 93,
   "id": "e3f66397",
   "metadata": {},
   "outputs": [],
   "source": [
    "new_file.close()"
   ]
  },
  {
   "cell_type": "code",
   "execution_count": 94,
   "id": "c7ee0fa0",
   "metadata": {},
   "outputs": [
    {
     "data": {
      "text/plain": [
       "'.\\\\Python Projects'"
      ]
     },
     "execution_count": 94,
     "metadata": {},
     "output_type": "execute_result"
    }
   ],
   "source": [
    "shutil.move('demo1.txt', '.\\Python Projects')"
   ]
  },
  {
   "cell_type": "code",
   "execution_count": null,
   "id": "b0972471",
   "metadata": {},
   "outputs": [],
   "source": []
  },
  {
   "cell_type": "code",
   "execution_count": 101,
   "id": "2bb4c1ee",
   "metadata": {},
   "outputs": [],
   "source": [
    "import zipfile"
   ]
  },
  {
   "cell_type": "code",
   "execution_count": 102,
   "id": "4a8bc164",
   "metadata": {},
   "outputs": [],
   "source": [
    "new_comp = zipfile.ZipFile(\"new_comp.zip\", \"w\")"
   ]
  },
  {
   "cell_type": "code",
   "execution_count": 103,
   "id": "0c5aa76c",
   "metadata": {},
   "outputs": [],
   "source": [
    "new_comp.write(\"main.txt\", compress_type = zipfile.ZIP_DEFLATED)"
   ]
  },
  {
   "cell_type": "code",
   "execution_count": 104,
   "id": "c8d114a1",
   "metadata": {},
   "outputs": [],
   "source": [
    "new_comp.write(\"demo1.txt\", compress_type = zipfile.ZIP_DEFLATED)"
   ]
  },
  {
   "cell_type": "code",
   "execution_count": 105,
   "id": "08a26731",
   "metadata": {},
   "outputs": [],
   "source": [
    "new_comp.close()"
   ]
  },
  {
   "cell_type": "code",
   "execution_count": 106,
   "id": "8c0a7ecb",
   "metadata": {},
   "outputs": [],
   "source": [
    "new_extract = zipfile.ZipFile(\"new_comp.zip\", \"r\")"
   ]
  },
  {
   "cell_type": "code",
   "execution_count": 107,
   "id": "f4478361",
   "metadata": {},
   "outputs": [],
   "source": [
    "new_extract.extractall(\"this is your extracted content!\")"
   ]
  },
  {
   "cell_type": "markdown",
   "id": "5a35ef12",
   "metadata": {},
   "source": [
    "# Numpy"
   ]
  },
  {
   "cell_type": "code",
   "execution_count": 108,
   "id": "4e0f659f",
   "metadata": {},
   "outputs": [],
   "source": [
    "import numpy as np "
   ]
  },
  {
   "cell_type": "code",
   "execution_count": 109,
   "id": "ba3be378",
   "metadata": {},
   "outputs": [],
   "source": [
    "x = np.array([1,2,3,4])"
   ]
  },
  {
   "cell_type": "code",
   "execution_count": 110,
   "id": "095b8368",
   "metadata": {},
   "outputs": [
    {
     "data": {
      "text/plain": [
       "array([1, 2, 3, 4])"
      ]
     },
     "execution_count": 110,
     "metadata": {},
     "output_type": "execute_result"
    }
   ],
   "source": [
    "x"
   ]
  },
  {
   "cell_type": "code",
   "execution_count": 111,
   "id": "40de3049",
   "metadata": {},
   "outputs": [
    {
     "data": {
      "text/plain": [
       "array([0., 0., 0., 0., 0.])"
      ]
     },
     "execution_count": 111,
     "metadata": {},
     "output_type": "execute_result"
    }
   ],
   "source": [
    "np.zeros(5)"
   ]
  },
  {
   "cell_type": "code",
   "execution_count": 112,
   "id": "3a17119a",
   "metadata": {},
   "outputs": [
    {
     "data": {
      "text/plain": [
       "array([1., 1., 1., 1., 1., 1., 1., 1., 1., 1.])"
      ]
     },
     "execution_count": 112,
     "metadata": {},
     "output_type": "execute_result"
    }
   ],
   "source": [
    "np.ones(10)"
   ]
  },
  {
   "cell_type": "code",
   "execution_count": 113,
   "id": "2b489141",
   "metadata": {},
   "outputs": [
    {
     "data": {
      "text/plain": [
       "array([0.12223897, 0.25656246, 0.16575777, 0.14910803, 0.27203256])"
      ]
     },
     "execution_count": 113,
     "metadata": {},
     "output_type": "execute_result"
    }
   ],
   "source": [
    "np.random.rand(5)"
   ]
  },
  {
   "cell_type": "code",
   "execution_count": 114,
   "id": "7f7a2ac9",
   "metadata": {},
   "outputs": [],
   "source": [
    "new_ones = np.ones(3)"
   ]
  },
  {
   "cell_type": "code",
   "execution_count": 116,
   "id": "1599ece0",
   "metadata": {},
   "outputs": [
    {
     "data": {
      "text/plain": [
       "array([1., 1., 1.])"
      ]
     },
     "execution_count": 116,
     "metadata": {},
     "output_type": "execute_result"
    }
   ],
   "source": [
    "new_ones"
   ]
  },
  {
   "cell_type": "code",
   "execution_count": 117,
   "id": "5e8d66e7",
   "metadata": {},
   "outputs": [
    {
     "data": {
      "text/plain": [
       "array([5., 5., 5.])"
      ]
     },
     "execution_count": 117,
     "metadata": {},
     "output_type": "execute_result"
    }
   ],
   "source": [
    "new_ones * 5"
   ]
  },
  {
   "cell_type": "code",
   "execution_count": 127,
   "id": "820f56f2",
   "metadata": {},
   "outputs": [],
   "source": [
    "new_math = np.array([-1,1,2,3,4,5])"
   ]
  },
  {
   "cell_type": "code",
   "execution_count": 128,
   "id": "e2a1cbf7",
   "metadata": {},
   "outputs": [
    {
     "data": {
      "text/plain": [
       "-1"
      ]
     },
     "execution_count": 128,
     "metadata": {},
     "output_type": "execute_result"
    }
   ],
   "source": [
    "new_math[0]"
   ]
  },
  {
   "cell_type": "code",
   "execution_count": 129,
   "id": "7f1cd658",
   "metadata": {},
   "outputs": [
    {
     "data": {
      "text/plain": [
       "1"
      ]
     },
     "execution_count": 129,
     "metadata": {},
     "output_type": "execute_result"
    }
   ],
   "source": [
    "new_math[1]"
   ]
  },
  {
   "cell_type": "code",
   "execution_count": 130,
   "id": "7a8f0108",
   "metadata": {},
   "outputs": [
    {
     "data": {
      "text/plain": [
       "5"
      ]
     },
     "execution_count": 130,
     "metadata": {},
     "output_type": "execute_result"
    }
   ],
   "source": [
    "new_math.max()"
   ]
  },
  {
   "cell_type": "code",
   "execution_count": 131,
   "id": "75162778",
   "metadata": {},
   "outputs": [
    {
     "data": {
      "text/plain": [
       "-1"
      ]
     },
     "execution_count": 131,
     "metadata": {},
     "output_type": "execute_result"
    }
   ],
   "source": [
    "new_math.min()"
   ]
  },
  {
   "cell_type": "code",
   "execution_count": 132,
   "id": "eb87beec",
   "metadata": {},
   "outputs": [
    {
     "data": {
      "text/plain": [
       "14"
      ]
     },
     "execution_count": 132,
     "metadata": {},
     "output_type": "execute_result"
    }
   ],
   "source": [
    "new_math.sum()"
   ]
  },
  {
   "cell_type": "markdown",
   "id": "f8a38903",
   "metadata": {},
   "source": [
    "# Creatig N-D Arrays or Matrices"
   ]
  },
  {
   "cell_type": "code",
   "execution_count": 134,
   "id": "62289407",
   "metadata": {},
   "outputs": [],
   "source": [
    "x = np.array([[10,20], [30,40]])"
   ]
  },
  {
   "cell_type": "code",
   "execution_count": 135,
   "id": "c04ae9cd",
   "metadata": {},
   "outputs": [
    {
     "data": {
      "text/plain": [
       "array([[10, 20],\n",
       "       [30, 40]])"
      ]
     },
     "execution_count": 135,
     "metadata": {},
     "output_type": "execute_result"
    }
   ],
   "source": [
    "x"
   ]
  },
  {
   "cell_type": "code",
   "execution_count": 150,
   "id": "17570f93",
   "metadata": {},
   "outputs": [
    {
     "data": {
      "text/plain": [
       "20"
      ]
     },
     "execution_count": 150,
     "metadata": {},
     "output_type": "execute_result"
    }
   ],
   "source": [
    "x[0,1]"
   ]
  },
  {
   "cell_type": "code",
   "execution_count": 154,
   "id": "6b092c4b",
   "metadata": {},
   "outputs": [
    {
     "data": {
      "text/plain": [
       "40"
      ]
     },
     "execution_count": 154,
     "metadata": {},
     "output_type": "execute_result"
    }
   ],
   "source": [
    "x[1,1]"
   ]
  },
  {
   "cell_type": "code",
   "execution_count": 156,
   "id": "1bac2eb7",
   "metadata": {},
   "outputs": [
    {
     "data": {
      "text/plain": [
       "10"
      ]
     },
     "execution_count": 156,
     "metadata": {},
     "output_type": "execute_result"
    }
   ],
   "source": [
    "x[0,0]"
   ]
  },
  {
   "cell_type": "code",
   "execution_count": 136,
   "id": "2193f501",
   "metadata": {},
   "outputs": [
    {
     "name": "stdout",
     "output_type": "stream",
     "text": [
      "[[10 20]\n",
      " [30 40]]\n"
     ]
    }
   ],
   "source": [
    "print(x)"
   ]
  },
  {
   "cell_type": "code",
   "execution_count": 140,
   "id": "78b4ea3c",
   "metadata": {},
   "outputs": [
    {
     "data": {
      "text/plain": [
       "array([[1., 1., 1., 1.],\n",
       "       [1., 1., 1., 1.],\n",
       "       [1., 1., 1., 1.]])"
      ]
     },
     "execution_count": 140,
     "metadata": {},
     "output_type": "execute_result"
    }
   ],
   "source": [
    "np.ones((3,4))"
   ]
  },
  {
   "cell_type": "code",
   "execution_count": 155,
   "id": "1815ef26",
   "metadata": {},
   "outputs": [
    {
     "data": {
      "text/plain": [
       "30"
      ]
     },
     "execution_count": 155,
     "metadata": {},
     "output_type": "execute_result"
    }
   ],
   "source": [
    "x[1,0]"
   ]
  },
  {
   "cell_type": "code",
   "execution_count": 145,
   "id": "0d7adc59",
   "metadata": {},
   "outputs": [
    {
     "data": {
      "text/plain": [
       "array([[0., 0., 0., 0.],\n",
       "       [0., 0., 0., 0.],\n",
       "       [0., 0., 0., 0.]])"
      ]
     },
     "execution_count": 145,
     "metadata": {},
     "output_type": "execute_result"
    }
   ],
   "source": [
    "np.zeros((3,4))   # first item is rows ans second one is column"
   ]
  },
  {
   "cell_type": "code",
   "execution_count": 146,
   "id": "94199709",
   "metadata": {},
   "outputs": [
    {
     "data": {
      "text/plain": [
       "array([[0.96296311, 0.282208  , 0.900096  , 0.50498943, 0.87773275],\n",
       "       [0.67488481, 0.57970533, 0.88957731, 0.46056453, 0.53493317],\n",
       "       [0.06327788, 0.82010092, 0.14420335, 0.27802714, 0.36524335],\n",
       "       [0.69776391, 0.9654953 , 0.41373756, 0.53385571, 0.73580745]])"
      ]
     },
     "execution_count": 146,
     "metadata": {},
     "output_type": "execute_result"
    }
   ],
   "source": [
    "np.random.rand(4,5)"
   ]
  },
  {
   "cell_type": "code",
   "execution_count": 147,
   "id": "7fe73ff3",
   "metadata": {},
   "outputs": [],
   "source": [
    "y = np.array([[2,4], [5,6]])"
   ]
  },
  {
   "cell_type": "code",
   "execution_count": 158,
   "id": "16d4f26d",
   "metadata": {},
   "outputs": [
    {
     "data": {
      "text/plain": [
       "array([[2, 4],\n",
       "       [5, 6]])"
      ]
     },
     "execution_count": 158,
     "metadata": {},
     "output_type": "execute_result"
    }
   ],
   "source": [
    "y"
   ]
  },
  {
   "cell_type": "code",
   "execution_count": 148,
   "id": "47b72808",
   "metadata": {},
   "outputs": [
    {
     "data": {
      "text/plain": [
       "array([[12, 24],\n",
       "       [35, 46]])"
      ]
     },
     "execution_count": 148,
     "metadata": {},
     "output_type": "execute_result"
    }
   ],
   "source": [
    "x+y"
   ]
  },
  {
   "cell_type": "code",
   "execution_count": 149,
   "id": "fd182366",
   "metadata": {},
   "outputs": [
    {
     "data": {
      "text/plain": [
       "array([[120, 160],\n",
       "       [260, 360]])"
      ]
     },
     "execution_count": 149,
     "metadata": {},
     "output_type": "execute_result"
    }
   ],
   "source": [
    "x.dot(y)"
   ]
  },
  {
   "cell_type": "code",
   "execution_count": 157,
   "id": "05721443",
   "metadata": {},
   "outputs": [
    {
     "data": {
      "text/plain": [
       "4"
      ]
     },
     "execution_count": 157,
     "metadata": {},
     "output_type": "execute_result"
    }
   ],
   "source": [
    "y[0,1]"
   ]
  },
  {
   "cell_type": "code",
   "execution_count": 159,
   "id": "f6181580",
   "metadata": {},
   "outputs": [
    {
     "data": {
      "text/plain": [
       "5"
      ]
     },
     "execution_count": 159,
     "metadata": {},
     "output_type": "execute_result"
    }
   ],
   "source": [
    "y[1,0]"
   ]
  },
  {
   "cell_type": "code",
   "execution_count": 160,
   "id": "51755541",
   "metadata": {},
   "outputs": [],
   "source": [
    "z = np.random.rand(3,3)"
   ]
  },
  {
   "cell_type": "code",
   "execution_count": 161,
   "id": "e2f7366e",
   "metadata": {},
   "outputs": [
    {
     "data": {
      "text/plain": [
       "array([[0.8356649 , 0.55578543, 0.82524754],\n",
       "       [0.83130987, 0.79126686, 0.59045029],\n",
       "       [0.16610605, 0.21490975, 0.55897351]])"
      ]
     },
     "execution_count": 161,
     "metadata": {},
     "output_type": "execute_result"
    }
   ],
   "source": [
    "z"
   ]
  },
  {
   "cell_type": "code",
   "execution_count": 164,
   "id": "c7be0438",
   "metadata": {},
   "outputs": [
    {
     "data": {
      "text/plain": [
       "0.5589735091565258"
      ]
     },
     "execution_count": 164,
     "metadata": {},
     "output_type": "execute_result"
    }
   ],
   "source": [
    "z[2,2]"
   ]
  },
  {
   "cell_type": "code",
   "execution_count": 165,
   "id": "d63c229d",
   "metadata": {},
   "outputs": [
    {
     "data": {
      "text/plain": [
       "0.1661060520409986"
      ]
     },
     "execution_count": 165,
     "metadata": {},
     "output_type": "execute_result"
    }
   ],
   "source": [
    "z[2,0]"
   ]
  },
  {
   "cell_type": "code",
   "execution_count": 166,
   "id": "9743d59d",
   "metadata": {},
   "outputs": [
    {
     "data": {
      "text/plain": [
       "0.2149097458789938"
      ]
     },
     "execution_count": 166,
     "metadata": {},
     "output_type": "execute_result"
    }
   ],
   "source": [
    "z[2,1]"
   ]
  },
  {
   "cell_type": "code",
   "execution_count": 169,
   "id": "f80477b3",
   "metadata": {},
   "outputs": [
    {
     "data": {
      "text/plain": [
       "array([0.8356649 , 0.83130987, 0.16610605])"
      ]
     },
     "execution_count": 169,
     "metadata": {},
     "output_type": "execute_result"
    }
   ],
   "source": [
    "z[0:3,0]"
   ]
  },
  {
   "cell_type": "code",
   "execution_count": 170,
   "id": "271dcceb",
   "metadata": {},
   "outputs": [
    {
     "data": {
      "text/plain": [
       "array([0.55578543, 0.79126686, 0.21490975])"
      ]
     },
     "execution_count": 170,
     "metadata": {},
     "output_type": "execute_result"
    }
   ],
   "source": [
    "z[0:3,1]"
   ]
  },
  {
   "cell_type": "code",
   "execution_count": 171,
   "id": "61a19c8e",
   "metadata": {},
   "outputs": [
    {
     "data": {
      "text/plain": [
       "array([0.82524754, 0.59045029, 0.55897351])"
      ]
     },
     "execution_count": 171,
     "metadata": {},
     "output_type": "execute_result"
    }
   ],
   "source": [
    "z[0:3,2]"
   ]
  },
  {
   "cell_type": "code",
   "execution_count": 174,
   "id": "e40ab488",
   "metadata": {},
   "outputs": [
    {
     "data": {
      "text/plain": [
       "array([0.8356649 , 0.55578543, 0.82524754])"
      ]
     },
     "execution_count": 174,
     "metadata": {},
     "output_type": "execute_result"
    }
   ],
   "source": [
    "z[0,0:3]"
   ]
  },
  {
   "cell_type": "code",
   "execution_count": 175,
   "id": "a5326a6d",
   "metadata": {},
   "outputs": [
    {
     "data": {
      "text/plain": [
       "array([0.16610605, 0.21490975, 0.55897351])"
      ]
     },
     "execution_count": 175,
     "metadata": {},
     "output_type": "execute_result"
    }
   ],
   "source": [
    "z[2,0:3]"
   ]
  },
  {
   "cell_type": "code",
   "execution_count": 187,
   "id": "265c8467",
   "metadata": {},
   "outputs": [],
   "source": [
    "new_data = np.array([1,2,3,4,5,6])"
   ]
  },
  {
   "cell_type": "code",
   "execution_count": 189,
   "id": "da9ad19b",
   "metadata": {},
   "outputs": [
    {
     "data": {
      "text/plain": [
       "array([[1, 2, 3],\n",
       "       [4, 5, 6]])"
      ]
     },
     "execution_count": 189,
     "metadata": {},
     "output_type": "execute_result"
    }
   ],
   "source": [
    "new_data.reshape(2,3)"
   ]
  },
  {
   "cell_type": "code",
   "execution_count": 191,
   "id": "009135cc",
   "metadata": {},
   "outputs": [
    {
     "data": {
      "text/plain": [
       "array([[1, 2],\n",
       "       [3, 4],\n",
       "       [5, 6]])"
      ]
     },
     "execution_count": 191,
     "metadata": {},
     "output_type": "execute_result"
    }
   ],
   "source": [
    "new_data.reshape(3,2)"
   ]
  },
  {
   "cell_type": "code",
   "execution_count": 194,
   "id": "7e6dc2b5",
   "metadata": {},
   "outputs": [
    {
     "data": {
      "text/plain": [
       "array([[[1., 1., 1.],\n",
       "        [1., 1., 1.],\n",
       "        [1., 1., 1.]],\n",
       "\n",
       "       [[1., 1., 1.],\n",
       "        [1., 1., 1.],\n",
       "        [1., 1., 1.]],\n",
       "\n",
       "       [[1., 1., 1.],\n",
       "        [1., 1., 1.],\n",
       "        [1., 1., 1.]],\n",
       "\n",
       "       [[1., 1., 1.],\n",
       "        [1., 1., 1.],\n",
       "        [1., 1., 1.]],\n",
       "\n",
       "       [[1., 1., 1.],\n",
       "        [1., 1., 1.],\n",
       "        [1., 1., 1.]]])"
      ]
     },
     "execution_count": 194,
     "metadata": {},
     "output_type": "execute_result"
    }
   ],
   "source": [
    "np.ones((5,3,3))"
   ]
  },
  {
   "cell_type": "code",
   "execution_count": 196,
   "id": "e50a4fc2",
   "metadata": {},
   "outputs": [
    {
     "data": {
      "text/plain": [
       "array([[[1.],\n",
       "        [1.],\n",
       "        [1.],\n",
       "        [1.],\n",
       "        [1.]],\n",
       "\n",
       "       [[1.],\n",
       "        [1.],\n",
       "        [1.],\n",
       "        [1.],\n",
       "        [1.]],\n",
       "\n",
       "       [[1.],\n",
       "        [1.],\n",
       "        [1.],\n",
       "        [1.],\n",
       "        [1.]],\n",
       "\n",
       "       [[1.],\n",
       "        [1.],\n",
       "        [1.],\n",
       "        [1.],\n",
       "        [1.]]])"
      ]
     },
     "execution_count": 196,
     "metadata": {},
     "output_type": "execute_result"
    }
   ],
   "source": [
    "np.ones((4,5,1))"
   ]
  },
  {
   "cell_type": "code",
   "execution_count": 197,
   "id": "c2371c22",
   "metadata": {},
   "outputs": [
    {
     "name": "stdout",
     "output_type": "stream",
     "text": [
      "List version of the array:\n",
      "[[1, 2, 3], [4, 5, 6], [7, 8, 9]]\n"
     ]
    }
   ],
   "source": [
    "import numpy as np\n",
    "\n",
    "# Define the NumPy array\n",
    "array = np.array([[1, 2, 3], [4, 5, 6], [7, 8, 9]])\n",
    "\n",
    "# Convert the array to a list\n",
    "list_version = array.tolist()\n",
    "\n",
    "# Print the list\n",
    "print(\"List version of the array:\")\n",
    "print(list_version)\n"
   ]
  },
  {
   "cell_type": "code",
   "execution_count": 198,
   "id": "6931292a",
   "metadata": {},
   "outputs": [
    {
     "name": "stdout",
     "output_type": "stream",
     "text": [
      "[1.+0.j 2.+0.j 3.+0.j]\n"
     ]
    }
   ],
   "source": [
    "import numpy as np \n",
    " \n",
    "x = np.array([1, 2, 3], dtype = complex)   # You can insert the type for value using dtype\n",
    " \n",
    "print(x)"
   ]
  },
  {
   "cell_type": "markdown",
   "id": "fd4a57eb",
   "metadata": {},
   "source": [
    "# Pandas "
   ]
  },
  {
   "cell_type": "code",
   "execution_count": 213,
   "id": "bce27c00",
   "metadata": {},
   "outputs": [],
   "source": [
    "import pandas as pd "
   ]
  },
  {
   "cell_type": "code",
   "execution_count": 214,
   "id": "94557322",
   "metadata": {},
   "outputs": [],
   "source": [
    "new_s = pd.Series([10,20,30,40])"
   ]
  },
  {
   "cell_type": "code",
   "execution_count": 215,
   "id": "573c561a",
   "metadata": {},
   "outputs": [
    {
     "data": {
      "text/plain": [
       "0    10\n",
       "1    20\n",
       "2    30\n",
       "3    40\n",
       "dtype: int64"
      ]
     },
     "execution_count": 215,
     "metadata": {},
     "output_type": "execute_result"
    }
   ],
   "source": [
    "new_s"
   ]
  },
  {
   "cell_type": "code",
   "execution_count": 217,
   "id": "6ffe0a9b",
   "metadata": {},
   "outputs": [],
   "source": [
    "put_index = pd.Series([10,20,30,40], index = [\"a\", \"b\", \"c\", \"d\"])"
   ]
  },
  {
   "cell_type": "code",
   "execution_count": 218,
   "id": "2cca5998",
   "metadata": {},
   "outputs": [
    {
     "data": {
      "text/plain": [
       "a    10\n",
       "b    20\n",
       "c    30\n",
       "d    40\n",
       "dtype: int64"
      ]
     },
     "execution_count": 218,
     "metadata": {},
     "output_type": "execute_result"
    }
   ],
   "source": [
    "put_index"
   ]
  },
  {
   "cell_type": "code",
   "execution_count": 223,
   "id": "ecaf73f4",
   "metadata": {},
   "outputs": [],
   "source": [
    "colors = [\"Red\", \"Orange\", \"Yellow\", \"White\"]\n",
    "degrees = [30,40,50,60]\n",
    "numbers = [11,12,13,14]\n",
    "\n",
    "new_df = pd.DataFrame({\"colors\": colors, \"degree\": degrees, \"numbers\": numbers},\n",
    "                    columns = [\"colors\", \"degree\", \"numbers\"],\n",
    "                    index = range(1,5))"
   ]
  },
  {
   "cell_type": "code",
   "execution_count": 224,
   "id": "459fb21b",
   "metadata": {},
   "outputs": [
    {
     "data": {
      "text/html": [
       "<div>\n",
       "<style scoped>\n",
       "    .dataframe tbody tr th:only-of-type {\n",
       "        vertical-align: middle;\n",
       "    }\n",
       "\n",
       "    .dataframe tbody tr th {\n",
       "        vertical-align: top;\n",
       "    }\n",
       "\n",
       "    .dataframe thead th {\n",
       "        text-align: right;\n",
       "    }\n",
       "</style>\n",
       "<table border=\"1\" class=\"dataframe\">\n",
       "  <thead>\n",
       "    <tr style=\"text-align: right;\">\n",
       "      <th></th>\n",
       "      <th>colors</th>\n",
       "      <th>degree</th>\n",
       "      <th>numbers</th>\n",
       "    </tr>\n",
       "  </thead>\n",
       "  <tbody>\n",
       "    <tr>\n",
       "      <th>1</th>\n",
       "      <td>Red</td>\n",
       "      <td>30</td>\n",
       "      <td>11</td>\n",
       "    </tr>\n",
       "    <tr>\n",
       "      <th>2</th>\n",
       "      <td>Orange</td>\n",
       "      <td>40</td>\n",
       "      <td>12</td>\n",
       "    </tr>\n",
       "    <tr>\n",
       "      <th>3</th>\n",
       "      <td>Yellow</td>\n",
       "      <td>50</td>\n",
       "      <td>13</td>\n",
       "    </tr>\n",
       "    <tr>\n",
       "      <th>4</th>\n",
       "      <td>White</td>\n",
       "      <td>60</td>\n",
       "      <td>14</td>\n",
       "    </tr>\n",
       "  </tbody>\n",
       "</table>\n",
       "</div>"
      ],
      "text/plain": [
       "   colors  degree  numbers\n",
       "1     Red      30       11\n",
       "2  Orange      40       12\n",
       "3  Yellow      50       13\n",
       "4   White      60       14"
      ]
     },
     "execution_count": 224,
     "metadata": {},
     "output_type": "execute_result"
    }
   ],
   "source": [
    "new_df"
   ]
  },
  {
   "cell_type": "code",
   "execution_count": 228,
   "id": "337adaf9",
   "metadata": {},
   "outputs": [],
   "source": [
    "df_car_csv = pd.read_csv(\"car_data.csv\")"
   ]
  },
  {
   "cell_type": "code",
   "execution_count": 229,
   "id": "1cb5284a",
   "metadata": {},
   "outputs": [
    {
     "data": {
      "text/html": [
       "<div>\n",
       "<style scoped>\n",
       "    .dataframe tbody tr th:only-of-type {\n",
       "        vertical-align: middle;\n",
       "    }\n",
       "\n",
       "    .dataframe tbody tr th {\n",
       "        vertical-align: top;\n",
       "    }\n",
       "\n",
       "    .dataframe thead th {\n",
       "        text-align: right;\n",
       "    }\n",
       "</style>\n",
       "<table border=\"1\" class=\"dataframe\">\n",
       "  <thead>\n",
       "    <tr style=\"text-align: right;\">\n",
       "      <th></th>\n",
       "      <th>User ID</th>\n",
       "      <th>Gender</th>\n",
       "      <th>Age</th>\n",
       "      <th>AnnualSalary</th>\n",
       "      <th>Purchased</th>\n",
       "    </tr>\n",
       "  </thead>\n",
       "  <tbody>\n",
       "    <tr>\n",
       "      <th>0</th>\n",
       "      <td>385</td>\n",
       "      <td>Male</td>\n",
       "      <td>35</td>\n",
       "      <td>20000</td>\n",
       "      <td>0</td>\n",
       "    </tr>\n",
       "    <tr>\n",
       "      <th>1</th>\n",
       "      <td>681</td>\n",
       "      <td>Male</td>\n",
       "      <td>40</td>\n",
       "      <td>43500</td>\n",
       "      <td>0</td>\n",
       "    </tr>\n",
       "    <tr>\n",
       "      <th>2</th>\n",
       "      <td>353</td>\n",
       "      <td>Male</td>\n",
       "      <td>49</td>\n",
       "      <td>74000</td>\n",
       "      <td>0</td>\n",
       "    </tr>\n",
       "    <tr>\n",
       "      <th>3</th>\n",
       "      <td>895</td>\n",
       "      <td>Male</td>\n",
       "      <td>40</td>\n",
       "      <td>107500</td>\n",
       "      <td>1</td>\n",
       "    </tr>\n",
       "    <tr>\n",
       "      <th>4</th>\n",
       "      <td>661</td>\n",
       "      <td>Male</td>\n",
       "      <td>25</td>\n",
       "      <td>79000</td>\n",
       "      <td>0</td>\n",
       "    </tr>\n",
       "    <tr>\n",
       "      <th>...</th>\n",
       "      <td>...</td>\n",
       "      <td>...</td>\n",
       "      <td>...</td>\n",
       "      <td>...</td>\n",
       "      <td>...</td>\n",
       "    </tr>\n",
       "    <tr>\n",
       "      <th>995</th>\n",
       "      <td>863</td>\n",
       "      <td>Male</td>\n",
       "      <td>38</td>\n",
       "      <td>59000</td>\n",
       "      <td>0</td>\n",
       "    </tr>\n",
       "    <tr>\n",
       "      <th>996</th>\n",
       "      <td>800</td>\n",
       "      <td>Female</td>\n",
       "      <td>47</td>\n",
       "      <td>23500</td>\n",
       "      <td>0</td>\n",
       "    </tr>\n",
       "    <tr>\n",
       "      <th>997</th>\n",
       "      <td>407</td>\n",
       "      <td>Female</td>\n",
       "      <td>28</td>\n",
       "      <td>138500</td>\n",
       "      <td>1</td>\n",
       "    </tr>\n",
       "    <tr>\n",
       "      <th>998</th>\n",
       "      <td>299</td>\n",
       "      <td>Female</td>\n",
       "      <td>48</td>\n",
       "      <td>134000</td>\n",
       "      <td>1</td>\n",
       "    </tr>\n",
       "    <tr>\n",
       "      <th>999</th>\n",
       "      <td>687</td>\n",
       "      <td>Female</td>\n",
       "      <td>44</td>\n",
       "      <td>73500</td>\n",
       "      <td>0</td>\n",
       "    </tr>\n",
       "  </tbody>\n",
       "</table>\n",
       "<p>1000 rows × 5 columns</p>\n",
       "</div>"
      ],
      "text/plain": [
       "     User ID  Gender  Age  AnnualSalary  Purchased\n",
       "0        385    Male   35         20000          0\n",
       "1        681    Male   40         43500          0\n",
       "2        353    Male   49         74000          0\n",
       "3        895    Male   40        107500          1\n",
       "4        661    Male   25         79000          0\n",
       "..       ...     ...  ...           ...        ...\n",
       "995      863    Male   38         59000          0\n",
       "996      800  Female   47         23500          0\n",
       "997      407  Female   28        138500          1\n",
       "998      299  Female   48        134000          1\n",
       "999      687  Female   44         73500          0\n",
       "\n",
       "[1000 rows x 5 columns]"
      ]
     },
     "execution_count": 229,
     "metadata": {},
     "output_type": "execute_result"
    }
   ],
   "source": [
    "df_car_csv"
   ]
  },
  {
   "cell_type": "code",
   "execution_count": 230,
   "id": "df0749e7",
   "metadata": {},
   "outputs": [
    {
     "data": {
      "text/html": [
       "<div>\n",
       "<style scoped>\n",
       "    .dataframe tbody tr th:only-of-type {\n",
       "        vertical-align: middle;\n",
       "    }\n",
       "\n",
       "    .dataframe tbody tr th {\n",
       "        vertical-align: top;\n",
       "    }\n",
       "\n",
       "    .dataframe thead th {\n",
       "        text-align: right;\n",
       "    }\n",
       "</style>\n",
       "<table border=\"1\" class=\"dataframe\">\n",
       "  <thead>\n",
       "    <tr style=\"text-align: right;\">\n",
       "      <th></th>\n",
       "      <th>User ID</th>\n",
       "      <th>Gender</th>\n",
       "      <th>Age</th>\n",
       "      <th>AnnualSalary</th>\n",
       "      <th>Purchased</th>\n",
       "    </tr>\n",
       "  </thead>\n",
       "  <tbody>\n",
       "    <tr>\n",
       "      <th>0</th>\n",
       "      <td>385</td>\n",
       "      <td>Male</td>\n",
       "      <td>35</td>\n",
       "      <td>20000</td>\n",
       "      <td>0</td>\n",
       "    </tr>\n",
       "    <tr>\n",
       "      <th>1</th>\n",
       "      <td>681</td>\n",
       "      <td>Male</td>\n",
       "      <td>40</td>\n",
       "      <td>43500</td>\n",
       "      <td>0</td>\n",
       "    </tr>\n",
       "    <tr>\n",
       "      <th>2</th>\n",
       "      <td>353</td>\n",
       "      <td>Male</td>\n",
       "      <td>49</td>\n",
       "      <td>74000</td>\n",
       "      <td>0</td>\n",
       "    </tr>\n",
       "    <tr>\n",
       "      <th>3</th>\n",
       "      <td>895</td>\n",
       "      <td>Male</td>\n",
       "      <td>40</td>\n",
       "      <td>107500</td>\n",
       "      <td>1</td>\n",
       "    </tr>\n",
       "    <tr>\n",
       "      <th>4</th>\n",
       "      <td>661</td>\n",
       "      <td>Male</td>\n",
       "      <td>25</td>\n",
       "      <td>79000</td>\n",
       "      <td>0</td>\n",
       "    </tr>\n",
       "    <tr>\n",
       "      <th>5</th>\n",
       "      <td>846</td>\n",
       "      <td>Female</td>\n",
       "      <td>47</td>\n",
       "      <td>33500</td>\n",
       "      <td>1</td>\n",
       "    </tr>\n",
       "    <tr>\n",
       "      <th>6</th>\n",
       "      <td>219</td>\n",
       "      <td>Female</td>\n",
       "      <td>46</td>\n",
       "      <td>132500</td>\n",
       "      <td>1</td>\n",
       "    </tr>\n",
       "    <tr>\n",
       "      <th>7</th>\n",
       "      <td>588</td>\n",
       "      <td>Male</td>\n",
       "      <td>42</td>\n",
       "      <td>64000</td>\n",
       "      <td>0</td>\n",
       "    </tr>\n",
       "    <tr>\n",
       "      <th>8</th>\n",
       "      <td>85</td>\n",
       "      <td>Female</td>\n",
       "      <td>30</td>\n",
       "      <td>84500</td>\n",
       "      <td>0</td>\n",
       "    </tr>\n",
       "    <tr>\n",
       "      <th>9</th>\n",
       "      <td>465</td>\n",
       "      <td>Male</td>\n",
       "      <td>41</td>\n",
       "      <td>52000</td>\n",
       "      <td>0</td>\n",
       "    </tr>\n",
       "  </tbody>\n",
       "</table>\n",
       "</div>"
      ],
      "text/plain": [
       "   User ID  Gender  Age  AnnualSalary  Purchased\n",
       "0      385    Male   35         20000          0\n",
       "1      681    Male   40         43500          0\n",
       "2      353    Male   49         74000          0\n",
       "3      895    Male   40        107500          1\n",
       "4      661    Male   25         79000          0\n",
       "5      846  Female   47         33500          1\n",
       "6      219  Female   46        132500          1\n",
       "7      588    Male   42         64000          0\n",
       "8       85  Female   30         84500          0\n",
       "9      465    Male   41         52000          0"
      ]
     },
     "execution_count": 230,
     "metadata": {},
     "output_type": "execute_result"
    }
   ],
   "source": [
    "df_csv.head(10)"
   ]
  },
  {
   "cell_type": "code",
   "execution_count": 231,
   "id": "3f5fb939",
   "metadata": {},
   "outputs": [
    {
     "data": {
      "text/plain": [
       "(1000, 5)"
      ]
     },
     "execution_count": 231,
     "metadata": {},
     "output_type": "execute_result"
    }
   ],
   "source": [
    "df_csv.shape"
   ]
  },
  {
   "cell_type": "code",
   "execution_count": 232,
   "id": "2390dc6b",
   "metadata": {},
   "outputs": [
    {
     "data": {
      "text/plain": [
       "<bound method DataFrame.info of      User ID  Gender  Age  AnnualSalary  Purchased\n",
       "0        385    Male   35         20000          0\n",
       "1        681    Male   40         43500          0\n",
       "2        353    Male   49         74000          0\n",
       "3        895    Male   40        107500          1\n",
       "4        661    Male   25         79000          0\n",
       "..       ...     ...  ...           ...        ...\n",
       "995      863    Male   38         59000          0\n",
       "996      800  Female   47         23500          0\n",
       "997      407  Female   28        138500          1\n",
       "998      299  Female   48        134000          1\n",
       "999      687  Female   44         73500          0\n",
       "\n",
       "[1000 rows x 5 columns]>"
      ]
     },
     "execution_count": 232,
     "metadata": {},
     "output_type": "execute_result"
    }
   ],
   "source": [
    "df_csv.info"
   ]
  },
  {
   "cell_type": "code",
   "execution_count": 233,
   "id": "66833ee0",
   "metadata": {},
   "outputs": [
    {
     "data": {
      "text/html": [
       "<div>\n",
       "<style scoped>\n",
       "    .dataframe tbody tr th:only-of-type {\n",
       "        vertical-align: middle;\n",
       "    }\n",
       "\n",
       "    .dataframe tbody tr th {\n",
       "        vertical-align: top;\n",
       "    }\n",
       "\n",
       "    .dataframe thead th {\n",
       "        text-align: right;\n",
       "    }\n",
       "</style>\n",
       "<table border=\"1\" class=\"dataframe\">\n",
       "  <thead>\n",
       "    <tr style=\"text-align: right;\">\n",
       "      <th></th>\n",
       "      <th>User ID</th>\n",
       "      <th>Age</th>\n",
       "      <th>AnnualSalary</th>\n",
       "      <th>Purchased</th>\n",
       "    </tr>\n",
       "  </thead>\n",
       "  <tbody>\n",
       "    <tr>\n",
       "      <th>count</th>\n",
       "      <td>1000.000000</td>\n",
       "      <td>1000.000000</td>\n",
       "      <td>1000.000000</td>\n",
       "      <td>1000.000000</td>\n",
       "    </tr>\n",
       "    <tr>\n",
       "      <th>mean</th>\n",
       "      <td>500.500000</td>\n",
       "      <td>40.106000</td>\n",
       "      <td>72689.000000</td>\n",
       "      <td>0.402000</td>\n",
       "    </tr>\n",
       "    <tr>\n",
       "      <th>std</th>\n",
       "      <td>288.819436</td>\n",
       "      <td>10.707073</td>\n",
       "      <td>34488.341867</td>\n",
       "      <td>0.490547</td>\n",
       "    </tr>\n",
       "    <tr>\n",
       "      <th>min</th>\n",
       "      <td>1.000000</td>\n",
       "      <td>18.000000</td>\n",
       "      <td>15000.000000</td>\n",
       "      <td>0.000000</td>\n",
       "    </tr>\n",
       "    <tr>\n",
       "      <th>25%</th>\n",
       "      <td>250.750000</td>\n",
       "      <td>32.000000</td>\n",
       "      <td>46375.000000</td>\n",
       "      <td>0.000000</td>\n",
       "    </tr>\n",
       "    <tr>\n",
       "      <th>50%</th>\n",
       "      <td>500.500000</td>\n",
       "      <td>40.000000</td>\n",
       "      <td>72000.000000</td>\n",
       "      <td>0.000000</td>\n",
       "    </tr>\n",
       "    <tr>\n",
       "      <th>75%</th>\n",
       "      <td>750.250000</td>\n",
       "      <td>48.000000</td>\n",
       "      <td>90000.000000</td>\n",
       "      <td>1.000000</td>\n",
       "    </tr>\n",
       "    <tr>\n",
       "      <th>max</th>\n",
       "      <td>1000.000000</td>\n",
       "      <td>63.000000</td>\n",
       "      <td>152500.000000</td>\n",
       "      <td>1.000000</td>\n",
       "    </tr>\n",
       "  </tbody>\n",
       "</table>\n",
       "</div>"
      ],
      "text/plain": [
       "           User ID          Age   AnnualSalary    Purchased\n",
       "count  1000.000000  1000.000000    1000.000000  1000.000000\n",
       "mean    500.500000    40.106000   72689.000000     0.402000\n",
       "std     288.819436    10.707073   34488.341867     0.490547\n",
       "min       1.000000    18.000000   15000.000000     0.000000\n",
       "25%     250.750000    32.000000   46375.000000     0.000000\n",
       "50%     500.500000    40.000000   72000.000000     0.000000\n",
       "75%     750.250000    48.000000   90000.000000     1.000000\n",
       "max    1000.000000    63.000000  152500.000000     1.000000"
      ]
     },
     "execution_count": 233,
     "metadata": {},
     "output_type": "execute_result"
    }
   ],
   "source": [
    "df_csv.describe()"
   ]
  },
  {
   "cell_type": "code",
   "execution_count": 234,
   "id": "db17dd32",
   "metadata": {},
   "outputs": [
    {
     "data": {
      "text/plain": [
       "Age          55\n",
       "Purchased     1\n",
       "Name: 907, dtype: object"
      ]
     },
     "execution_count": 234,
     "metadata": {},
     "output_type": "execute_result"
    }
   ],
   "source": [
    "df_csv.loc[df_csv[\"AnnualSalary\"].argmax()][[\"Age\", \"Purchased\"]]"
   ]
  },
  {
   "cell_type": "code",
   "execution_count": 237,
   "id": "1dcf44ee",
   "metadata": {},
   "outputs": [
    {
     "name": "stdout",
     "output_type": "stream",
     "text": [
      "     Unnamed: 0  work_year experience_level employment_type  \\\n",
      "0             0       2020               MI              FT   \n",
      "1             1       2020               SE              FT   \n",
      "2             2       2020               SE              FT   \n",
      "3             3       2020               MI              FT   \n",
      "4             4       2020               SE              FT   \n",
      "..          ...        ...              ...             ...   \n",
      "602         602       2022               SE              FT   \n",
      "603         603       2022               SE              FT   \n",
      "604         604       2022               SE              FT   \n",
      "605         605       2022               SE              FT   \n",
      "606         606       2022               MI              FT   \n",
      "\n",
      "                      job_title  salary salary_currency  salary_in_usd  \\\n",
      "0                Data Scientist   70000             EUR          79833   \n",
      "1    Machine Learning Scientist  260000             USD         260000   \n",
      "2             Big Data Engineer   85000             GBP         109024   \n",
      "3          Product Data Analyst   20000             USD          20000   \n",
      "4     Machine Learning Engineer  150000             USD         150000   \n",
      "..                          ...     ...             ...            ...   \n",
      "602               Data Engineer  154000             USD         154000   \n",
      "603               Data Engineer  126000             USD         126000   \n",
      "604                Data Analyst  129000             USD         129000   \n",
      "605                Data Analyst  150000             USD         150000   \n",
      "606                AI Scientist  200000             USD         200000   \n",
      "\n",
      "    employee_residence  remote_ratio company_location company_size  \n",
      "0                   DE             0               DE            L  \n",
      "1                   JP             0               JP            S  \n",
      "2                   GB            50               GB            M  \n",
      "3                   HN             0               HN            S  \n",
      "4                   US            50               US            L  \n",
      "..                 ...           ...              ...          ...  \n",
      "602                 US           100               US            M  \n",
      "603                 US           100               US            M  \n",
      "604                 US             0               US            M  \n",
      "605                 US           100               US            M  \n",
      "606                 IN           100               US            L  \n",
      "\n",
      "[607 rows x 12 columns]\n"
     ]
    }
   ],
   "source": [
    "new_df = pd.read_csv(\"ds_salaries.csv\")\n",
    "print(new_df)"
   ]
  },
  {
   "cell_type": "markdown",
   "id": "6ebd6adc",
   "metadata": {},
   "source": [
    "# Matplotlib "
   ]
  },
  {
   "cell_type": "code",
   "execution_count": 20,
   "id": "86c00baf",
   "metadata": {},
   "outputs": [],
   "source": [
    "import matplotlib.pyplot as plt\n",
    "import numpy as np"
   ]
  },
  {
   "cell_type": "code",
   "execution_count": 21,
   "id": "c3839376",
   "metadata": {},
   "outputs": [],
   "source": [
    "data = np.arange(9)"
   ]
  },
  {
   "cell_type": "code",
   "execution_count": 22,
   "id": "190024d4",
   "metadata": {},
   "outputs": [
    {
     "data": {
      "text/plain": [
       "array([0, 1, 2, 3, 4, 5, 6, 7, 8])"
      ]
     },
     "execution_count": 22,
     "metadata": {},
     "output_type": "execute_result"
    }
   ],
   "source": [
    "data"
   ]
  },
  {
   "cell_type": "code",
   "execution_count": 23,
   "id": "9f2a742f",
   "metadata": {},
   "outputs": [],
   "source": [
    "%matplotlib notebook"
   ]
  },
  {
   "cell_type": "code",
   "execution_count": 24,
   "id": "81c953b7",
   "metadata": {},
   "outputs": [],
   "source": [
    "%matplotlib inline"
   ]
  },
  {
   "cell_type": "code",
   "execution_count": 25,
   "id": "c1366926",
   "metadata": {},
   "outputs": [
    {
     "data": {
      "text/plain": [
       "[<matplotlib.lines.Line2D at 0x283800f3b80>]"
      ]
     },
     "execution_count": 25,
     "metadata": {},
     "output_type": "execute_result"
    },
    {
     "data": {
      "image/png": "[encoded data removed]",
      "text/plain": [
       "<Figure size 640x480 with 1 Axes>"
      ]
     },
     "metadata": {},
     "output_type": "display_data"
    }
   ],
   "source": [
    "plt.plot(data)"
   ]
  },
  {
   "cell_type": "code",
   "execution_count": 26,
   "id": "4ddbfb53",
   "metadata": {},
   "outputs": [
    {
     "data": {
      "text/plain": [
       "Text(0.5, 1.0, 'The new data graph')"
      ]
     },
     "execution_count": 26,
     "metadata": {},
     "output_type": "execute_result"
    },
    {
     "data": {
      "image/png": "[encoded data removed]",
      "text/plain": [
       "<Figure size 640x480 with 1 Axes>"
      ]
     },
     "metadata": {},
     "output_type": "display_data"
    }
   ],
   "source": [
    "plt.title(\"The new data graph\")"
   ]
  },
  {
   "cell_type": "code",
   "execution_count": 27,
   "id": "63eaab02",
   "metadata": {},
   "outputs": [
    {
     "data": {
      "text/plain": [
       "Text(0.5, 0, ' x label name ')"
      ]
     },
     "execution_count": 27,
     "metadata": {},
     "output_type": "execute_result"
    },
    {
     "data": {
      "image/png": "[encoded data removed]",
      "text/plain": [
       "<Figure size 640x480 with 1 Axes>"
      ]
     },
     "metadata": {},
     "output_type": "display_data"
    }
   ],
   "source": [
    "plt.xlabel(' x label name ')"
   ]
  },
  {
   "cell_type": "code",
   "execution_count": 28,
   "id": "de602f90",
   "metadata": {},
   "outputs": [
    {
     "data": {
      "text/plain": [
       "[<matplotlib.lines.Line2D at 0x283811fc250>]"
      ]
     },
     "execution_count": 28,
     "metadata": {},
     "output_type": "execute_result"
    },
    {
     "data": {
      "image/png": "[encoded data removed]",
      "text/plain": [
       "<Figure size 640x480 with 1 Axes>"
      ]
     },
     "metadata": {},
     "output_type": "display_data"
    }
   ],
   "source": [
    "x = [1,2,3,4,5,6,7]\n",
    "y = [1,4,9,16,25,36,49]\n",
    "plt.plot(x,y)"
   ]
  },
  {
   "cell_type": "code",
   "execution_count": 29,
   "id": "b39edf16",
   "metadata": {},
   "outputs": [
    {
     "data": {
      "text/plain": [
       "[<matplotlib.lines.Line2D at 0x28381269ba0>,\n",
       " <matplotlib.lines.Line2D at 0x28381269a50>,\n",
       " <matplotlib.lines.Line2D at 0x28381269c90>]"
      ]
     },
     "execution_count": 29,
     "metadata": {},
     "output_type": "execute_result"
    },
    {
     "data": {
      "image/png": "[encoded data removed]",
      "text/plain": [
       "<Figure size 640x480 with 1 Axes>"
      ]
     },
     "metadata": {},
     "output_type": "display_data"
    }
   ],
   "source": [
    "\n",
    "deta1 = np.arange(2,7,0.3)\n",
    "plt.plot(deta1, deta1, \"r--\", deta1, deta1**2, \"bs\", deta1, deta1**3, \"g^\")\n"
   ]
  },
  {
   "cell_type": "code",
   "execution_count": 32,
   "id": "c02bd8aa",
   "metadata": {},
   "outputs": [
    {
     "data": {
      "text/plain": [
       "<Figure size 640x480 with 0 Axes>"
      ]
     },
     "metadata": {},
     "output_type": "display_data"
    }
   ],
   "source": [
    "plt.savefig(\"newvisualize.png\")"
   ]
  },
  {
   "cell_type": "code",
   "execution_count": 37,
   "id": "d312c160",
   "metadata": {},
   "outputs": [
    {
     "data": {
      "image/png": "[encoded data removed]",
      "text/plain": [
       "<Figure size 640x480 with 1 Axes>"
      ]
     },
     "metadata": {},
     "output_type": "display_data"
    }
   ],
   "source": [
    "new_films = [\"Film1\", \"film2\", \"film3\", \"film4\"]\n",
    "awards = [3,9,1,5]\n",
    "plt.bar(range(len(new_films)), awards)\n",
    "plt.title(\"The top fims\")\n",
    "plt.xticks(range(len(new_films)), new_films)\n",
    "\n",
    "\n",
    "plt.ylabel(\"No of awads\")\n",
    "plt.show()"
   ]
  },
  {
   "cell_type": "markdown",
   "id": "b248b987",
   "metadata": {},
   "source": [
    "# Histograms "
   ]
  },
  {
   "cell_type": "code",
   "execution_count": 38,
   "id": "4c69586d",
   "metadata": {},
   "outputs": [],
   "source": [
    "import matplotlib.pyplot as plt \n",
    "import numpy as np "
   ]
  },
  {
   "cell_type": "code",
   "execution_count": 39,
   "id": "e471245d",
   "metadata": {},
   "outputs": [],
   "source": [
    "new_h = np.random.normal(150, 15, 230)"
   ]
  },
  {
   "cell_type": "code",
   "execution_count": 41,
   "id": "d3ad0139",
   "metadata": {},
   "outputs": [
    {
     "data": {
      "image/png": "[encoded data removed]",
      "text/plain": [
       "<Figure size 640x480 with 1 Axes>"
      ]
     },
     "metadata": {},
     "output_type": "display_data"
    }
   ],
   "source": [
    "plt.hist(new_h)\n",
    "plt.show()"
   ]
  },
  {
   "cell_type": "markdown",
   "id": "8e7b1c4f",
   "metadata": {},
   "source": [
    "# Pie Charts"
   ]
  },
  {
   "cell_type": "markdown",
   "id": "54f0baf0",
   "metadata": {},
   "source": [
    "* using matplotlib.pyplot to create pie charts\n",
    "* plt.pie()"
   ]
  },
  {
   "cell_type": "code",
   "execution_count": 49,
   "id": "c93c1db6",
   "metadata": {},
   "outputs": [
    {
     "data": {
      "image/png": "[encoded data removed]",
      "text/plain": [
       "<Figure size 640x480 with 1 Axes>"
      ]
     },
     "metadata": {},
     "output_type": "display_data"
    }
   ],
   "source": [
    "import matplotlib.pyplot as plt \n",
    "import numpy as np \n",
    "\n",
    "x = np.array([45,25,20,10])\n",
    "ch_labels = [\"First\", \"Second\", \"Third\", \"Fourth\"]\n",
    "\n",
    "plt.pie(x, labels = ch_labels)\n",
    "plt.show()"
   ]
  },
  {
   "cell_type": "markdown",
   "id": "e5a03dea",
   "metadata": {},
   "source": [
    "# Seaborn Visualisation "
   ]
  },
  {
   "cell_type": "markdown",
   "id": "5efe089b",
   "metadata": {},
   "source": [
    "* seaborn is used for advanced graphs and visualization\n",
    "* A complement to matplotlib\n",
    "* import seaborn as sns"
   ]
  },
  {
   "cell_type": "code",
   "execution_count": 50,
   "id": "611fac94",
   "metadata": {},
   "outputs": [],
   "source": [
    "import matplotlib.pyplot as plt\n",
    "import numpy as np\n",
    "import pandas as pd\n",
    "import seaborn as sns "
   ]
  },
  {
   "cell_type": "code",
   "execution_count": 51,
   "id": "c21b60b7",
   "metadata": {},
   "outputs": [],
   "source": [
    "%matplotlib inline\n",
    "sns.set()"
   ]
  },
  {
   "cell_type": "code",
   "execution_count": 52,
   "id": "46ca993b",
   "metadata": {},
   "outputs": [],
   "source": [
    "new_iris = sns.load_dataset('iris')\n"
   ]
  },
  {
   "cell_type": "code",
   "execution_count": 64,
   "id": "55b33c01",
   "metadata": {},
   "outputs": [
    {
     "data": {
      "text/html": [
       "<div>\n",
       "<style scoped>\n",
       "    .dataframe tbody tr th:only-of-type {\n",
       "        vertical-align: middle;\n",
       "    }\n",
       "\n",
       "    .dataframe tbody tr th {\n",
       "        vertical-align: top;\n",
       "    }\n",
       "\n",
       "    .dataframe thead th {\n",
       "        text-align: right;\n",
       "    }\n",
       "</style>\n",
       "<table border=\"1\" class=\"dataframe\">\n",
       "  <thead>\n",
       "    <tr style=\"text-align: right;\">\n",
       "      <th></th>\n",
       "      <th>sepal_length</th>\n",
       "      <th>sepal_width</th>\n",
       "      <th>petal_length</th>\n",
       "      <th>petal_width</th>\n",
       "      <th>species</th>\n",
       "    </tr>\n",
       "  </thead>\n",
       "  <tbody>\n",
       "    <tr>\n",
       "      <th>0</th>\n",
       "      <td>5.1</td>\n",
       "      <td>3.5</td>\n",
       "      <td>1.4</td>\n",
       "      <td>0.2</td>\n",
       "      <td>setosa</td>\n",
       "    </tr>\n",
       "    <tr>\n",
       "      <th>1</th>\n",
       "      <td>4.9</td>\n",
       "      <td>3.0</td>\n",
       "      <td>1.4</td>\n",
       "      <td>0.2</td>\n",
       "      <td>setosa</td>\n",
       "    </tr>\n",
       "    <tr>\n",
       "      <th>2</th>\n",
       "      <td>4.7</td>\n",
       "      <td>3.2</td>\n",
       "      <td>1.3</td>\n",
       "      <td>0.2</td>\n",
       "      <td>setosa</td>\n",
       "    </tr>\n",
       "    <tr>\n",
       "      <th>3</th>\n",
       "      <td>4.6</td>\n",
       "      <td>3.1</td>\n",
       "      <td>1.5</td>\n",
       "      <td>0.2</td>\n",
       "      <td>setosa</td>\n",
       "    </tr>\n",
       "    <tr>\n",
       "      <th>4</th>\n",
       "      <td>5.0</td>\n",
       "      <td>3.6</td>\n",
       "      <td>1.4</td>\n",
       "      <td>0.2</td>\n",
       "      <td>setosa</td>\n",
       "    </tr>\n",
       "  </tbody>\n",
       "</table>\n",
       "</div>"
      ],
      "text/plain": [
       "   sepal_length  sepal_width  petal_length  petal_width species\n",
       "0           5.1          3.5           1.4          0.2  setosa\n",
       "1           4.9          3.0           1.4          0.2  setosa\n",
       "2           4.7          3.2           1.3          0.2  setosa\n",
       "3           4.6          3.1           1.5          0.2  setosa\n",
       "4           5.0          3.6           1.4          0.2  setosa"
      ]
     },
     "execution_count": 64,
     "metadata": {},
     "output_type": "execute_result"
    }
   ],
   "source": [
    "new_iris.head()"
   ]
  },
  {
   "cell_type": "code",
   "execution_count": 67,
   "id": "a3b82f49",
   "metadata": {},
   "outputs": [
    {
     "data": {
      "text/plain": [
       "<Axes: >"
      ]
     },
     "execution_count": 67,
     "metadata": {},
     "output_type": "execute_result"
    },
    {
     "data": {
      "image/png": "[encoded data removed]",
      "text/plain": [
       "<Figure size 640x480 with 1 Axes>"
      ]
     },
     "metadata": {},
     "output_type": "display_data"
    }
   ],
   "source": [
    "new_iris.petal_length.plot()\n"
   ]
  },
  {
   "cell_type": "code",
   "execution_count": 69,
   "id": "80eef267",
   "metadata": {},
   "outputs": [
    {
     "data": {
      "text/plain": [
       "<Axes: >"
      ]
     },
     "execution_count": 69,
     "metadata": {},
     "output_type": "execute_result"
    },
    {
     "data": {
      "image/png": "[encoded data removed]",
      "text/plain": [
       "<Figure size 640x480 with 1 Axes>"
      ]
     },
     "metadata": {},
     "output_type": "display_data"
    }
   ],
   "source": [
    "new_iris.plot()"
   ]
  },
  {
   "cell_type": "code",
   "execution_count": 70,
   "id": "156819d3",
   "metadata": {},
   "outputs": [],
   "source": [
    "new_d = pd.Series(np.random.rand(7), index = list('ABCDEFG'))"
   ]
  },
  {
   "cell_type": "code",
   "execution_count": 71,
   "id": "b5613860",
   "metadata": {},
   "outputs": [
    {
     "data": {
      "text/plain": [
       "A    0.908976\n",
       "B    0.673551\n",
       "C    0.394818\n",
       "D    0.674224\n",
       "E    0.331390\n",
       "F    0.786809\n",
       "G    0.726472\n",
       "dtype: float64"
      ]
     },
     "execution_count": 71,
     "metadata": {},
     "output_type": "execute_result"
    }
   ],
   "source": [
    "new_d"
   ]
  },
  {
   "cell_type": "code",
   "execution_count": 80,
   "id": "c55b8695",
   "metadata": {},
   "outputs": [
    {
     "data": {
      "text/plain": [
       "<Axes: >"
      ]
     },
     "execution_count": 80,
     "metadata": {},
     "output_type": "execute_result"
    },
    {
     "data": {
      "image/png": "[encoded data removed]",
      "text/plain": [
       "<Figure size 640x480 with 1 Axes>"
      ]
     },
     "metadata": {},
     "output_type": "display_data"
    }
   ],
   "source": [
    "new_d.plot.bar(color = 'g', alpha = 1)"
   ]
  },
  {
   "cell_type": "code",
   "execution_count": 82,
   "id": "56006608",
   "metadata": {},
   "outputs": [
    {
     "data": {
      "text/plain": [
       "<Axes: >"
      ]
     },
     "execution_count": 82,
     "metadata": {},
     "output_type": "execute_result"
    },
    {
     "data": {
      "image/png": "[encoded data removed]",
      "text/plain": [
       "<Figure size 640x480 with 1 Axes>"
      ]
     },
     "metadata": {},
     "output_type": "display_data"
    }
   ],
   "source": [
    "new_d.plot.barh(color = 'g', alpha = 1)  # hizontal ho gya bar graph "
   ]
  },
  {
   "cell_type": "code",
   "execution_count": 84,
   "id": "e530c775",
   "metadata": {},
   "outputs": [],
   "source": [
    "new_loading = sns.load_dataset('tips')"
   ]
  },
  {
   "cell_type": "code",
   "execution_count": 86,
   "id": "cc5279db",
   "metadata": {},
   "outputs": [
    {
     "data": {
      "text/html": [
       "<div>\n",
       "<style scoped>\n",
       "    .dataframe tbody tr th:only-of-type {\n",
       "        vertical-align: middle;\n",
       "    }\n",
       "\n",
       "    .dataframe tbody tr th {\n",
       "        vertical-align: top;\n",
       "    }\n",
       "\n",
       "    .dataframe thead th {\n",
       "        text-align: right;\n",
       "    }\n",
       "</style>\n",
       "<table border=\"1\" class=\"dataframe\">\n",
       "  <thead>\n",
       "    <tr style=\"text-align: right;\">\n",
       "      <th></th>\n",
       "      <th>total_bill</th>\n",
       "      <th>tip</th>\n",
       "      <th>sex</th>\n",
       "      <th>smoker</th>\n",
       "      <th>day</th>\n",
       "      <th>time</th>\n",
       "      <th>size</th>\n",
       "    </tr>\n",
       "  </thead>\n",
       "  <tbody>\n",
       "    <tr>\n",
       "      <th>0</th>\n",
       "      <td>16.99</td>\n",
       "      <td>1.01</td>\n",
       "      <td>Female</td>\n",
       "      <td>No</td>\n",
       "      <td>Sun</td>\n",
       "      <td>Dinner</td>\n",
       "      <td>2</td>\n",
       "    </tr>\n",
       "    <tr>\n",
       "      <th>1</th>\n",
       "      <td>10.34</td>\n",
       "      <td>1.66</td>\n",
       "      <td>Male</td>\n",
       "      <td>No</td>\n",
       "      <td>Sun</td>\n",
       "      <td>Dinner</td>\n",
       "      <td>3</td>\n",
       "    </tr>\n",
       "    <tr>\n",
       "      <th>2</th>\n",
       "      <td>21.01</td>\n",
       "      <td>3.50</td>\n",
       "      <td>Male</td>\n",
       "      <td>No</td>\n",
       "      <td>Sun</td>\n",
       "      <td>Dinner</td>\n",
       "      <td>3</td>\n",
       "    </tr>\n",
       "    <tr>\n",
       "      <th>3</th>\n",
       "      <td>23.68</td>\n",
       "      <td>3.31</td>\n",
       "      <td>Male</td>\n",
       "      <td>No</td>\n",
       "      <td>Sun</td>\n",
       "      <td>Dinner</td>\n",
       "      <td>2</td>\n",
       "    </tr>\n",
       "    <tr>\n",
       "      <th>4</th>\n",
       "      <td>24.59</td>\n",
       "      <td>3.61</td>\n",
       "      <td>Female</td>\n",
       "      <td>No</td>\n",
       "      <td>Sun</td>\n",
       "      <td>Dinner</td>\n",
       "      <td>4</td>\n",
       "    </tr>\n",
       "    <tr>\n",
       "      <th>5</th>\n",
       "      <td>25.29</td>\n",
       "      <td>4.71</td>\n",
       "      <td>Male</td>\n",
       "      <td>No</td>\n",
       "      <td>Sun</td>\n",
       "      <td>Dinner</td>\n",
       "      <td>4</td>\n",
       "    </tr>\n",
       "    <tr>\n",
       "      <th>6</th>\n",
       "      <td>8.77</td>\n",
       "      <td>2.00</td>\n",
       "      <td>Male</td>\n",
       "      <td>No</td>\n",
       "      <td>Sun</td>\n",
       "      <td>Dinner</td>\n",
       "      <td>2</td>\n",
       "    </tr>\n",
       "    <tr>\n",
       "      <th>7</th>\n",
       "      <td>26.88</td>\n",
       "      <td>3.12</td>\n",
       "      <td>Male</td>\n",
       "      <td>No</td>\n",
       "      <td>Sun</td>\n",
       "      <td>Dinner</td>\n",
       "      <td>4</td>\n",
       "    </tr>\n",
       "    <tr>\n",
       "      <th>8</th>\n",
       "      <td>15.04</td>\n",
       "      <td>1.96</td>\n",
       "      <td>Male</td>\n",
       "      <td>No</td>\n",
       "      <td>Sun</td>\n",
       "      <td>Dinner</td>\n",
       "      <td>2</td>\n",
       "    </tr>\n",
       "    <tr>\n",
       "      <th>9</th>\n",
       "      <td>14.78</td>\n",
       "      <td>3.23</td>\n",
       "      <td>Male</td>\n",
       "      <td>No</td>\n",
       "      <td>Sun</td>\n",
       "      <td>Dinner</td>\n",
       "      <td>2</td>\n",
       "    </tr>\n",
       "  </tbody>\n",
       "</table>\n",
       "</div>"
      ],
      "text/plain": [
       "   total_bill   tip     sex smoker  day    time  size\n",
       "0       16.99  1.01  Female     No  Sun  Dinner     2\n",
       "1       10.34  1.66    Male     No  Sun  Dinner     3\n",
       "2       21.01  3.50    Male     No  Sun  Dinner     3\n",
       "3       23.68  3.31    Male     No  Sun  Dinner     2\n",
       "4       24.59  3.61  Female     No  Sun  Dinner     4\n",
       "5       25.29  4.71    Male     No  Sun  Dinner     4\n",
       "6        8.77  2.00    Male     No  Sun  Dinner     2\n",
       "7       26.88  3.12    Male     No  Sun  Dinner     4\n",
       "8       15.04  1.96    Male     No  Sun  Dinner     2\n",
       "9       14.78  3.23    Male     No  Sun  Dinner     2"
      ]
     },
     "execution_count": 86,
     "metadata": {},
     "output_type": "execute_result"
    }
   ],
   "source": [
    "new_loading.head(10)"
   ]
  },
  {
   "cell_type": "code",
   "execution_count": 90,
   "id": "731ddd61",
   "metadata": {},
   "outputs": [],
   "source": [
    "size_of_day = pd.crosstab(new_loading[\"day\"], new_loading[\"size\"])\n",
    "\n"
   ]
  },
  {
   "cell_type": "code",
   "execution_count": 91,
   "id": "3cdc854f",
   "metadata": {},
   "outputs": [
    {
     "data": {
      "text/html": [
       "<div>\n",
       "<style scoped>\n",
       "    .dataframe tbody tr th:only-of-type {\n",
       "        vertical-align: middle;\n",
       "    }\n",
       "\n",
       "    .dataframe tbody tr th {\n",
       "        vertical-align: top;\n",
       "    }\n",
       "\n",
       "    .dataframe thead th {\n",
       "        text-align: right;\n",
       "    }\n",
       "</style>\n",
       "<table border=\"1\" class=\"dataframe\">\n",
       "  <thead>\n",
       "    <tr style=\"text-align: right;\">\n",
       "      <th>size</th>\n",
       "      <th>1</th>\n",
       "      <th>2</th>\n",
       "      <th>3</th>\n",
       "      <th>4</th>\n",
       "      <th>5</th>\n",
       "      <th>6</th>\n",
       "    </tr>\n",
       "    <tr>\n",
       "      <th>day</th>\n",
       "      <th></th>\n",
       "      <th></th>\n",
       "      <th></th>\n",
       "      <th></th>\n",
       "      <th></th>\n",
       "      <th></th>\n",
       "    </tr>\n",
       "  </thead>\n",
       "  <tbody>\n",
       "    <tr>\n",
       "      <th>Thur</th>\n",
       "      <td>1</td>\n",
       "      <td>48</td>\n",
       "      <td>4</td>\n",
       "      <td>5</td>\n",
       "      <td>1</td>\n",
       "      <td>3</td>\n",
       "    </tr>\n",
       "    <tr>\n",
       "      <th>Fri</th>\n",
       "      <td>1</td>\n",
       "      <td>16</td>\n",
       "      <td>1</td>\n",
       "      <td>1</td>\n",
       "      <td>0</td>\n",
       "      <td>0</td>\n",
       "    </tr>\n",
       "    <tr>\n",
       "      <th>Sat</th>\n",
       "      <td>2</td>\n",
       "      <td>53</td>\n",
       "      <td>18</td>\n",
       "      <td>13</td>\n",
       "      <td>1</td>\n",
       "      <td>0</td>\n",
       "    </tr>\n",
       "    <tr>\n",
       "      <th>Sun</th>\n",
       "      <td>0</td>\n",
       "      <td>39</td>\n",
       "      <td>15</td>\n",
       "      <td>18</td>\n",
       "      <td>3</td>\n",
       "      <td>1</td>\n",
       "    </tr>\n",
       "  </tbody>\n",
       "</table>\n",
       "</div>"
      ],
      "text/plain": [
       "size  1   2   3   4  5  6\n",
       "day                      \n",
       "Thur  1  48   4   5  1  3\n",
       "Fri   1  16   1   1  0  0\n",
       "Sat   2  53  18  13  1  0\n",
       "Sun   0  39  15  18  3  1"
      ]
     },
     "execution_count": 91,
     "metadata": {},
     "output_type": "execute_result"
    }
   ],
   "source": [
    "size_of_day"
   ]
  },
  {
   "cell_type": "code",
   "execution_count": 92,
   "id": "d3e54b66",
   "metadata": {},
   "outputs": [
    {
     "data": {
      "text/plain": [
       "<Axes: ylabel='day'>"
      ]
     },
     "execution_count": 92,
     "metadata": {},
     "output_type": "execute_result"
    },
    {
     "data": {
      "image/png": "[encoded data removed]",
      "text/plain": [
       "<Figure size 640x480 with 1 Axes>"
      ]
     },
     "metadata": {},
     "output_type": "display_data"
    }
   ],
   "source": [
    "size_of_day.plot.barh()"
   ]
  },
  {
   "cell_type": "code",
   "execution_count": 93,
   "id": "5bcb980e",
   "metadata": {},
   "outputs": [
    {
     "data": {
      "text/plain": [
       "<Axes: ylabel='Frequency'>"
      ]
     },
     "execution_count": 93,
     "metadata": {},
     "output_type": "execute_result"
    },
    {
     "data": {
      "image/png": "[encoded data removed]",
      "text/plain": [
       "<Figure size 640x480 with 1 Axes>"
      ]
     },
     "metadata": {},
     "output_type": "display_data"
    }
   ],
   "source": [
    "size_of_day.plot.hist()"
   ]
  },
  {
   "cell_type": "code",
   "execution_count": 94,
   "id": "ddcb3f5f",
   "metadata": {},
   "outputs": [
    {
     "data": {
      "text/plain": [
       "<Axes: xlabel='day'>"
      ]
     },
     "execution_count": 94,
     "metadata": {},
     "output_type": "execute_result"
    },
    {
     "data": {
      "image/png": "[encoded data removed]",
      "text/plain": [
       "<Figure size 640x480 with 1 Axes>"
      ]
     },
     "metadata": {},
     "output_type": "display_data"
    }
   ],
   "source": [
    "size_of_day.plot.bar()"
   ]
  },
  {
   "cell_type": "code",
   "execution_count": 95,
   "id": "9d6c99a1",
   "metadata": {},
   "outputs": [
    {
     "data": {
      "text/plain": [
       "<Axes: ylabel='day'>"
      ]
     },
     "execution_count": 95,
     "metadata": {},
     "output_type": "execute_result"
    },
    {
     "data": {
      "image/png": "[encoded data removed]",
      "text/plain": [
       "<Figure size 640x480 with 1 Axes>"
      ]
     },
     "metadata": {},
     "output_type": "display_data"
    }
   ],
   "source": [
    "size_of_day.plot.barh()"
   ]
  },
  {
   "cell_type": "code",
   "execution_count": 96,
   "id": "7a0888b3",
   "metadata": {},
   "outputs": [
    {
     "data": {
      "image/png": "[encoded data removed]",
      "text/plain": [
       "<Figure size 640x480 with 2 Axes>"
      ]
     },
     "metadata": {},
     "output_type": "display_data"
    }
   ],
   "source": [
    "import numpy as np\n",
    "import seaborn as sb\n",
    "import matplotlib.pyplot as plt\n",
    " \n",
    " \n",
    "new_data = np.random.rand(6, 8)\n",
    " \n",
    "ht_map = sb.heatmap(new_data)\n",
    "plt.show()"
   ]
  },
  {
   "cell_type": "code",
   "execution_count": 101,
   "id": "7e5a497f",
   "metadata": {},
   "outputs": [
    {
     "name": "stdout",
     "output_type": "stream",
     "text": [
      "    Column1   Column2\n",
      "0  1.000000  4.000000\n",
      "1  2.000000  5.666667\n",
      "2  2.333333  6.000000\n",
      "3  4.000000  7.000000\n"
     ]
    }
   ],
   "source": [
    "# Example data with missing values\n",
    "from sklearn.impute import SimpleImputer\n",
    "imputer = SimpleImputer(missing_values=np.nan, strategy='mean')\n",
    "\n",
    "import numpy as np\n",
    "import pandas as pd\n",
    "\n",
    "data = {'Column1': [1, 2, np.nan, 4],\n",
    "        'Column2': [4, np.nan, 6, 7]}\n",
    "df = pd.DataFrame(data)\n",
    "\n",
    "# Creating and fitting the imputer\n",
    "imputer = SimpleImputer(missing_values=np.nan, strategy='mean')\n",
    "df_filled = pd.DataFrame(imputer.fit_transform(df), columns=df.columns)\n",
    "\n",
    "print(df_filled)\n"
   ]
  },
  {
   "cell_type": "code",
   "execution_count": null,
   "id": "5f8aa479",
   "metadata": {},
   "outputs": [],
   "source": []
  }
 ],
 "metadata": {
  "kernelspec": {
   "display_name": "Python 3 (ipykernel)",
   "language": "python",
   "name": "python3"
  },
  "language_info": {
   "codemirror_mode": {
    "name": "ipython",
    "version": 3
   },
   "file_extension": ".py",
   "mimetype": "text/x-python",
   "name": "python",
   "nbconvert_exporter": "python",
   "pygments_lexer": "ipython3",
   "version": "3.10.9"
  }
 },
 "nbformat": 4,
 "nbformat_minor": 5
}
